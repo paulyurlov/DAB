{
 "cells": [
  {
   "cell_type": "markdown",
   "id": "grateful-attraction",
   "metadata": {
    "papermill": {
     "duration": 0.031819,
     "end_time": "2021-06-18T07:23:10.461825",
     "exception": false,
     "start_time": "2021-06-18T07:23:10.430006",
     "status": "completed"
    },
    "tags": []
   },
   "source": [
    "# Libraries"
   ]
  },
  {
   "cell_type": "code",
   "execution_count": 1,
   "id": "jewish-iraqi",
   "metadata": {
    "execution": {
     "iopub.execute_input": "2021-06-18T07:23:10.543022Z",
     "iopub.status.busy": "2021-06-18T07:23:10.542290Z",
     "iopub.status.idle": "2021-06-18T07:23:21.724183Z",
     "shell.execute_reply": "2021-06-18T07:23:21.723250Z",
     "shell.execute_reply.started": "2021-06-18T07:21:46.854387Z"
    },
    "papermill": {
     "duration": 11.231988,
     "end_time": "2021-06-18T07:23:21.724374",
     "exception": false,
     "start_time": "2021-06-18T07:23:10.492386",
     "status": "completed"
    },
    "tags": []
   },
   "outputs": [
    {
     "name": "stdout",
     "output_type": "stream",
     "text": [
      "Collecting pyforest\r\n",
      "  Downloading pyforest-1.1.0.tar.gz (15 kB)\r\n",
      "Building wheels for collected packages: pyforest\r\n",
      "  Building wheel for pyforest (setup.py) ... \u001b[?25l-\b \b\\\b \bdone\r\n",
      "\u001b[?25h  Created wheel for pyforest: filename=pyforest-1.1.0-py2.py3-none-any.whl size=14606 sha256=cdbfd823e0662edfa74d2fdaf8dd22dfa89b67443891e77ec8fa976e2ca7d3df\r\n",
      "  Stored in directory: /root/.cache/pip/wheels/61/1c/da/48e6c884142d485475d852d69d20a096aba5beceb338822893\r\n",
      "Successfully built pyforest\r\n",
      "Installing collected packages: pyforest\r\n",
      "Successfully installed pyforest-1.1.0\r\n"
     ]
    }
   ],
   "source": [
    "!pip3 install pyforest"
   ]
  },
  {
   "cell_type": "code",
   "execution_count": 2,
   "id": "outdoor-scheduling",
   "metadata": {
    "_cell_guid": "b1076dfc-b9ad-4769-8c92-a6c4dae69d19",
    "_uuid": "8f2839f25d086af736a60e9eeb907d3b93b6e0e5",
    "execution": {
     "iopub.execute_input": "2021-06-18T07:23:21.796103Z",
     "iopub.status.busy": "2021-06-18T07:23:21.795401Z",
     "iopub.status.idle": "2021-06-18T07:23:24.577137Z",
     "shell.execute_reply": "2021-06-18T07:23:24.576487Z",
     "shell.execute_reply.started": "2021-06-18T07:21:58.537997Z"
    },
    "papermill": {
     "duration": 2.820347,
     "end_time": "2021-06-18T07:23:24.577310",
     "exception": false,
     "start_time": "2021-06-18T07:23:21.756963",
     "status": "completed"
    },
    "tags": []
   },
   "outputs": [
    {
     "data": {
      "text/html": [
       "<style type='text/css'>\n",
       ".datatable table.frame { margin-bottom: 0; }\n",
       ".datatable table.frame thead { border-bottom: none; }\n",
       ".datatable table.frame tr.coltypes td {  color: #FFFFFF;  line-height: 6px;  padding: 0 0.5em;}\n",
       ".datatable .bool    { background: #DDDD99; }\n",
       ".datatable .object  { background: #565656; }\n",
       ".datatable .int     { background: #5D9E5D; }\n",
       ".datatable .float   { background: #4040CC; }\n",
       ".datatable .str     { background: #CC4040; }\n",
       ".datatable .row_index {  background: var(--jp-border-color3);  border-right: 1px solid var(--jp-border-color0);  color: var(--jp-ui-font-color3);  font-size: 9px;}\n",
       ".datatable .frame tr.coltypes .row_index {  background: var(--jp-border-color0);}\n",
       ".datatable th:nth-child(2) { padding-left: 12px; }\n",
       ".datatable .hellipsis {  color: var(--jp-cell-editor-border-color);}\n",
       ".datatable .vellipsis {  background: var(--jp-layout-color0);  color: var(--jp-cell-editor-border-color);}\n",
       ".datatable .na {  color: var(--jp-cell-editor-border-color);  font-size: 80%;}\n",
       ".datatable .footer { font-size: 9px; }\n",
       ".datatable .frame_dimensions {  background: var(--jp-border-color3);  border-top: 1px solid var(--jp-border-color0);  color: var(--jp-ui-font-color3);  display: inline-block;  opacity: 0.6;  padding: 1px 10px 1px 5px;}\n",
       "</style>\n"
      ],
      "text/plain": [
       "<IPython.core.display.HTML object>"
      ]
     },
     "metadata": {},
     "output_type": "display_data"
    },
    {
     "data": {
      "application/javascript": [
       "\n",
       "        if (window._pyforest_update_imports_cell) { window._pyforest_update_imports_cell('import matplotlib.pyplot as plt'); }\n",
       "    "
      ],
      "text/plain": [
       "<IPython.core.display.Javascript object>"
      ]
     },
     "metadata": {},
     "output_type": "display_data"
    }
   ],
   "source": [
    "import pyforest\n",
    "from datetime import datetime\n",
    "from category_encoders import TargetEncoder\n",
    "from lightgbm import LGBMClassifier, LGBMRegressor\n",
    "\n",
    "plt.style.use('ggplot')  # стиль для графиков\n",
    "%matplotlib inline"
   ]
  },
  {
   "cell_type": "markdown",
   "id": "civic-suspect",
   "metadata": {
    "papermill": {
     "duration": 0.034114,
     "end_time": "2021-06-18T07:23:24.645493",
     "exception": false,
     "start_time": "2021-06-18T07:23:24.611379",
     "status": "completed"
    },
    "tags": []
   },
   "source": [
    "# Load Data"
   ]
  },
  {
   "cell_type": "code",
   "execution_count": 3,
   "id": "nasty-excerpt",
   "metadata": {
    "execution": {
     "iopub.execute_input": "2021-06-18T07:23:24.721199Z",
     "iopub.status.busy": "2021-06-18T07:23:24.720299Z",
     "iopub.status.idle": "2021-06-18T07:23:38.756084Z",
     "shell.execute_reply": "2021-06-18T07:23:38.755427Z",
     "shell.execute_reply.started": "2021-06-18T07:22:01.278075Z"
    },
    "papermill": {
     "duration": 14.076809,
     "end_time": "2021-06-18T07:23:38.756280",
     "exception": false,
     "start_time": "2021-06-18T07:23:24.679471",
     "status": "completed"
    },
    "tags": []
   },
   "outputs": [
    {
     "data": {
      "application/javascript": [
       "\n",
       "        if (window._pyforest_update_imports_cell) { window._pyforest_update_imports_cell('import pandas as pd\\nimport matplotlib.pyplot as plt'); }\n",
       "    "
      ],
      "text/plain": [
       "<IPython.core.display.Javascript object>"
      ]
     },
     "metadata": {},
     "output_type": "display_data"
    },
    {
     "data": {
      "application/javascript": [
       "\n",
       "        if (window._pyforest_update_imports_cell) { window._pyforest_update_imports_cell('import pandas as pd\\nimport matplotlib.pyplot as plt'); }\n",
       "    "
      ],
      "text/plain": [
       "<IPython.core.display.Javascript object>"
      ]
     },
     "metadata": {},
     "output_type": "display_data"
    },
    {
     "data": {
      "text/html": [
       "<div>\n",
       "<style scoped>\n",
       "    .dataframe tbody tr th:only-of-type {\n",
       "        vertical-align: middle;\n",
       "    }\n",
       "\n",
       "    .dataframe tbody tr th {\n",
       "        vertical-align: top;\n",
       "    }\n",
       "\n",
       "    .dataframe thead th {\n",
       "        text-align: right;\n",
       "    }\n",
       "</style>\n",
       "<table border=\"1\" class=\"dataframe\">\n",
       "  <thead>\n",
       "    <tr style=\"text-align: right;\">\n",
       "      <th></th>\n",
       "      <th>PRODUCT_ID</th>\n",
       "      <th>STORE_LOCATION_ID</th>\n",
       "      <th>period_dt</th>\n",
       "      <th>demand</th>\n",
       "      <th>PRODUCT_LVL_NM8</th>\n",
       "      <th>PRODUCT_LVL_NM13</th>\n",
       "      <th>PRODUCT_DESC</th>\n",
       "      <th>STORE_LOCATION_LVL_NM2</th>\n",
       "      <th>STORE_LOCATION_LVL_NM7</th>\n",
       "      <th>ST_LOC_DIVISION_NM</th>\n",
       "      <th>ST_LOC_MNGMT_CLSTR</th>\n",
       "    </tr>\n",
       "  </thead>\n",
       "  <tbody>\n",
       "    <tr>\n",
       "      <th>2351490</th>\n",
       "      <td>614043</td>\n",
       "      <td>833805</td>\n",
       "      <td>17DEC2018</td>\n",
       "      <td>0.770</td>\n",
       "      <td>Сыры</td>\n",
       "      <td>Сыры твердые</td>\n",
       "      <td>Сыр РОССИЙСКИЙ фас. 1кг</td>\n",
       "      <td>59 ПЕРМСКИЙ КРАЙ</td>\n",
       "      <td>22_1119160 ЛЫСЬВА Г</td>\n",
       "      <td>UR</td>\n",
       "      <td>D_UR17</td>\n",
       "    </tr>\n",
       "    <tr>\n",
       "      <th>2351491</th>\n",
       "      <td>614043</td>\n",
       "      <td>833805</td>\n",
       "      <td>18DEC2018</td>\n",
       "      <td>0.346</td>\n",
       "      <td>Сыры</td>\n",
       "      <td>Сыры твердые</td>\n",
       "      <td>Сыр РОССИЙСКИЙ фас. 1кг</td>\n",
       "      <td>59 ПЕРМСКИЙ КРАЙ</td>\n",
       "      <td>22_1119160 ЛЫСЬВА Г</td>\n",
       "      <td>UR</td>\n",
       "      <td>D_UR17</td>\n",
       "    </tr>\n",
       "    <tr>\n",
       "      <th>2351492</th>\n",
       "      <td>614043</td>\n",
       "      <td>833805</td>\n",
       "      <td>20DEC2018</td>\n",
       "      <td>0.404</td>\n",
       "      <td>Сыры</td>\n",
       "      <td>Сыры твердые</td>\n",
       "      <td>Сыр РОССИЙСКИЙ фас. 1кг</td>\n",
       "      <td>59 ПЕРМСКИЙ КРАЙ</td>\n",
       "      <td>22_1119160 ЛЫСЬВА Г</td>\n",
       "      <td>UR</td>\n",
       "      <td>D_UR17</td>\n",
       "    </tr>\n",
       "    <tr>\n",
       "      <th>2351493</th>\n",
       "      <td>614043</td>\n",
       "      <td>833805</td>\n",
       "      <td>22DEC2018</td>\n",
       "      <td>0.387</td>\n",
       "      <td>Сыры</td>\n",
       "      <td>Сыры твердые</td>\n",
       "      <td>Сыр РОССИЙСКИЙ фас. 1кг</td>\n",
       "      <td>59 ПЕРМСКИЙ КРАЙ</td>\n",
       "      <td>22_1119160 ЛЫСЬВА Г</td>\n",
       "      <td>UR</td>\n",
       "      <td>D_UR17</td>\n",
       "    </tr>\n",
       "    <tr>\n",
       "      <th>2351494</th>\n",
       "      <td>614043</td>\n",
       "      <td>833805</td>\n",
       "      <td>24DEC2018</td>\n",
       "      <td>0.302</td>\n",
       "      <td>Сыры</td>\n",
       "      <td>Сыры твердые</td>\n",
       "      <td>Сыр РОССИЙСКИЙ фас. 1кг</td>\n",
       "      <td>59 ПЕРМСКИЙ КРАЙ</td>\n",
       "      <td>22_1119160 ЛЫСЬВА Г</td>\n",
       "      <td>UR</td>\n",
       "      <td>D_UR17</td>\n",
       "    </tr>\n",
       "  </tbody>\n",
       "</table>\n",
       "</div>"
      ],
      "text/plain": [
       "         PRODUCT_ID  STORE_LOCATION_ID  period_dt  demand PRODUCT_LVL_NM8  \\\n",
       "2351490      614043             833805  17DEC2018   0.770            Сыры   \n",
       "2351491      614043             833805  18DEC2018   0.346            Сыры   \n",
       "2351492      614043             833805  20DEC2018   0.404            Сыры   \n",
       "2351493      614043             833805  22DEC2018   0.387            Сыры   \n",
       "2351494      614043             833805  24DEC2018   0.302            Сыры   \n",
       "\n",
       "        PRODUCT_LVL_NM13             PRODUCT_DESC STORE_LOCATION_LVL_NM2  \\\n",
       "2351490     Сыры твердые  Сыр РОССИЙСКИЙ фас. 1кг       59 ПЕРМСКИЙ КРАЙ   \n",
       "2351491     Сыры твердые  Сыр РОССИЙСКИЙ фас. 1кг       59 ПЕРМСКИЙ КРАЙ   \n",
       "2351492     Сыры твердые  Сыр РОССИЙСКИЙ фас. 1кг       59 ПЕРМСКИЙ КРАЙ   \n",
       "2351493     Сыры твердые  Сыр РОССИЙСКИЙ фас. 1кг       59 ПЕРМСКИЙ КРАЙ   \n",
       "2351494     Сыры твердые  Сыр РОССИЙСКИЙ фас. 1кг       59 ПЕРМСКИЙ КРАЙ   \n",
       "\n",
       "        STORE_LOCATION_LVL_NM7 ST_LOC_DIVISION_NM ST_LOC_MNGMT_CLSTR  \n",
       "2351490    22_1119160 ЛЫСЬВА Г                 UR             D_UR17  \n",
       "2351491    22_1119160 ЛЫСЬВА Г                 UR             D_UR17  \n",
       "2351492    22_1119160 ЛЫСЬВА Г                 UR             D_UR17  \n",
       "2351493    22_1119160 ЛЫСЬВА Г                 UR             D_UR17  \n",
       "2351494    22_1119160 ЛЫСЬВА Г                 UR             D_UR17  "
      ]
     },
     "execution_count": 3,
     "metadata": {},
     "output_type": "execute_result"
    }
   ],
   "source": [
    "train = pd.read_csv('../input/adb-project-1/NPF1_TRAIN.csv', encoding='windows-1251', delimiter=\";\")\n",
    "test = pd.read_csv('../input/adb-project-1/NPF1_TEST.csv', delimiter=\";\")\n",
    "\n",
    "train = train[train['PRODUCT_LVL_NM13'] == 'Сыры твердые'].copy()\n",
    "test = test[test['PRODUCT_LVL_NM13'] == 'Сыры твердые'].copy()\n",
    "train.head()"
   ]
  },
  {
   "cell_type": "markdown",
   "id": "common-night",
   "metadata": {
    "papermill": {
     "duration": 0.03468,
     "end_time": "2021-06-18T07:23:38.826497",
     "exception": false,
     "start_time": "2021-06-18T07:23:38.791817",
     "status": "completed"
    },
    "tags": []
   },
   "source": [
    "# Data Anlysis"
   ]
  },
  {
   "cell_type": "code",
   "execution_count": 4,
   "id": "polish-victoria",
   "metadata": {
    "execution": {
     "iopub.execute_input": "2021-06-18T07:23:38.900301Z",
     "iopub.status.busy": "2021-06-18T07:23:38.899648Z",
     "iopub.status.idle": "2021-06-18T07:23:38.907320Z",
     "shell.execute_reply": "2021-06-18T07:23:38.906786Z",
     "shell.execute_reply.started": "2021-06-18T07:22:14.498310Z"
    },
    "papermill": {
     "duration": 0.045252,
     "end_time": "2021-06-18T07:23:38.907478",
     "exception": false,
     "start_time": "2021-06-18T07:23:38.862226",
     "status": "completed"
    },
    "tags": []
   },
   "outputs": [
    {
     "data": {
      "text/plain": [
       "PRODUCT_ID                  int64\n",
       "STORE_LOCATION_ID           int64\n",
       "period_dt                  object\n",
       "demand                    float64\n",
       "PRODUCT_LVL_NM8            object\n",
       "PRODUCT_LVL_NM13           object\n",
       "PRODUCT_DESC               object\n",
       "STORE_LOCATION_LVL_NM2     object\n",
       "STORE_LOCATION_LVL_NM7     object\n",
       "ST_LOC_DIVISION_NM         object\n",
       "ST_LOC_MNGMT_CLSTR         object\n",
       "dtype: object"
      ]
     },
     "execution_count": 4,
     "metadata": {},
     "output_type": "execute_result"
    }
   ],
   "source": [
    "train.dtypes"
   ]
  },
  {
   "cell_type": "code",
   "execution_count": 5,
   "id": "blind-tracker",
   "metadata": {
    "execution": {
     "iopub.execute_input": "2021-06-18T07:23:38.984360Z",
     "iopub.status.busy": "2021-06-18T07:23:38.983453Z",
     "iopub.status.idle": "2021-06-18T07:23:39.272333Z",
     "shell.execute_reply": "2021-06-18T07:23:39.271350Z",
     "shell.execute_reply.started": "2021-06-18T07:22:14.508174Z"
    },
    "papermill": {
     "duration": 0.330052,
     "end_time": "2021-06-18T07:23:39.272563",
     "exception": false,
     "start_time": "2021-06-18T07:23:38.942511",
     "status": "completed"
    },
    "tags": []
   },
   "outputs": [
    {
     "name": "stdout",
     "output_type": "stream",
     "text": [
      "<class 'pandas.core.frame.DataFrame'>\n",
      "Int64Index: 378035 entries, 2351490 to 2729524\n",
      "Data columns (total 11 columns):\n",
      " #   Column                  Non-Null Count   Dtype  \n",
      "---  ------                  --------------   -----  \n",
      " 0   PRODUCT_ID              378035 non-null  int64  \n",
      " 1   STORE_LOCATION_ID       378035 non-null  int64  \n",
      " 2   period_dt               378035 non-null  object \n",
      " 3   demand                  378035 non-null  float64\n",
      " 4   PRODUCT_LVL_NM8         378035 non-null  object \n",
      " 5   PRODUCT_LVL_NM13        378035 non-null  object \n",
      " 6   PRODUCT_DESC            378035 non-null  object \n",
      " 7   STORE_LOCATION_LVL_NM2  378035 non-null  object \n",
      " 8   STORE_LOCATION_LVL_NM7  378035 non-null  object \n",
      " 9   ST_LOC_DIVISION_NM      378035 non-null  object \n",
      " 10  ST_LOC_MNGMT_CLSTR      378035 non-null  object \n",
      "dtypes: float64(1), int64(2), object(8)\n",
      "memory usage: 34.6+ MB\n"
     ]
    }
   ],
   "source": [
    "train.info()"
   ]
  },
  {
   "cell_type": "code",
   "execution_count": 6,
   "id": "polished-livestock",
   "metadata": {
    "execution": {
     "iopub.execute_input": "2021-06-18T07:23:39.354429Z",
     "iopub.status.busy": "2021-06-18T07:23:39.353751Z",
     "iopub.status.idle": "2021-06-18T07:23:39.409407Z",
     "shell.execute_reply": "2021-06-18T07:23:39.410040Z",
     "shell.execute_reply.started": "2021-06-18T07:22:14.837343Z"
    },
    "papermill": {
     "duration": 0.101371,
     "end_time": "2021-06-18T07:23:39.410216",
     "exception": false,
     "start_time": "2021-06-18T07:23:39.308845",
     "status": "completed"
    },
    "tags": []
   },
   "outputs": [
    {
     "data": {
      "text/html": [
       "<div>\n",
       "<style scoped>\n",
       "    .dataframe tbody tr th:only-of-type {\n",
       "        vertical-align: middle;\n",
       "    }\n",
       "\n",
       "    .dataframe tbody tr th {\n",
       "        vertical-align: top;\n",
       "    }\n",
       "\n",
       "    .dataframe thead th {\n",
       "        text-align: right;\n",
       "    }\n",
       "</style>\n",
       "<table border=\"1\" class=\"dataframe\">\n",
       "  <thead>\n",
       "    <tr style=\"text-align: right;\">\n",
       "      <th></th>\n",
       "      <th>count</th>\n",
       "      <th>mean</th>\n",
       "      <th>std</th>\n",
       "      <th>min</th>\n",
       "      <th>25%</th>\n",
       "      <th>50%</th>\n",
       "      <th>75%</th>\n",
       "      <th>max</th>\n",
       "    </tr>\n",
       "  </thead>\n",
       "  <tbody>\n",
       "    <tr>\n",
       "      <th>PRODUCT_ID</th>\n",
       "      <td>378035.0</td>\n",
       "      <td>614043.000000</td>\n",
       "      <td>0.000000</td>\n",
       "      <td>614043.00</td>\n",
       "      <td>614043.000</td>\n",
       "      <td>614043.000</td>\n",
       "      <td>614043.000</td>\n",
       "      <td>614043.000</td>\n",
       "    </tr>\n",
       "    <tr>\n",
       "      <th>STORE_LOCATION_ID</th>\n",
       "      <td>378035.0</td>\n",
       "      <td>948061.720206</td>\n",
       "      <td>198965.140680</td>\n",
       "      <td>833805.00</td>\n",
       "      <td>837703.000</td>\n",
       "      <td>841842.000</td>\n",
       "      <td>846005.000</td>\n",
       "      <td>1404511.000</td>\n",
       "    </tr>\n",
       "    <tr>\n",
       "      <th>demand</th>\n",
       "      <td>378035.0</td>\n",
       "      <td>1.443949</td>\n",
       "      <td>1.473377</td>\n",
       "      <td>-0.53</td>\n",
       "      <td>0.579</td>\n",
       "      <td>1.005</td>\n",
       "      <td>1.807</td>\n",
       "      <td>50.438</td>\n",
       "    </tr>\n",
       "  </tbody>\n",
       "</table>\n",
       "</div>"
      ],
      "text/plain": [
       "                      count           mean            std        min  \\\n",
       "PRODUCT_ID         378035.0  614043.000000       0.000000  614043.00   \n",
       "STORE_LOCATION_ID  378035.0  948061.720206  198965.140680  833805.00   \n",
       "demand             378035.0       1.443949       1.473377      -0.53   \n",
       "\n",
       "                          25%         50%         75%          max  \n",
       "PRODUCT_ID         614043.000  614043.000  614043.000   614043.000  \n",
       "STORE_LOCATION_ID  837703.000  841842.000  846005.000  1404511.000  \n",
       "demand                  0.579       1.005       1.807       50.438  "
      ]
     },
     "execution_count": 6,
     "metadata": {},
     "output_type": "execute_result"
    }
   ],
   "source": [
    "train.describe().transpose()"
   ]
  },
  {
   "cell_type": "code",
   "execution_count": 7,
   "id": "dramatic-script",
   "metadata": {
    "execution": {
     "iopub.execute_input": "2021-06-18T07:23:39.488388Z",
     "iopub.status.busy": "2021-06-18T07:23:39.487714Z",
     "iopub.status.idle": "2021-06-18T07:23:39.548270Z",
     "shell.execute_reply": "2021-06-18T07:23:39.547603Z",
     "shell.execute_reply.started": "2021-06-18T07:22:14.900958Z"
    },
    "papermill": {
     "duration": 0.102209,
     "end_time": "2021-06-18T07:23:39.548414",
     "exception": false,
     "start_time": "2021-06-18T07:23:39.446205",
     "status": "completed"
    },
    "tags": []
   },
   "outputs": [
    {
     "data": {
      "text/html": [
       "<div>\n",
       "<style scoped>\n",
       "    .dataframe tbody tr th:only-of-type {\n",
       "        vertical-align: middle;\n",
       "    }\n",
       "\n",
       "    .dataframe tbody tr th {\n",
       "        vertical-align: top;\n",
       "    }\n",
       "\n",
       "    .dataframe thead th {\n",
       "        text-align: right;\n",
       "    }\n",
       "</style>\n",
       "<table border=\"1\" class=\"dataframe\">\n",
       "  <thead>\n",
       "    <tr style=\"text-align: right;\">\n",
       "      <th></th>\n",
       "      <th>count</th>\n",
       "      <th>mean</th>\n",
       "      <th>std</th>\n",
       "      <th>min</th>\n",
       "      <th>25%</th>\n",
       "      <th>50%</th>\n",
       "      <th>75%</th>\n",
       "      <th>max</th>\n",
       "    </tr>\n",
       "  </thead>\n",
       "  <tbody>\n",
       "    <tr>\n",
       "      <th>PRODUCT_ID</th>\n",
       "      <td>378035.0</td>\n",
       "      <td>614043.000000</td>\n",
       "      <td>0.000000</td>\n",
       "      <td>614043.0</td>\n",
       "      <td>614043.000</td>\n",
       "      <td>614043.000</td>\n",
       "      <td>614043.000</td>\n",
       "      <td>614043.000</td>\n",
       "    </tr>\n",
       "    <tr>\n",
       "      <th>STORE_LOCATION_ID</th>\n",
       "      <td>378035.0</td>\n",
       "      <td>948061.720206</td>\n",
       "      <td>198965.140680</td>\n",
       "      <td>833805.0</td>\n",
       "      <td>837703.000</td>\n",
       "      <td>841842.000</td>\n",
       "      <td>846005.000</td>\n",
       "      <td>1404511.000</td>\n",
       "    </tr>\n",
       "    <tr>\n",
       "      <th>demand</th>\n",
       "      <td>378035.0</td>\n",
       "      <td>1.443964</td>\n",
       "      <td>1.473361</td>\n",
       "      <td>0.0</td>\n",
       "      <td>0.579</td>\n",
       "      <td>1.005</td>\n",
       "      <td>1.807</td>\n",
       "      <td>50.438</td>\n",
       "    </tr>\n",
       "  </tbody>\n",
       "</table>\n",
       "</div>"
      ],
      "text/plain": [
       "                      count           mean            std       min  \\\n",
       "PRODUCT_ID         378035.0  614043.000000       0.000000  614043.0   \n",
       "STORE_LOCATION_ID  378035.0  948061.720206  198965.140680  833805.0   \n",
       "demand             378035.0       1.443964       1.473361       0.0   \n",
       "\n",
       "                          25%         50%         75%          max  \n",
       "PRODUCT_ID         614043.000  614043.000  614043.000   614043.000  \n",
       "STORE_LOCATION_ID  837703.000  841842.000  846005.000  1404511.000  \n",
       "demand                  0.579       1.005       1.807       50.438  "
      ]
     },
     "execution_count": 7,
     "metadata": {},
     "output_type": "execute_result"
    }
   ],
   "source": [
    "train.loc[train['demand'] < 0, 'demand'] = 0\n",
    "train.describe().transpose()"
   ]
  },
  {
   "cell_type": "code",
   "execution_count": 8,
   "id": "impressive-ireland",
   "metadata": {
    "execution": {
     "iopub.execute_input": "2021-06-18T07:23:39.630290Z",
     "iopub.status.busy": "2021-06-18T07:23:39.629052Z",
     "iopub.status.idle": "2021-06-18T07:23:39.654851Z",
     "shell.execute_reply": "2021-06-18T07:23:39.654333Z",
     "shell.execute_reply.started": "2021-06-18T07:22:14.966113Z"
    },
    "papermill": {
     "duration": 0.070095,
     "end_time": "2021-06-18T07:23:39.655036",
     "exception": false,
     "start_time": "2021-06-18T07:23:39.584941",
     "status": "completed"
    },
    "tags": []
   },
   "outputs": [
    {
     "data": {
      "text/html": [
       "<div>\n",
       "<style scoped>\n",
       "    .dataframe tbody tr th:only-of-type {\n",
       "        vertical-align: middle;\n",
       "    }\n",
       "\n",
       "    .dataframe tbody tr th {\n",
       "        vertical-align: top;\n",
       "    }\n",
       "\n",
       "    .dataframe thead th {\n",
       "        text-align: right;\n",
       "    }\n",
       "</style>\n",
       "<table border=\"1\" class=\"dataframe\">\n",
       "  <thead>\n",
       "    <tr style=\"text-align: right;\">\n",
       "      <th></th>\n",
       "      <th>count</th>\n",
       "      <th>mean</th>\n",
       "      <th>std</th>\n",
       "      <th>min</th>\n",
       "      <th>25%</th>\n",
       "      <th>50%</th>\n",
       "      <th>75%</th>\n",
       "      <th>max</th>\n",
       "    </tr>\n",
       "  </thead>\n",
       "  <tbody>\n",
       "    <tr>\n",
       "      <th>index</th>\n",
       "      <td>4929.0</td>\n",
       "      <td>3.382019e+04</td>\n",
       "      <td>17866.429215</td>\n",
       "      <td>25.0</td>\n",
       "      <td>18789.0</td>\n",
       "      <td>35886.0</td>\n",
       "      <td>47935.0</td>\n",
       "      <td>62022.0</td>\n",
       "    </tr>\n",
       "    <tr>\n",
       "      <th>PRODUCT_ID</th>\n",
       "      <td>4929.0</td>\n",
       "      <td>6.140430e+05</td>\n",
       "      <td>0.000000</td>\n",
       "      <td>614043.0</td>\n",
       "      <td>614043.0</td>\n",
       "      <td>614043.0</td>\n",
       "      <td>614043.0</td>\n",
       "      <td>614043.0</td>\n",
       "    </tr>\n",
       "    <tr>\n",
       "      <th>STORE_LOCATION_ID</th>\n",
       "      <td>4929.0</td>\n",
       "      <td>1.373488e+06</td>\n",
       "      <td>102426.041357</td>\n",
       "      <td>835025.0</td>\n",
       "      <td>1396932.0</td>\n",
       "      <td>1401575.0</td>\n",
       "      <td>1404250.0</td>\n",
       "      <td>1407173.0</td>\n",
       "    </tr>\n",
       "    <tr>\n",
       "      <th>demand</th>\n",
       "      <td>0.0</td>\n",
       "      <td>NaN</td>\n",
       "      <td>NaN</td>\n",
       "      <td>NaN</td>\n",
       "      <td>NaN</td>\n",
       "      <td>NaN</td>\n",
       "      <td>NaN</td>\n",
       "      <td>NaN</td>\n",
       "    </tr>\n",
       "  </tbody>\n",
       "</table>\n",
       "</div>"
      ],
      "text/plain": [
       "                    count          mean            std       min        25%  \\\n",
       "index              4929.0  3.382019e+04   17866.429215      25.0    18789.0   \n",
       "PRODUCT_ID         4929.0  6.140430e+05       0.000000  614043.0   614043.0   \n",
       "STORE_LOCATION_ID  4929.0  1.373488e+06  102426.041357  835025.0  1396932.0   \n",
       "demand                0.0           NaN            NaN       NaN        NaN   \n",
       "\n",
       "                         50%        75%        max  \n",
       "index                35886.0    47935.0    62022.0  \n",
       "PRODUCT_ID          614043.0   614043.0   614043.0  \n",
       "STORE_LOCATION_ID  1401575.0  1404250.0  1407173.0  \n",
       "demand                   NaN        NaN        NaN  "
      ]
     },
     "execution_count": 8,
     "metadata": {},
     "output_type": "execute_result"
    }
   ],
   "source": [
    "test.describe().transpose()"
   ]
  },
  {
   "cell_type": "code",
   "execution_count": 9,
   "id": "simple-architect",
   "metadata": {
    "execution": {
     "iopub.execute_input": "2021-06-18T07:23:39.733042Z",
     "iopub.status.busy": "2021-06-18T07:23:39.732441Z",
     "iopub.status.idle": "2021-06-18T07:23:40.008833Z",
     "shell.execute_reply": "2021-06-18T07:23:40.008077Z",
     "shell.execute_reply.started": "2021-06-18T07:22:15.002657Z"
    },
    "papermill": {
     "duration": 0.316694,
     "end_time": "2021-06-18T07:23:40.009001",
     "exception": false,
     "start_time": "2021-06-18T07:23:39.692307",
     "status": "completed"
    },
    "tags": []
   },
   "outputs": [
    {
     "data": {
      "text/plain": [
       "PRODUCT_ID                0\n",
       "STORE_LOCATION_ID         0\n",
       "period_dt                 0\n",
       "demand                    0\n",
       "PRODUCT_LVL_NM8           0\n",
       "PRODUCT_LVL_NM13          0\n",
       "PRODUCT_DESC              0\n",
       "STORE_LOCATION_LVL_NM2    0\n",
       "STORE_LOCATION_LVL_NM7    0\n",
       "ST_LOC_DIVISION_NM        0\n",
       "ST_LOC_MNGMT_CLSTR        0\n",
       "dtype: int64"
      ]
     },
     "execution_count": 9,
     "metadata": {},
     "output_type": "execute_result"
    }
   ],
   "source": [
    "train.isna().sum()"
   ]
  },
  {
   "cell_type": "code",
   "execution_count": 10,
   "id": "looking-advantage",
   "metadata": {
    "execution": {
     "iopub.execute_input": "2021-06-18T07:23:40.099787Z",
     "iopub.status.busy": "2021-06-18T07:23:40.098851Z",
     "iopub.status.idle": "2021-06-18T07:23:40.103739Z",
     "shell.execute_reply": "2021-06-18T07:23:40.103115Z",
     "shell.execute_reply.started": "2021-06-18T07:22:15.307004Z"
    },
    "papermill": {
     "duration": 0.055353,
     "end_time": "2021-06-18T07:23:40.103921",
     "exception": false,
     "start_time": "2021-06-18T07:23:40.048568",
     "status": "completed"
    },
    "tags": []
   },
   "outputs": [
    {
     "data": {
      "text/plain": [
       "index                        0\n",
       "PRODUCT_ID                   0\n",
       "STORE_LOCATION_ID            0\n",
       "period_dt                    0\n",
       "demand                    4929\n",
       "PRODUCT_LVL_NM8              0\n",
       "PRODUCT_LVL_NM13             0\n",
       "PRODUCT_DESC                 0\n",
       "STORE_LOCATION_LVL_NM2       0\n",
       "STORE_LOCATION_LVL_NM7       0\n",
       "ST_LOC_DIVISION_NM           0\n",
       "ST_LOC_MNGMT_CLSTR           0\n",
       "dtype: int64"
      ]
     },
     "execution_count": 10,
     "metadata": {},
     "output_type": "execute_result"
    }
   ],
   "source": [
    "test.isna().sum()"
   ]
  },
  {
   "cell_type": "code",
   "execution_count": 11,
   "id": "sharing-identity",
   "metadata": {
    "execution": {
     "iopub.execute_input": "2021-06-18T07:23:40.196406Z",
     "iopub.status.busy": "2021-06-18T07:23:40.195459Z",
     "iopub.status.idle": "2021-06-18T07:23:40.200257Z",
     "shell.execute_reply": "2021-06-18T07:23:40.199717Z",
     "shell.execute_reply.started": "2021-06-18T07:22:15.322520Z"
    },
    "papermill": {
     "duration": 0.057646,
     "end_time": "2021-06-18T07:23:40.200398",
     "exception": false,
     "start_time": "2021-06-18T07:23:40.142752",
     "status": "completed"
    },
    "tags": []
   },
   "outputs": [
    {
     "data": {
      "text/html": [
       "<div>\n",
       "<style scoped>\n",
       "    .dataframe tbody tr th:only-of-type {\n",
       "        vertical-align: middle;\n",
       "    }\n",
       "\n",
       "    .dataframe tbody tr th {\n",
       "        vertical-align: top;\n",
       "    }\n",
       "\n",
       "    .dataframe thead th {\n",
       "        text-align: right;\n",
       "    }\n",
       "</style>\n",
       "<table border=\"1\" class=\"dataframe\">\n",
       "  <thead>\n",
       "    <tr style=\"text-align: right;\">\n",
       "      <th></th>\n",
       "      <th>index</th>\n",
       "      <th>PRODUCT_ID</th>\n",
       "      <th>STORE_LOCATION_ID</th>\n",
       "      <th>period_dt</th>\n",
       "      <th>PRODUCT_LVL_NM8</th>\n",
       "      <th>PRODUCT_LVL_NM13</th>\n",
       "      <th>PRODUCT_DESC</th>\n",
       "      <th>STORE_LOCATION_LVL_NM2</th>\n",
       "      <th>STORE_LOCATION_LVL_NM7</th>\n",
       "      <th>ST_LOC_DIVISION_NM</th>\n",
       "      <th>ST_LOC_MNGMT_CLSTR</th>\n",
       "    </tr>\n",
       "  </thead>\n",
       "  <tbody>\n",
       "    <tr>\n",
       "      <th>25</th>\n",
       "      <td>25</td>\n",
       "      <td>614043</td>\n",
       "      <td>1406099</td>\n",
       "      <td>21JAN2019</td>\n",
       "      <td>Сыры</td>\n",
       "      <td>Сыры твердые</td>\n",
       "      <td>Сыр РОССИЙСКИЙ фас. 1кг</td>\n",
       "      <td>50 МОСКОВСКАЯ ОБЛ</td>\n",
       "      <td>22_1159030 КОРОЛЕВ Г</td>\n",
       "      <td>ZC</td>\n",
       "      <td>D_ZC06</td>\n",
       "    </tr>\n",
       "    <tr>\n",
       "      <th>29</th>\n",
       "      <td>29</td>\n",
       "      <td>614043</td>\n",
       "      <td>1400209</td>\n",
       "      <td>21JAN2019</td>\n",
       "      <td>Сыры</td>\n",
       "      <td>Сыры твердые</td>\n",
       "      <td>Сыр РОССИЙСКИЙ фас. 1кг</td>\n",
       "      <td>19 ХАКАСИЯ РЕСП</td>\n",
       "      <td>22_1234579 САЯНОГОРСК Г</td>\n",
       "      <td>SB</td>\n",
       "      <td>D_SB16</td>\n",
       "    </tr>\n",
       "    <tr>\n",
       "      <th>37</th>\n",
       "      <td>37</td>\n",
       "      <td>614043</td>\n",
       "      <td>1402562</td>\n",
       "      <td>21JAN2019</td>\n",
       "      <td>Сыры</td>\n",
       "      <td>Сыры твердые</td>\n",
       "      <td>Сыр РОССИЙСКИЙ фас. 1кг</td>\n",
       "      <td>74 ЧЕЛЯБИНСКАЯ ОБЛ</td>\n",
       "      <td>22_1170788 ЧЕЛЯБИНСК Г</td>\n",
       "      <td>UU</td>\n",
       "      <td>D_UU17</td>\n",
       "    </tr>\n",
       "    <tr>\n",
       "      <th>84</th>\n",
       "      <td>84</td>\n",
       "      <td>614043</td>\n",
       "      <td>1406240</td>\n",
       "      <td>21JAN2019</td>\n",
       "      <td>Сыры</td>\n",
       "      <td>Сыры твердые</td>\n",
       "      <td>Сыр РОССИЙСКИЙ фас. 1кг</td>\n",
       "      <td>74 ЧЕЛЯБИНСКАЯ ОБЛ</td>\n",
       "      <td>22_1053166 МИАСС Г</td>\n",
       "      <td>UU</td>\n",
       "      <td>D_UU03</td>\n",
       "    </tr>\n",
       "    <tr>\n",
       "      <th>95</th>\n",
       "      <td>95</td>\n",
       "      <td>614043</td>\n",
       "      <td>1406477</td>\n",
       "      <td>21JAN2019</td>\n",
       "      <td>Сыры</td>\n",
       "      <td>Сыры твердые</td>\n",
       "      <td>Сыр РОССИЙСКИЙ фас. 1кг</td>\n",
       "      <td>66 СВЕРДЛОВСКАЯ ОБЛ</td>\n",
       "      <td>22_1211190 КАЧКАНАР Г</td>\n",
       "      <td>UR</td>\n",
       "      <td>D_UR28</td>\n",
       "    </tr>\n",
       "  </tbody>\n",
       "</table>\n",
       "</div>"
      ],
      "text/plain": [
       "    index  PRODUCT_ID  STORE_LOCATION_ID  period_dt PRODUCT_LVL_NM8  \\\n",
       "25     25      614043            1406099  21JAN2019            Сыры   \n",
       "29     29      614043            1400209  21JAN2019            Сыры   \n",
       "37     37      614043            1402562  21JAN2019            Сыры   \n",
       "84     84      614043            1406240  21JAN2019            Сыры   \n",
       "95     95      614043            1406477  21JAN2019            Сыры   \n",
       "\n",
       "   PRODUCT_LVL_NM13             PRODUCT_DESC STORE_LOCATION_LVL_NM2  \\\n",
       "25     Сыры твердые  Сыр РОССИЙСКИЙ фас. 1кг      50 МОСКОВСКАЯ ОБЛ   \n",
       "29     Сыры твердые  Сыр РОССИЙСКИЙ фас. 1кг        19 ХАКАСИЯ РЕСП   \n",
       "37     Сыры твердые  Сыр РОССИЙСКИЙ фас. 1кг     74 ЧЕЛЯБИНСКАЯ ОБЛ   \n",
       "84     Сыры твердые  Сыр РОССИЙСКИЙ фас. 1кг     74 ЧЕЛЯБИНСКАЯ ОБЛ   \n",
       "95     Сыры твердые  Сыр РОССИЙСКИЙ фас. 1кг    66 СВЕРДЛОВСКАЯ ОБЛ   \n",
       "\n",
       "     STORE_LOCATION_LVL_NM7 ST_LOC_DIVISION_NM ST_LOC_MNGMT_CLSTR  \n",
       "25     22_1159030 КОРОЛЕВ Г                 ZC             D_ZC06  \n",
       "29  22_1234579 САЯНОГОРСК Г                 SB             D_SB16  \n",
       "37   22_1170788 ЧЕЛЯБИНСК Г                 UU             D_UU17  \n",
       "84       22_1053166 МИАСС Г                 UU             D_UU03  \n",
       "95    22_1211190 КАЧКАНАР Г                 UR             D_UR28  "
      ]
     },
     "execution_count": 11,
     "metadata": {},
     "output_type": "execute_result"
    }
   ],
   "source": [
    "del test['demand']\n",
    "test.head()"
   ]
  },
  {
   "cell_type": "code",
   "execution_count": 12,
   "id": "acknowledged-filename",
   "metadata": {
    "execution": {
     "iopub.execute_input": "2021-06-18T07:23:40.283295Z",
     "iopub.status.busy": "2021-06-18T07:23:40.282386Z",
     "iopub.status.idle": "2021-06-18T07:23:40.285874Z",
     "shell.execute_reply": "2021-06-18T07:23:40.285314Z",
     "shell.execute_reply.started": "2021-06-18T07:22:15.343217Z"
    },
    "papermill": {
     "duration": 0.047784,
     "end_time": "2021-06-18T07:23:40.286033",
     "exception": false,
     "start_time": "2021-06-18T07:23:40.238249",
     "status": "completed"
    },
    "tags": []
   },
   "outputs": [],
   "source": [
    "def get_dropped(df):\n",
    "    to_drop = []\n",
    "    for el in df.columns.tolist():\n",
    "        if len(df[el].unique()) == 1:\n",
    "            to_drop.append(el)\n",
    "        print(el)\n",
    "        print(df[el].unique())\n",
    "    return to_drop"
   ]
  },
  {
   "cell_type": "code",
   "execution_count": 13,
   "id": "every-discharge",
   "metadata": {
    "execution": {
     "iopub.execute_input": "2021-06-18T07:23:40.369074Z",
     "iopub.status.busy": "2021-06-18T07:23:40.368442Z",
     "iopub.status.idle": "2021-06-18T07:23:40.903066Z",
     "shell.execute_reply": "2021-06-18T07:23:40.902516Z",
     "shell.execute_reply.started": "2021-06-18T07:22:15.356978Z"
    },
    "papermill": {
     "duration": 0.578463,
     "end_time": "2021-06-18T07:23:40.903221",
     "exception": false,
     "start_time": "2021-06-18T07:23:40.324758",
     "status": "completed"
    },
    "tags": []
   },
   "outputs": [
    {
     "name": "stdout",
     "output_type": "stream",
     "text": [
      "PRODUCT_ID\n",
      "[614043]\n",
      "STORE_LOCATION_ID\n",
      "[ 833805  833807  833808 ... 1403895 1404250 1404511]\n",
      "period_dt\n",
      "['17DEC2018' '18DEC2018' '20DEC2018' '22DEC2018' '24DEC2018' '25DEC2018'\n",
      " '26DEC2018' '27DEC2018' '28DEC2018' '29DEC2018' '30DEC2018' '06JAN2019'\n",
      " '07JAN2019' '10JAN2019' '12JAN2019' '13JAN2019' '14JAN2019' '15JAN2019'\n",
      " '16JAN2019' '18JAN2019' '19JAN2019' '20JAN2019' '19DEC2018' '21DEC2018'\n",
      " '23DEC2018' '04JAN2019' '05JAN2019' '08JAN2019' '09JAN2019' '11JAN2019'\n",
      " '17JAN2019' '31DEC2018' '01JAN2019' '03JAN2019' '02JAN2019']\n",
      "demand\n",
      "[ 0.77   0.346  0.404 ...  8.345  8.788 18.328]\n",
      "PRODUCT_LVL_NM8\n",
      "['Сыры']\n",
      "PRODUCT_LVL_NM13\n",
      "['Сыры твердые']\n",
      "PRODUCT_DESC\n",
      "['Сыр РОССИЙСКИЙ фас. 1кг']\n",
      "STORE_LOCATION_LVL_NM2\n",
      "['59 ПЕРМСКИЙ КРАЙ' '72 ТЮМЕНСКАЯ ОБЛ' '66 СВЕРДЛОВСКАЯ ОБЛ'\n",
      " '74 ЧЕЛЯБИНСКАЯ ОБЛ' '43 КИРОВСКАЯ ОБЛ' '16 ТАТАРСТАН РЕСП'\n",
      " '18 УДМУРТСКАЯ РЕСП' '47 ЛЕНИНГРАДСКАЯ ОБЛ' '10 КАРЕЛИЯ РЕСП'\n",
      " '35 ВОЛОГОДСКАЯ ОБЛ' '60 ПСКОВСКАЯ ОБЛ' '58 ПЕНЗЕНСКАЯ ОБЛ'\n",
      " '63 САМАРСКАЯ ОБЛ' '46 КУРСКАЯ ОБЛ' '50 МОСКОВСКАЯ ОБЛ' '77 МОСКВА Г'\n",
      " '76 ЯРОСЛАВСКАЯ ОБЛ' '33 ВЛАДИМИРСКАЯ ОБЛ' '40 КАЛУЖСКАЯ ОБЛ'\n",
      " '62 РЯЗАНСКАЯ ОБЛ' '71 ТУЛЬСКАЯ ОБЛ' '61 РОСТОВСКАЯ ОБЛ'\n",
      " '52 НИЖЕГОРОДСКАЯ ОБЛ' '12 МАРИЙ ЭЛ РЕСП' '02 БАШКОРТОСТАН РЕСП'\n",
      " '53 НОВГОРОДСКАЯ ОБЛ' '86 ХАНТЫ-МАНСИЙСКИЙ АВТОНОМНЫЙ ОКРУГ - Ю'\n",
      " '48 ЛИПЕЦКАЯ ОБЛ' '26 СТАВРОПОЛЬСКИЙ КРАЙ' '69 ТВЕРСКАЯ ОБЛ'\n",
      " '67 СМОЛЕНСКАЯ ОБЛ' '21 ЧУВАШСКАЯ РЕСПУБЛИКА - ЧУВАШИЯ'\n",
      " '13 МОРДОВИЯ РЕСП' '29 АРХАНГЕЛЬСКАЯ ОБЛ' '73 УЛЬЯНОВСКАЯ ОБЛ'\n",
      " '64 САРАТОВСКАЯ ОБЛ' '36 ВОРОНЕЖСКАЯ ОБЛ' '68 ТАМБОВСКАЯ ОБЛ'\n",
      " '31 БЕЛГОРОДСКАЯ ОБЛ' '57 ОРЛОВСКАЯ ОБЛ' '32 БРЯНСКАЯ ОБЛ'\n",
      " '37 ИВАНОВСКАЯ ОБЛ' '78 САНКТ-ПЕТЕРБУРГ Г' '23 КРАСНОДАРСКИЙ КРАЙ'\n",
      " '44 КОСТРОМСКАЯ ОБЛ' '56 ОРЕНБУРГСКАЯ ОБЛ' '45 КУРГАНСКАЯ ОБЛ'\n",
      " '51 МУРМАНСКАЯ ОБЛ' '34 ВОЛГОГРАДСКАЯ ОБЛ' '19 ХАКАСИЯ РЕСП'\n",
      " '01 АДЫГЕЯ РЕСП' '30 АСТРАХАНСКАЯ ОБЛ' '42 КЕМЕРОВСКАЯ ОБЛ'\n",
      " '11 КОМИ РЕСП' '09 КАРАЧАЕВО-ЧЕРКЕССКАЯ РЕСП' '54 НОВОСИБИРСКАЯ ОБЛ'\n",
      " '55 ОМСКАЯ ОБЛ' '89 ЯМАЛО-НЕНЕЦКИЙ АО' '15 СЕВЕРНАЯ ОСЕТИЯ - АЛАНИЯ РЕСП'\n",
      " '22 АЛТАЙСКИЙ КРАЙ' '08 КАЛМЫКИЯ РЕСП' '70 ТОМСКАЯ ОБЛ'\n",
      " '07 КАБАРДИНО-БАЛКАРСКАЯ РЕСП' '04 АЛТАЙ РЕСП']\n",
      "STORE_LOCATION_LVL_NM7\n",
      "['22_1119160 ЛЫСЬВА Г' '22_1180983 ТЮМЕНЬ Г' '22_1075910 ЕКАТЕРИНБУРГ Г'\n",
      " ... '22_1219482 МЕНДЕЛЕЕВСКИЙ Р-Н' '22_1160975 КАБАКОВСКИЙ С/С'\n",
      " '22_1081095 ВАВОЖСКИЙ Р-Н']\n",
      "ST_LOC_DIVISION_NM\n",
      "['UR' 'UU' 'NG' 'TA' 'SZ' 'NV' 'VO' 'CH' 'ZD' 'ZB' 'ZC' 'NC' 'UG' 'ZA'\n",
      " 'SB']\n",
      "ST_LOC_MNGMT_CLSTR\n",
      "['D_UR17' 'D_UR29' 'D_UR24' 'D_UR26' 'D_UR33' 'D_UR27' 'D_UU03' 'D_UU02'\n",
      " 'D_UR34' 'D_NG06' 'D_TA26' 'D_TA25' 'D_TA34' 'D_SZ04' 'D_SZ25' 'D_SZ27'\n",
      " 'D_SZ23' 'D_SZ17' 'D_NV03' 'D_SZ06' 'D_VO47' 'D_VO48' 'D_UR28' 'D_UR32'\n",
      " 'D_UR31' 'D_CH28' 'D_CH26' 'D_ZD04' 'D_ZB08' 'D_ZD08' 'D_ZB07' 'D_NV01'\n",
      " 'D_ZB05' 'D_NV13' 'D_ZC01' 'D_NC07' 'D_NC08' 'D_NC02' 'D_UG17' 'D_UG02'\n",
      " 'D_UG01' 'D_UG19' 'D_UG18' 'D_NG22' 'D_TA31' 'D_NG18' 'D_TA30' 'D_NG20'\n",
      " 'D_UU11' 'D_SZ07' 'D_VO41' 'D_VO32' 'D_VO49' 'D_UR30' 'D_UR25' 'D_CH24'\n",
      " 'D_ZA06' 'D_NV12' 'D_ZB06' 'D_ZC08' 'D_ZC06' 'D_NC11' 'D_NC05' 'D_NC10'\n",
      " 'D_TA33' 'D_NG19' 'D_NG14' 'D_TA32' 'D_NG07' 'D_NG17' 'D_NG13' 'D_TA27'\n",
      " 'D_TA15' 'D_TA35' 'D_UU10' 'D_TA28' 'D_UU12' 'D_TA29' 'D_SZ22' 'D_NV16'\n",
      " 'D_SZ01' 'D_SZ20' 'D_NV09' 'D_VO54' 'D_VO51' 'D_VO55' 'D_VO50' 'D_UG24'\n",
      " 'D_UU13' 'D_VO24' 'D_UU04' 'D_UU01' 'D_CH23' 'D_CH34' 'D_CH33' 'D_CH05'\n",
      " 'D_CH29' 'D_CH35' 'D_CH36' 'D_CH31' 'D_CH32' 'D_CH30' 'D_CH25' 'D_CH22'\n",
      " 'D_CH27' 'D_NC14' 'D_ZD01' 'D_ZC04' 'D_ZD05' 'D_ZC02' 'D_ZC07' 'D_NV11'\n",
      " 'D_NV17' 'D_ZC03' 'D_ZD02' 'D_UG23' 'D_ZB03' 'D_NC09' 'D_NV14' 'D_UG25'\n",
      " 'D_NC12' 'D_ZD06' 'D_UU05' 'D_ZB02' 'D_ZD07' 'D_ZC09' 'D_SZ18' 'D_SZ21'\n",
      " 'D_SZ26' 'D_ZA05' 'D_ZA04' 'D_ZA01' 'D_ZA03' 'D_ZC10' 'D_NC01' 'D_NV15'\n",
      " 'D_ZC05' 'D_NV04' 'D_NV18' 'D_ZB09' 'D_ZD09' 'D_ZB01' 'D_NV10' 'D_ZB04'\n",
      " 'D_ZD03' 'D_VO53' 'D_ZA07' 'D_UG22' 'D_NG21' 'D_NV20' 'D_NV05' 'D_VO36'\n",
      " 'D_VO34' 'D_VO52' 'D_UU09' 'D_NC13' 'D_SZ19' 'D_UG20' 'D_SB05' 'D_VO37'\n",
      " 'D_ZA02' 'D_UG21' 'D_NG08' 'D_SB04' 'D_SB09' 'D_SB10' 'D_SB11' 'D_SB12'\n",
      " 'D_SB07' 'D_UU15' 'D_NV19' 'D_TA36' 'D_UR36' 'D_TA43' 'D_NG23' 'D_TA44'\n",
      " 'D_TA42' 'D_TA38' 'D_UR35' 'D_UG27' 'D_UG26' 'D_ZA09' 'D_TA37' 'D_ZA10'\n",
      " 'D_UU17' 'D_ZA08' 'D_TA39' 'D_TA40' 'D_NV21' 'D_UR39' 'D_TA41' 'D_SB13'\n",
      " 'D_UR37' 'D_UU16' 'D_UR38' 'D_ZA11' 'D_SZ28' 'D_UU14' 'D_NV22']\n"
     ]
    }
   ],
   "source": [
    "to_drop = get_dropped(train)"
   ]
  },
  {
   "cell_type": "code",
   "execution_count": 14,
   "id": "proof-storage",
   "metadata": {
    "execution": {
     "iopub.execute_input": "2021-06-18T07:23:40.988108Z",
     "iopub.status.busy": "2021-06-18T07:23:40.987433Z",
     "iopub.status.idle": "2021-06-18T07:23:40.991330Z",
     "shell.execute_reply": "2021-06-18T07:23:40.990619Z",
     "shell.execute_reply.started": "2021-06-18T07:22:15.941486Z"
    },
    "papermill": {
     "duration": 0.047487,
     "end_time": "2021-06-18T07:23:40.991470",
     "exception": false,
     "start_time": "2021-06-18T07:23:40.943983",
     "status": "completed"
    },
    "tags": []
   },
   "outputs": [
    {
     "data": {
      "text/plain": [
       "['PRODUCT_ID', 'PRODUCT_LVL_NM8', 'PRODUCT_LVL_NM13', 'PRODUCT_DESC']"
      ]
     },
     "execution_count": 14,
     "metadata": {},
     "output_type": "execute_result"
    }
   ],
   "source": [
    "to_drop"
   ]
  },
  {
   "cell_type": "code",
   "execution_count": 15,
   "id": "greek-occurrence",
   "metadata": {
    "execution": {
     "iopub.execute_input": "2021-06-18T07:23:41.077076Z",
     "iopub.status.busy": "2021-06-18T07:23:41.076396Z",
     "iopub.status.idle": "2021-06-18T07:23:41.093921Z",
     "shell.execute_reply": "2021-06-18T07:23:41.093385Z",
     "shell.execute_reply.started": "2021-06-18T07:22:15.949954Z"
    },
    "papermill": {
     "duration": 0.063073,
     "end_time": "2021-06-18T07:23:41.094075",
     "exception": false,
     "start_time": "2021-06-18T07:23:41.031002",
     "status": "completed"
    },
    "tags": []
   },
   "outputs": [],
   "source": [
    "train.drop(columns=to_drop, inplace=True)\n",
    "test.drop(columns=to_drop, inplace=True)"
   ]
  },
  {
   "cell_type": "code",
   "execution_count": 16,
   "id": "crude-married",
   "metadata": {
    "execution": {
     "iopub.execute_input": "2021-06-18T07:23:41.180199Z",
     "iopub.status.busy": "2021-06-18T07:23:41.179549Z",
     "iopub.status.idle": "2021-06-18T07:23:46.396386Z",
     "shell.execute_reply": "2021-06-18T07:23:46.395823Z",
     "shell.execute_reply.started": "2021-06-18T07:22:15.979308Z"
    },
    "papermill": {
     "duration": 5.262038,
     "end_time": "2021-06-18T07:23:46.396528",
     "exception": false,
     "start_time": "2021-06-18T07:23:41.134490",
     "status": "completed"
    },
    "tags": []
   },
   "outputs": [],
   "source": [
    "def transform_date(df):\n",
    "    df['date_'] = df['period_dt'].apply(lambda x : datetime.strptime(x, '%d%b%Y').date())\n",
    "\n",
    "    df['day_of_week'] =df['date_'].apply(lambda x : x.weekday())\n",
    "\n",
    "transform_date(train)\n",
    "transform_date(test)"
   ]
  },
  {
   "cell_type": "code",
   "execution_count": 17,
   "id": "abstract-socket",
   "metadata": {
    "execution": {
     "iopub.execute_input": "2021-06-18T07:23:46.483779Z",
     "iopub.status.busy": "2021-06-18T07:23:46.483127Z",
     "iopub.status.idle": "2021-06-18T07:23:46.903527Z",
     "shell.execute_reply": "2021-06-18T07:23:46.904028Z",
     "shell.execute_reply.started": "2021-06-18T07:22:21.168330Z"
    },
    "papermill": {
     "duration": 0.468261,
     "end_time": "2021-06-18T07:23:46.904196",
     "exception": false,
     "start_time": "2021-06-18T07:23:46.435935",
     "status": "completed"
    },
    "tags": []
   },
   "outputs": [
    {
     "data": {
      "application/javascript": [
       "\n",
       "        if (window._pyforest_update_imports_cell) { window._pyforest_update_imports_cell('import pandas as pd\\nimport matplotlib.pyplot as plt'); }\n",
       "    "
      ],
      "text/plain": [
       "<IPython.core.display.Javascript object>"
      ]
     },
     "metadata": {},
     "output_type": "display_data"
    },
    {
     "data": {
      "application/javascript": [
       "\n",
       "        if (window._pyforest_update_imports_cell) { window._pyforest_update_imports_cell('import pandas as pd\\nimport matplotlib.pyplot as plt'); }\n",
       "    "
      ],
      "text/plain": [
       "<IPython.core.display.Javascript object>"
      ]
     },
     "metadata": {},
     "output_type": "display_data"
    },
    {
     "data": {
      "application/javascript": [
       "\n",
       "        if (window._pyforest_update_imports_cell) { window._pyforest_update_imports_cell('import pandas as pd\\nimport matplotlib.pyplot as plt'); }\n",
       "    "
      ],
      "text/plain": [
       "<IPython.core.display.Javascript object>"
      ]
     },
     "metadata": {},
     "output_type": "display_data"
    },
    {
     "data": {
      "application/javascript": [
       "\n",
       "        if (window._pyforest_update_imports_cell) { window._pyforest_update_imports_cell('import pandas as pd\\nimport matplotlib.pyplot as plt'); }\n",
       "    "
      ],
      "text/plain": [
       "<IPython.core.display.Javascript object>"
      ]
     },
     "metadata": {},
     "output_type": "display_data"
    },
    {
     "data": {
      "application/javascript": [
       "\n",
       "        if (window._pyforest_update_imports_cell) { window._pyforest_update_imports_cell('import pandas as pd\\nimport matplotlib.pyplot as plt'); }\n",
       "    "
      ],
      "text/plain": [
       "<IPython.core.display.Javascript object>"
      ]
     },
     "metadata": {},
     "output_type": "display_data"
    },
    {
     "data": {
      "application/javascript": [
       "\n",
       "        if (window._pyforest_update_imports_cell) { window._pyforest_update_imports_cell('import pandas as pd\\nimport matplotlib.pyplot as plt'); }\n",
       "    "
      ],
      "text/plain": [
       "<IPython.core.display.Javascript object>"
      ]
     },
     "metadata": {},
     "output_type": "display_data"
    },
    {
     "data": {
      "application/javascript": [
       "\n",
       "        if (window._pyforest_update_imports_cell) { window._pyforest_update_imports_cell('import pandas as pd\\nimport matplotlib.pyplot as plt'); }\n",
       "    "
      ],
      "text/plain": [
       "<IPython.core.display.Javascript object>"
      ]
     },
     "metadata": {},
     "output_type": "display_data"
    },
    {
     "data": {
      "image/png": "[encoded data removed]",
      "text/plain": [
       "<Figure size 1080x720 with 1 Axes>"
      ]
     },
     "metadata": {
      "needs_background": "light"
     },
     "output_type": "display_data"
    }
   ],
   "source": [
    "support = train.groupby(['date_']).sum()\n",
    "support['date_'] = support.index\n",
    "plt.figure(figsize=(15, 10))\n",
    "plt.plot(support['date_'], support['demand'])\n",
    "plt.plot(support['date_'], [15000 for _ in range(support['date_'].shape[0])])\n",
    "labels = plt.xticks(rotation=50)\n",
    "plt.ylabel('Спрос')\n",
    "plt.xlabel('Дата')\n",
    "_ = plt.title('Сумма спроса по дате')"
   ]
  },
  {
   "cell_type": "code",
   "execution_count": 18,
   "id": "cutting-parish",
   "metadata": {
    "execution": {
     "iopub.execute_input": "2021-06-18T07:23:47.000443Z",
     "iopub.status.busy": "2021-06-18T07:23:46.999707Z",
     "iopub.status.idle": "2021-06-18T07:23:48.393235Z",
     "shell.execute_reply": "2021-06-18T07:23:48.392706Z",
     "shell.execute_reply.started": "2021-06-18T07:22:21.638450Z"
    },
    "papermill": {
     "duration": 1.443755,
     "end_time": "2021-06-18T07:23:48.393381",
     "exception": false,
     "start_time": "2021-06-18T07:23:46.949626",
     "status": "completed"
    },
    "tags": []
   },
   "outputs": [],
   "source": [
    "sup = train[['STORE_LOCATION_ID', 'date_']].groupby('STORE_LOCATION_ID').min() "
   ]
  },
  {
   "cell_type": "code",
   "execution_count": 19,
   "id": "coastal-suite",
   "metadata": {
    "execution": {
     "iopub.execute_input": "2021-06-18T07:23:48.489117Z",
     "iopub.status.busy": "2021-06-18T07:23:48.488364Z",
     "iopub.status.idle": "2021-06-18T07:23:48.928306Z",
     "shell.execute_reply": "2021-06-18T07:23:48.929106Z",
     "shell.execute_reply.started": "2021-06-18T07:22:23.299036Z"
    },
    "papermill": {
     "duration": 0.490404,
     "end_time": "2021-06-18T07:23:48.929282",
     "exception": false,
     "start_time": "2021-06-18T07:23:48.438878",
     "status": "completed"
    },
    "tags": []
   },
   "outputs": [
    {
     "data": {
      "application/javascript": [
       "\n",
       "        if (window._pyforest_update_imports_cell) { window._pyforest_update_imports_cell('import pandas as pd\\nimport matplotlib.pyplot as plt'); }\n",
       "    "
      ],
      "text/plain": [
       "<IPython.core.display.Javascript object>"
      ]
     },
     "metadata": {},
     "output_type": "display_data"
    },
    {
     "data": {
      "application/javascript": [
       "\n",
       "        if (window._pyforest_update_imports_cell) { window._pyforest_update_imports_cell('import pandas as pd\\nimport seaborn as sns\\nimport matplotlib.pyplot as plt'); }\n",
       "    "
      ],
      "text/plain": [
       "<IPython.core.display.Javascript object>"
      ]
     },
     "metadata": {},
     "output_type": "display_data"
    },
    {
     "name": "stderr",
     "output_type": "stream",
     "text": [
      "/opt/conda/lib/python3.7/site-packages/seaborn/_decorators.py:43: FutureWarning: Pass the following variable as a keyword arg: x. From version 0.12, the only valid positional argument will be `data`, and passing other arguments without an explicit keyword will result in an error or misinterpretation.\n",
      "  FutureWarning\n"
     ]
    },
    {
     "data": {
      "application/javascript": [
       "\n",
       "        if (window._pyforest_update_imports_cell) { window._pyforest_update_imports_cell('import pandas as pd\\nimport seaborn as sns\\nimport matplotlib.pyplot as plt'); }\n",
       "    "
      ],
      "text/plain": [
       "<IPython.core.display.Javascript object>"
      ]
     },
     "metadata": {},
     "output_type": "display_data"
    },
    {
     "data": {
      "text/plain": [
       "Text(0.5, 1.0, 'Минимальная дата продажи для каждого магазина')"
      ]
     },
     "execution_count": 19,
     "metadata": {},
     "output_type": "execute_result"
    },
    {
     "data": {
      "image/png": "[encoded data removed]",
      "text/plain": [
       "<Figure size 1080x720 with 1 Axes>"
      ]
     },
     "metadata": {
      "needs_background": "light"
     },
     "output_type": "display_data"
    }
   ],
   "source": [
    "plt.figure(figsize=(15,10))\n",
    "ax = sns.countplot(sup['date_'])\n",
    "_ = ax.set_xticklabels(ax.get_xticklabels(),rotation=90)\n",
    "plt.title('Минимальная дата продажи для каждого магазина')"
   ]
  },
  {
   "cell_type": "code",
   "execution_count": 20,
   "id": "regulated-thread",
   "metadata": {
    "execution": {
     "iopub.execute_input": "2021-06-18T07:23:49.033297Z",
     "iopub.status.busy": "2021-06-18T07:23:49.032188Z",
     "iopub.status.idle": "2021-06-18T07:23:50.446073Z",
     "shell.execute_reply": "2021-06-18T07:23:50.445503Z",
     "shell.execute_reply.started": "2021-06-18T07:22:23.790232Z"
    },
    "papermill": {
     "duration": 1.469133,
     "end_time": "2021-06-18T07:23:50.446224",
     "exception": false,
     "start_time": "2021-06-18T07:23:48.977091",
     "status": "completed"
    },
    "tags": []
   },
   "outputs": [],
   "source": [
    "sup = train[['STORE_LOCATION_ID', 'date_']].groupby('STORE_LOCATION_ID').min() \n",
    "tmp = dict(zip(sup.index.tolist(), sup['date_'].values.tolist()))\n",
    "def transe(x, sup):\n",
    "    if sup[x] >= datetime(2018, 12, 18, 0, 0, 0).date():\n",
    "        return 1\n",
    "    else:\n",
    "        return 0"
   ]
  },
  {
   "cell_type": "code",
   "execution_count": 21,
   "id": "structured-reggae",
   "metadata": {
    "execution": {
     "iopub.execute_input": "2021-06-18T07:23:50.547080Z",
     "iopub.status.busy": "2021-06-18T07:23:50.546431Z",
     "iopub.status.idle": "2021-06-18T07:23:51.093893Z",
     "shell.execute_reply": "2021-06-18T07:23:51.093208Z",
     "shell.execute_reply.started": "2021-06-18T07:22:25.309234Z"
    },
    "papermill": {
     "duration": 0.600518,
     "end_time": "2021-06-18T07:23:51.094042",
     "exception": false,
     "start_time": "2021-06-18T07:23:50.493524",
     "status": "completed"
    },
    "tags": []
   },
   "outputs": [],
   "source": [
    "train['take'] = train['STORE_LOCATION_ID'].apply(transe, args=[tmp])"
   ]
  },
  {
   "cell_type": "code",
   "execution_count": 22,
   "id": "injured-opposition",
   "metadata": {
    "execution": {
     "iopub.execute_input": "2021-06-18T07:23:51.195033Z",
     "iopub.status.busy": "2021-06-18T07:23:51.194106Z",
     "iopub.status.idle": "2021-06-18T07:23:51.241380Z",
     "shell.execute_reply": "2021-06-18T07:23:51.240743Z",
     "shell.execute_reply.started": "2021-06-18T07:22:25.870605Z"
    },
    "papermill": {
     "duration": 0.10014,
     "end_time": "2021-06-18T07:23:51.241528",
     "exception": false,
     "start_time": "2021-06-18T07:23:51.141388",
     "status": "completed"
    },
    "tags": []
   },
   "outputs": [
    {
     "data": {
      "text/html": [
       "<div>\n",
       "<style scoped>\n",
       "    .dataframe tbody tr th:only-of-type {\n",
       "        vertical-align: middle;\n",
       "    }\n",
       "\n",
       "    .dataframe tbody tr th {\n",
       "        vertical-align: top;\n",
       "    }\n",
       "\n",
       "    .dataframe thead th {\n",
       "        text-align: right;\n",
       "    }\n",
       "</style>\n",
       "<table border=\"1\" class=\"dataframe\">\n",
       "  <thead>\n",
       "    <tr style=\"text-align: right;\">\n",
       "      <th></th>\n",
       "      <th>STORE_LOCATION_ID</th>\n",
       "      <th>period_dt</th>\n",
       "      <th>demand</th>\n",
       "      <th>STORE_LOCATION_LVL_NM2</th>\n",
       "      <th>STORE_LOCATION_LVL_NM7</th>\n",
       "      <th>ST_LOC_DIVISION_NM</th>\n",
       "      <th>ST_LOC_MNGMT_CLSTR</th>\n",
       "      <th>date_</th>\n",
       "      <th>day_of_week</th>\n",
       "      <th>take</th>\n",
       "    </tr>\n",
       "  </thead>\n",
       "  <tbody>\n",
       "    <tr>\n",
       "      <th>2352175</th>\n",
       "      <td>833839</td>\n",
       "      <td>19DEC2018</td>\n",
       "      <td>0.577</td>\n",
       "      <td>35 ВОЛОГОДСКАЯ ОБЛ</td>\n",
       "      <td>22_1064048 ВОЛОГДА Г</td>\n",
       "      <td>NV</td>\n",
       "      <td>D_NV03</td>\n",
       "      <td>2018-12-19</td>\n",
       "      <td>2</td>\n",
       "      <td>1</td>\n",
       "    </tr>\n",
       "    <tr>\n",
       "      <th>2352176</th>\n",
       "      <td>833839</td>\n",
       "      <td>21DEC2018</td>\n",
       "      <td>0.613</td>\n",
       "      <td>35 ВОЛОГОДСКАЯ ОБЛ</td>\n",
       "      <td>22_1064048 ВОЛОГДА Г</td>\n",
       "      <td>NV</td>\n",
       "      <td>D_NV03</td>\n",
       "      <td>2018-12-21</td>\n",
       "      <td>4</td>\n",
       "      <td>1</td>\n",
       "    </tr>\n",
       "    <tr>\n",
       "      <th>2352177</th>\n",
       "      <td>833839</td>\n",
       "      <td>22DEC2018</td>\n",
       "      <td>1.213</td>\n",
       "      <td>35 ВОЛОГОДСКАЯ ОБЛ</td>\n",
       "      <td>22_1064048 ВОЛОГДА Г</td>\n",
       "      <td>NV</td>\n",
       "      <td>D_NV03</td>\n",
       "      <td>2018-12-22</td>\n",
       "      <td>5</td>\n",
       "      <td>1</td>\n",
       "    </tr>\n",
       "    <tr>\n",
       "      <th>2352178</th>\n",
       "      <td>833839</td>\n",
       "      <td>23DEC2018</td>\n",
       "      <td>0.385</td>\n",
       "      <td>35 ВОЛОГОДСКАЯ ОБЛ</td>\n",
       "      <td>22_1064048 ВОЛОГДА Г</td>\n",
       "      <td>NV</td>\n",
       "      <td>D_NV03</td>\n",
       "      <td>2018-12-23</td>\n",
       "      <td>6</td>\n",
       "      <td>1</td>\n",
       "    </tr>\n",
       "    <tr>\n",
       "      <th>2352179</th>\n",
       "      <td>833839</td>\n",
       "      <td>24DEC2018</td>\n",
       "      <td>0.530</td>\n",
       "      <td>35 ВОЛОГОДСКАЯ ОБЛ</td>\n",
       "      <td>22_1064048 ВОЛОГДА Г</td>\n",
       "      <td>NV</td>\n",
       "      <td>D_NV03</td>\n",
       "      <td>2018-12-24</td>\n",
       "      <td>0</td>\n",
       "      <td>1</td>\n",
       "    </tr>\n",
       "    <tr>\n",
       "      <th>...</th>\n",
       "      <td>...</td>\n",
       "      <td>...</td>\n",
       "      <td>...</td>\n",
       "      <td>...</td>\n",
       "      <td>...</td>\n",
       "      <td>...</td>\n",
       "      <td>...</td>\n",
       "      <td>...</td>\n",
       "      <td>...</td>\n",
       "      <td>...</td>\n",
       "    </tr>\n",
       "    <tr>\n",
       "      <th>2729520</th>\n",
       "      <td>1404250</td>\n",
       "      <td>18JAN2019</td>\n",
       "      <td>18.328</td>\n",
       "      <td>42 КЕМЕРОВСКАЯ ОБЛ</td>\n",
       "      <td>22_1184635 НОВОКУЗНЕЦК Г</td>\n",
       "      <td>SB</td>\n",
       "      <td>D_SB05</td>\n",
       "      <td>2019-01-18</td>\n",
       "      <td>4</td>\n",
       "      <td>1</td>\n",
       "    </tr>\n",
       "    <tr>\n",
       "      <th>2729521</th>\n",
       "      <td>1404250</td>\n",
       "      <td>19JAN2019</td>\n",
       "      <td>8.492</td>\n",
       "      <td>42 КЕМЕРОВСКАЯ ОБЛ</td>\n",
       "      <td>22_1184635 НОВОКУЗНЕЦК Г</td>\n",
       "      <td>SB</td>\n",
       "      <td>D_SB05</td>\n",
       "      <td>2019-01-19</td>\n",
       "      <td>5</td>\n",
       "      <td>1</td>\n",
       "    </tr>\n",
       "    <tr>\n",
       "      <th>2729522</th>\n",
       "      <td>1404250</td>\n",
       "      <td>20JAN2019</td>\n",
       "      <td>5.006</td>\n",
       "      <td>42 КЕМЕРОВСКАЯ ОБЛ</td>\n",
       "      <td>22_1184635 НОВОКУЗНЕЦК Г</td>\n",
       "      <td>SB</td>\n",
       "      <td>D_SB05</td>\n",
       "      <td>2019-01-20</td>\n",
       "      <td>6</td>\n",
       "      <td>1</td>\n",
       "    </tr>\n",
       "    <tr>\n",
       "      <th>2729523</th>\n",
       "      <td>1404511</td>\n",
       "      <td>18JAN2019</td>\n",
       "      <td>4.225</td>\n",
       "      <td>76 ЯРОСЛАВСКАЯ ОБЛ</td>\n",
       "      <td>22_1090629 ПЕРЕСЛАВСКИЙ Р-Н</td>\n",
       "      <td>NV</td>\n",
       "      <td>D_NV20</td>\n",
       "      <td>2019-01-18</td>\n",
       "      <td>4</td>\n",
       "      <td>1</td>\n",
       "    </tr>\n",
       "    <tr>\n",
       "      <th>2729524</th>\n",
       "      <td>1404511</td>\n",
       "      <td>19JAN2019</td>\n",
       "      <td>0.665</td>\n",
       "      <td>76 ЯРОСЛАВСКАЯ ОБЛ</td>\n",
       "      <td>22_1090629 ПЕРЕСЛАВСКИЙ Р-Н</td>\n",
       "      <td>NV</td>\n",
       "      <td>D_NV20</td>\n",
       "      <td>2019-01-19</td>\n",
       "      <td>5</td>\n",
       "      <td>1</td>\n",
       "    </tr>\n",
       "  </tbody>\n",
       "</table>\n",
       "<p>58426 rows × 10 columns</p>\n",
       "</div>"
      ],
      "text/plain": [
       "         STORE_LOCATION_ID  period_dt  demand STORE_LOCATION_LVL_NM2  \\\n",
       "2352175             833839  19DEC2018   0.577     35 ВОЛОГОДСКАЯ ОБЛ   \n",
       "2352176             833839  21DEC2018   0.613     35 ВОЛОГОДСКАЯ ОБЛ   \n",
       "2352177             833839  22DEC2018   1.213     35 ВОЛОГОДСКАЯ ОБЛ   \n",
       "2352178             833839  23DEC2018   0.385     35 ВОЛОГОДСКАЯ ОБЛ   \n",
       "2352179             833839  24DEC2018   0.530     35 ВОЛОГОДСКАЯ ОБЛ   \n",
       "...                    ...        ...     ...                    ...   \n",
       "2729520            1404250  18JAN2019  18.328     42 КЕМЕРОВСКАЯ ОБЛ   \n",
       "2729521            1404250  19JAN2019   8.492     42 КЕМЕРОВСКАЯ ОБЛ   \n",
       "2729522            1404250  20JAN2019   5.006     42 КЕМЕРОВСКАЯ ОБЛ   \n",
       "2729523            1404511  18JAN2019   4.225     76 ЯРОСЛАВСКАЯ ОБЛ   \n",
       "2729524            1404511  19JAN2019   0.665     76 ЯРОСЛАВСКАЯ ОБЛ   \n",
       "\n",
       "              STORE_LOCATION_LVL_NM7 ST_LOC_DIVISION_NM ST_LOC_MNGMT_CLSTR  \\\n",
       "2352175         22_1064048 ВОЛОГДА Г                 NV             D_NV03   \n",
       "2352176         22_1064048 ВОЛОГДА Г                 NV             D_NV03   \n",
       "2352177         22_1064048 ВОЛОГДА Г                 NV             D_NV03   \n",
       "2352178         22_1064048 ВОЛОГДА Г                 NV             D_NV03   \n",
       "2352179         22_1064048 ВОЛОГДА Г                 NV             D_NV03   \n",
       "...                              ...                ...                ...   \n",
       "2729520     22_1184635 НОВОКУЗНЕЦК Г                 SB             D_SB05   \n",
       "2729521     22_1184635 НОВОКУЗНЕЦК Г                 SB             D_SB05   \n",
       "2729522     22_1184635 НОВОКУЗНЕЦК Г                 SB             D_SB05   \n",
       "2729523  22_1090629 ПЕРЕСЛАВСКИЙ Р-Н                 NV             D_NV20   \n",
       "2729524  22_1090629 ПЕРЕСЛАВСКИЙ Р-Н                 NV             D_NV20   \n",
       "\n",
       "              date_  day_of_week  take  \n",
       "2352175  2018-12-19            2     1  \n",
       "2352176  2018-12-21            4     1  \n",
       "2352177  2018-12-22            5     1  \n",
       "2352178  2018-12-23            6     1  \n",
       "2352179  2018-12-24            0     1  \n",
       "...             ...          ...   ...  \n",
       "2729520  2019-01-18            4     1  \n",
       "2729521  2019-01-19            5     1  \n",
       "2729522  2019-01-20            6     1  \n",
       "2729523  2019-01-18            4     1  \n",
       "2729524  2019-01-19            5     1  \n",
       "\n",
       "[58426 rows x 10 columns]"
      ]
     },
     "execution_count": 22,
     "metadata": {},
     "output_type": "execute_result"
    }
   ],
   "source": [
    "train = train[train['take'] == 1].copy()\n",
    "train"
   ]
  },
  {
   "cell_type": "code",
   "execution_count": 23,
   "id": "necessary-pastor",
   "metadata": {
    "execution": {
     "iopub.execute_input": "2021-06-18T07:23:51.347143Z",
     "iopub.status.busy": "2021-06-18T07:23:51.344485Z",
     "iopub.status.idle": "2021-06-18T07:23:51.615507Z",
     "shell.execute_reply": "2021-06-18T07:23:51.614954Z",
     "shell.execute_reply.started": "2021-06-18T07:22:25.927781Z"
    },
    "papermill": {
     "duration": 0.326149,
     "end_time": "2021-06-18T07:23:51.615649",
     "exception": false,
     "start_time": "2021-06-18T07:23:51.289500",
     "status": "completed"
    },
    "tags": []
   },
   "outputs": [
    {
     "data": {
      "application/javascript": [
       "\n",
       "        if (window._pyforest_update_imports_cell) { window._pyforest_update_imports_cell('import pandas as pd\\nimport seaborn as sns\\nimport matplotlib.pyplot as plt'); }\n",
       "    "
      ],
      "text/plain": [
       "<IPython.core.display.Javascript object>"
      ]
     },
     "metadata": {},
     "output_type": "display_data"
    },
    {
     "data": {
      "application/javascript": [
       "\n",
       "        if (window._pyforest_update_imports_cell) { window._pyforest_update_imports_cell('import pandas as pd\\nimport seaborn as sns\\nimport matplotlib.pyplot as plt'); }\n",
       "    "
      ],
      "text/plain": [
       "<IPython.core.display.Javascript object>"
      ]
     },
     "metadata": {},
     "output_type": "display_data"
    },
    {
     "data": {
      "application/javascript": [
       "\n",
       "        if (window._pyforest_update_imports_cell) { window._pyforest_update_imports_cell('import pandas as pd\\nimport seaborn as sns\\nimport matplotlib.pyplot as plt'); }\n",
       "    "
      ],
      "text/plain": [
       "<IPython.core.display.Javascript object>"
      ]
     },
     "metadata": {},
     "output_type": "display_data"
    },
    {
     "data": {
      "application/javascript": [
       "\n",
       "        if (window._pyforest_update_imports_cell) { window._pyforest_update_imports_cell('import pandas as pd\\nimport seaborn as sns\\nimport matplotlib.pyplot as plt'); }\n",
       "    "
      ],
      "text/plain": [
       "<IPython.core.display.Javascript object>"
      ]
     },
     "metadata": {},
     "output_type": "display_data"
    },
    {
     "data": {
      "application/javascript": [
       "\n",
       "        if (window._pyforest_update_imports_cell) { window._pyforest_update_imports_cell('import pandas as pd\\nimport seaborn as sns\\nimport matplotlib.pyplot as plt'); }\n",
       "    "
      ],
      "text/plain": [
       "<IPython.core.display.Javascript object>"
      ]
     },
     "metadata": {},
     "output_type": "display_data"
    },
    {
     "data": {
      "application/javascript": [
       "\n",
       "        if (window._pyforest_update_imports_cell) { window._pyforest_update_imports_cell('import pandas as pd\\nimport seaborn as sns\\nimport matplotlib.pyplot as plt'); }\n",
       "    "
      ],
      "text/plain": [
       "<IPython.core.display.Javascript object>"
      ]
     },
     "metadata": {},
     "output_type": "display_data"
    },
    {
     "data": {
      "image/png": "[encoded data removed]",
      "text/plain": [
       "<Figure size 1080x720 with 1 Axes>"
      ]
     },
     "metadata": {
      "needs_background": "light"
     },
     "output_type": "display_data"
    }
   ],
   "source": [
    "del train['take']\n",
    "support = train.groupby(['date_']).sum()\n",
    "support['date_'] = support.index\n",
    "plt.figure(figsize=(15, 10))\n",
    "plt.plot(support['date_'], support['demand'])\n",
    "# plt.plot(support['date_'], [15000 for _ in range(support['date_'].shape[0])])\n",
    "labels = plt.xticks(rotation=50)\n",
    "plt.ylabel('Спрос')\n",
    "plt.xlabel('Дата')\n",
    "_ = plt.title('Сумма спроса по дате')"
   ]
  },
  {
   "cell_type": "code",
   "execution_count": 24,
   "id": "featured-trailer",
   "metadata": {
    "execution": {
     "iopub.execute_input": "2021-06-18T07:23:51.743826Z",
     "iopub.status.busy": "2021-06-18T07:23:51.743130Z",
     "iopub.status.idle": "2021-06-18T07:23:51.770713Z",
     "shell.execute_reply": "2021-06-18T07:23:51.770107Z",
     "shell.execute_reply.started": "2021-06-18T07:22:26.244114Z"
    },
    "papermill": {
     "duration": 0.101745,
     "end_time": "2021-06-18T07:23:51.770878",
     "exception": false,
     "start_time": "2021-06-18T07:23:51.669133",
     "status": "completed"
    },
    "tags": []
   },
   "outputs": [
    {
     "data": {
      "text/html": [
       "<div>\n",
       "<style scoped>\n",
       "    .dataframe tbody tr th:only-of-type {\n",
       "        vertical-align: middle;\n",
       "    }\n",
       "\n",
       "    .dataframe tbody tr th {\n",
       "        vertical-align: top;\n",
       "    }\n",
       "\n",
       "    .dataframe thead th {\n",
       "        text-align: right;\n",
       "    }\n",
       "</style>\n",
       "<table border=\"1\" class=\"dataframe\">\n",
       "  <thead>\n",
       "    <tr style=\"text-align: right;\">\n",
       "      <th></th>\n",
       "      <th>STORE_LOCATION_ID</th>\n",
       "      <th>period_dt</th>\n",
       "      <th>demand</th>\n",
       "      <th>STORE_LOCATION_LVL_NM2</th>\n",
       "      <th>STORE_LOCATION_LVL_NM7</th>\n",
       "      <th>ST_LOC_DIVISION_NM</th>\n",
       "      <th>ST_LOC_MNGMT_CLSTR</th>\n",
       "      <th>date_</th>\n",
       "      <th>day_of_week</th>\n",
       "    </tr>\n",
       "  </thead>\n",
       "  <tbody>\n",
       "    <tr>\n",
       "      <th>2352175</th>\n",
       "      <td>833839</td>\n",
       "      <td>19DEC2018</td>\n",
       "      <td>0.577</td>\n",
       "      <td>35 ВОЛОГОДСКАЯ ОБЛ</td>\n",
       "      <td>22_1064048 ВОЛОГДА Г</td>\n",
       "      <td>NV</td>\n",
       "      <td>D_NV03</td>\n",
       "      <td>2018-12-19</td>\n",
       "      <td>2</td>\n",
       "    </tr>\n",
       "    <tr>\n",
       "      <th>2352176</th>\n",
       "      <td>833839</td>\n",
       "      <td>21DEC2018</td>\n",
       "      <td>0.613</td>\n",
       "      <td>35 ВОЛОГОДСКАЯ ОБЛ</td>\n",
       "      <td>22_1064048 ВОЛОГДА Г</td>\n",
       "      <td>NV</td>\n",
       "      <td>D_NV03</td>\n",
       "      <td>2018-12-21</td>\n",
       "      <td>4</td>\n",
       "    </tr>\n",
       "    <tr>\n",
       "      <th>2352177</th>\n",
       "      <td>833839</td>\n",
       "      <td>22DEC2018</td>\n",
       "      <td>1.213</td>\n",
       "      <td>35 ВОЛОГОДСКАЯ ОБЛ</td>\n",
       "      <td>22_1064048 ВОЛОГДА Г</td>\n",
       "      <td>NV</td>\n",
       "      <td>D_NV03</td>\n",
       "      <td>2018-12-22</td>\n",
       "      <td>5</td>\n",
       "    </tr>\n",
       "    <tr>\n",
       "      <th>2352178</th>\n",
       "      <td>833839</td>\n",
       "      <td>23DEC2018</td>\n",
       "      <td>0.385</td>\n",
       "      <td>35 ВОЛОГОДСКАЯ ОБЛ</td>\n",
       "      <td>22_1064048 ВОЛОГДА Г</td>\n",
       "      <td>NV</td>\n",
       "      <td>D_NV03</td>\n",
       "      <td>2018-12-23</td>\n",
       "      <td>6</td>\n",
       "    </tr>\n",
       "    <tr>\n",
       "      <th>2352179</th>\n",
       "      <td>833839</td>\n",
       "      <td>24DEC2018</td>\n",
       "      <td>0.530</td>\n",
       "      <td>35 ВОЛОГОДСКАЯ ОБЛ</td>\n",
       "      <td>22_1064048 ВОЛОГДА Г</td>\n",
       "      <td>NV</td>\n",
       "      <td>D_NV03</td>\n",
       "      <td>2018-12-24</td>\n",
       "      <td>0</td>\n",
       "    </tr>\n",
       "    <tr>\n",
       "      <th>...</th>\n",
       "      <td>...</td>\n",
       "      <td>...</td>\n",
       "      <td>...</td>\n",
       "      <td>...</td>\n",
       "      <td>...</td>\n",
       "      <td>...</td>\n",
       "      <td>...</td>\n",
       "      <td>...</td>\n",
       "      <td>...</td>\n",
       "    </tr>\n",
       "    <tr>\n",
       "      <th>2729520</th>\n",
       "      <td>1404250</td>\n",
       "      <td>18JAN2019</td>\n",
       "      <td>18.328</td>\n",
       "      <td>42 КЕМЕРОВСКАЯ ОБЛ</td>\n",
       "      <td>22_1184635 НОВОКУЗНЕЦК Г</td>\n",
       "      <td>SB</td>\n",
       "      <td>D_SB05</td>\n",
       "      <td>2019-01-18</td>\n",
       "      <td>4</td>\n",
       "    </tr>\n",
       "    <tr>\n",
       "      <th>2729521</th>\n",
       "      <td>1404250</td>\n",
       "      <td>19JAN2019</td>\n",
       "      <td>8.492</td>\n",
       "      <td>42 КЕМЕРОВСКАЯ ОБЛ</td>\n",
       "      <td>22_1184635 НОВОКУЗНЕЦК Г</td>\n",
       "      <td>SB</td>\n",
       "      <td>D_SB05</td>\n",
       "      <td>2019-01-19</td>\n",
       "      <td>5</td>\n",
       "    </tr>\n",
       "    <tr>\n",
       "      <th>2729522</th>\n",
       "      <td>1404250</td>\n",
       "      <td>20JAN2019</td>\n",
       "      <td>5.006</td>\n",
       "      <td>42 КЕМЕРОВСКАЯ ОБЛ</td>\n",
       "      <td>22_1184635 НОВОКУЗНЕЦК Г</td>\n",
       "      <td>SB</td>\n",
       "      <td>D_SB05</td>\n",
       "      <td>2019-01-20</td>\n",
       "      <td>6</td>\n",
       "    </tr>\n",
       "    <tr>\n",
       "      <th>2729523</th>\n",
       "      <td>1404511</td>\n",
       "      <td>18JAN2019</td>\n",
       "      <td>4.225</td>\n",
       "      <td>76 ЯРОСЛАВСКАЯ ОБЛ</td>\n",
       "      <td>22_1090629 ПЕРЕСЛАВСКИЙ Р-Н</td>\n",
       "      <td>NV</td>\n",
       "      <td>D_NV20</td>\n",
       "      <td>2019-01-18</td>\n",
       "      <td>4</td>\n",
       "    </tr>\n",
       "    <tr>\n",
       "      <th>2729524</th>\n",
       "      <td>1404511</td>\n",
       "      <td>19JAN2019</td>\n",
       "      <td>0.665</td>\n",
       "      <td>76 ЯРОСЛАВСКАЯ ОБЛ</td>\n",
       "      <td>22_1090629 ПЕРЕСЛАВСКИЙ Р-Н</td>\n",
       "      <td>NV</td>\n",
       "      <td>D_NV20</td>\n",
       "      <td>2019-01-19</td>\n",
       "      <td>5</td>\n",
       "    </tr>\n",
       "  </tbody>\n",
       "</table>\n",
       "<p>37772 rows × 9 columns</p>\n",
       "</div>"
      ],
      "text/plain": [
       "         STORE_LOCATION_ID  period_dt  demand STORE_LOCATION_LVL_NM2  \\\n",
       "2352175             833839  19DEC2018   0.577     35 ВОЛОГОДСКАЯ ОБЛ   \n",
       "2352176             833839  21DEC2018   0.613     35 ВОЛОГОДСКАЯ ОБЛ   \n",
       "2352177             833839  22DEC2018   1.213     35 ВОЛОГОДСКАЯ ОБЛ   \n",
       "2352178             833839  23DEC2018   0.385     35 ВОЛОГОДСКАЯ ОБЛ   \n",
       "2352179             833839  24DEC2018   0.530     35 ВОЛОГОДСКАЯ ОБЛ   \n",
       "...                    ...        ...     ...                    ...   \n",
       "2729520            1404250  18JAN2019  18.328     42 КЕМЕРОВСКАЯ ОБЛ   \n",
       "2729521            1404250  19JAN2019   8.492     42 КЕМЕРОВСКАЯ ОБЛ   \n",
       "2729522            1404250  20JAN2019   5.006     42 КЕМЕРОВСКАЯ ОБЛ   \n",
       "2729523            1404511  18JAN2019   4.225     76 ЯРОСЛАВСКАЯ ОБЛ   \n",
       "2729524            1404511  19JAN2019   0.665     76 ЯРОСЛАВСКАЯ ОБЛ   \n",
       "\n",
       "              STORE_LOCATION_LVL_NM7 ST_LOC_DIVISION_NM ST_LOC_MNGMT_CLSTR  \\\n",
       "2352175         22_1064048 ВОЛОГДА Г                 NV             D_NV03   \n",
       "2352176         22_1064048 ВОЛОГДА Г                 NV             D_NV03   \n",
       "2352177         22_1064048 ВОЛОГДА Г                 NV             D_NV03   \n",
       "2352178         22_1064048 ВОЛОГДА Г                 NV             D_NV03   \n",
       "2352179         22_1064048 ВОЛОГДА Г                 NV             D_NV03   \n",
       "...                              ...                ...                ...   \n",
       "2729520     22_1184635 НОВОКУЗНЕЦК Г                 SB             D_SB05   \n",
       "2729521     22_1184635 НОВОКУЗНЕЦК Г                 SB             D_SB05   \n",
       "2729522     22_1184635 НОВОКУЗНЕЦК Г                 SB             D_SB05   \n",
       "2729523  22_1090629 ПЕРЕСЛАВСКИЙ Р-Н                 NV             D_NV20   \n",
       "2729524  22_1090629 ПЕРЕСЛАВСКИЙ Р-Н                 NV             D_NV20   \n",
       "\n",
       "              date_  day_of_week  \n",
       "2352175  2018-12-19            2  \n",
       "2352176  2018-12-21            4  \n",
       "2352177  2018-12-22            5  \n",
       "2352178  2018-12-23            6  \n",
       "2352179  2018-12-24            0  \n",
       "...             ...          ...  \n",
       "2729520  2019-01-18            4  \n",
       "2729521  2019-01-19            5  \n",
       "2729522  2019-01-20            6  \n",
       "2729523  2019-01-18            4  \n",
       "2729524  2019-01-19            5  \n",
       "\n",
       "[37772 rows x 9 columns]"
      ]
     },
     "execution_count": 24,
     "metadata": {},
     "output_type": "execute_result"
    }
   ],
   "source": [
    "train = train[(train.date_ < datetime(2018, 12, 25, 0, 0).date()) | (train.date_ > datetime(2019, 1, 5, 0, 0).date())].copy()\n",
    "train"
   ]
  },
  {
   "cell_type": "code",
   "execution_count": 25,
   "id": "surprising-bulgarian",
   "metadata": {
    "execution": {
     "iopub.execute_input": "2021-06-18T07:23:51.900431Z",
     "iopub.status.busy": "2021-06-18T07:23:51.899549Z",
     "iopub.status.idle": "2021-06-18T07:23:52.077765Z",
     "shell.execute_reply": "2021-06-18T07:23:52.078219Z",
     "shell.execute_reply.started": "2021-06-18T07:22:26.297368Z"
    },
    "papermill": {
     "duration": 0.241516,
     "end_time": "2021-06-18T07:23:52.078437",
     "exception": false,
     "start_time": "2021-06-18T07:23:51.836921",
     "status": "completed"
    },
    "tags": []
   },
   "outputs": [
    {
     "data": {
      "application/javascript": [
       "\n",
       "        if (window._pyforest_update_imports_cell) { window._pyforest_update_imports_cell('import pandas as pd\\nimport seaborn as sns\\nimport matplotlib.pyplot as plt'); }\n",
       "    "
      ],
      "text/plain": [
       "<IPython.core.display.Javascript object>"
      ]
     },
     "metadata": {},
     "output_type": "display_data"
    },
    {
     "data": {
      "image/png": "[encoded data removed]",
      "text/plain": [
       "<Figure size 432x288 with 1 Axes>"
      ]
     },
     "metadata": {
      "needs_background": "light"
     },
     "output_type": "display_data"
    }
   ],
   "source": [
    "target = train['demand']\n",
    "_ = plt.plot([i for i in range(target.shape[0])], target)"
   ]
  },
  {
   "cell_type": "code",
   "execution_count": 26,
   "id": "secret-secondary",
   "metadata": {
    "execution": {
     "iopub.execute_input": "2021-06-18T07:23:52.193822Z",
     "iopub.status.busy": "2021-06-18T07:23:52.192715Z",
     "iopub.status.idle": "2021-06-18T07:23:52.201137Z",
     "shell.execute_reply": "2021-06-18T07:23:52.201614Z",
     "shell.execute_reply.started": "2021-06-18T07:22:26.504397Z"
    },
    "papermill": {
     "duration": 0.068514,
     "end_time": "2021-06-18T07:23:52.201812",
     "exception": false,
     "start_time": "2021-06-18T07:23:52.133298",
     "status": "completed"
    },
    "tags": []
   },
   "outputs": [],
   "source": [
    "train = train[train['demand'] <= 20].copy()"
   ]
  },
  {
   "cell_type": "code",
   "execution_count": 27,
   "id": "sexual-dress",
   "metadata": {
    "execution": {
     "iopub.execute_input": "2021-06-18T07:23:52.333244Z",
     "iopub.status.busy": "2021-06-18T07:23:52.316386Z",
     "iopub.status.idle": "2021-06-18T07:23:52.338033Z",
     "shell.execute_reply": "2021-06-18T07:23:52.337396Z",
     "shell.execute_reply.started": "2021-06-18T07:22:26.517149Z"
    },
    "papermill": {
     "duration": 0.081646,
     "end_time": "2021-06-18T07:23:52.338196",
     "exception": false,
     "start_time": "2021-06-18T07:23:52.256550",
     "status": "completed"
    },
    "tags": []
   },
   "outputs": [
    {
     "data": {
      "text/html": [
       "<div>\n",
       "<style scoped>\n",
       "    .dataframe tbody tr th:only-of-type {\n",
       "        vertical-align: middle;\n",
       "    }\n",
       "\n",
       "    .dataframe tbody tr th {\n",
       "        vertical-align: top;\n",
       "    }\n",
       "\n",
       "    .dataframe thead th {\n",
       "        text-align: right;\n",
       "    }\n",
       "</style>\n",
       "<table border=\"1\" class=\"dataframe\">\n",
       "  <thead>\n",
       "    <tr style=\"text-align: right;\">\n",
       "      <th></th>\n",
       "      <th>STORE_LOCATION_ID</th>\n",
       "      <th>period_dt</th>\n",
       "      <th>demand</th>\n",
       "      <th>STORE_LOCATION_LVL_NM2</th>\n",
       "      <th>STORE_LOCATION_LVL_NM7</th>\n",
       "      <th>ST_LOC_DIVISION_NM</th>\n",
       "      <th>ST_LOC_MNGMT_CLSTR</th>\n",
       "      <th>date_</th>\n",
       "      <th>day_of_week</th>\n",
       "    </tr>\n",
       "  </thead>\n",
       "  <tbody>\n",
       "    <tr>\n",
       "      <th>2352175</th>\n",
       "      <td>833839</td>\n",
       "      <td>19DEC2018</td>\n",
       "      <td>0.577</td>\n",
       "      <td>35 ВОЛОГОДСКАЯ ОБЛ</td>\n",
       "      <td>22_1064048 ВОЛОГДА Г</td>\n",
       "      <td>NV</td>\n",
       "      <td>D_NV03</td>\n",
       "      <td>2018-12-19</td>\n",
       "      <td>2</td>\n",
       "    </tr>\n",
       "    <tr>\n",
       "      <th>2352176</th>\n",
       "      <td>833839</td>\n",
       "      <td>21DEC2018</td>\n",
       "      <td>0.613</td>\n",
       "      <td>35 ВОЛОГОДСКАЯ ОБЛ</td>\n",
       "      <td>22_1064048 ВОЛОГДА Г</td>\n",
       "      <td>NV</td>\n",
       "      <td>D_NV03</td>\n",
       "      <td>2018-12-21</td>\n",
       "      <td>4</td>\n",
       "    </tr>\n",
       "    <tr>\n",
       "      <th>2352177</th>\n",
       "      <td>833839</td>\n",
       "      <td>22DEC2018</td>\n",
       "      <td>1.213</td>\n",
       "      <td>35 ВОЛОГОДСКАЯ ОБЛ</td>\n",
       "      <td>22_1064048 ВОЛОГДА Г</td>\n",
       "      <td>NV</td>\n",
       "      <td>D_NV03</td>\n",
       "      <td>2018-12-22</td>\n",
       "      <td>5</td>\n",
       "    </tr>\n",
       "    <tr>\n",
       "      <th>2352178</th>\n",
       "      <td>833839</td>\n",
       "      <td>23DEC2018</td>\n",
       "      <td>0.385</td>\n",
       "      <td>35 ВОЛОГОДСКАЯ ОБЛ</td>\n",
       "      <td>22_1064048 ВОЛОГДА Г</td>\n",
       "      <td>NV</td>\n",
       "      <td>D_NV03</td>\n",
       "      <td>2018-12-23</td>\n",
       "      <td>6</td>\n",
       "    </tr>\n",
       "    <tr>\n",
       "      <th>2352179</th>\n",
       "      <td>833839</td>\n",
       "      <td>24DEC2018</td>\n",
       "      <td>0.530</td>\n",
       "      <td>35 ВОЛОГОДСКАЯ ОБЛ</td>\n",
       "      <td>22_1064048 ВОЛОГДА Г</td>\n",
       "      <td>NV</td>\n",
       "      <td>D_NV03</td>\n",
       "      <td>2018-12-24</td>\n",
       "      <td>0</td>\n",
       "    </tr>\n",
       "    <tr>\n",
       "      <th>...</th>\n",
       "      <td>...</td>\n",
       "      <td>...</td>\n",
       "      <td>...</td>\n",
       "      <td>...</td>\n",
       "      <td>...</td>\n",
       "      <td>...</td>\n",
       "      <td>...</td>\n",
       "      <td>...</td>\n",
       "      <td>...</td>\n",
       "    </tr>\n",
       "    <tr>\n",
       "      <th>2729520</th>\n",
       "      <td>1404250</td>\n",
       "      <td>18JAN2019</td>\n",
       "      <td>18.328</td>\n",
       "      <td>42 КЕМЕРОВСКАЯ ОБЛ</td>\n",
       "      <td>22_1184635 НОВОКУЗНЕЦК Г</td>\n",
       "      <td>SB</td>\n",
       "      <td>D_SB05</td>\n",
       "      <td>2019-01-18</td>\n",
       "      <td>4</td>\n",
       "    </tr>\n",
       "    <tr>\n",
       "      <th>2729521</th>\n",
       "      <td>1404250</td>\n",
       "      <td>19JAN2019</td>\n",
       "      <td>8.492</td>\n",
       "      <td>42 КЕМЕРОВСКАЯ ОБЛ</td>\n",
       "      <td>22_1184635 НОВОКУЗНЕЦК Г</td>\n",
       "      <td>SB</td>\n",
       "      <td>D_SB05</td>\n",
       "      <td>2019-01-19</td>\n",
       "      <td>5</td>\n",
       "    </tr>\n",
       "    <tr>\n",
       "      <th>2729522</th>\n",
       "      <td>1404250</td>\n",
       "      <td>20JAN2019</td>\n",
       "      <td>5.006</td>\n",
       "      <td>42 КЕМЕРОВСКАЯ ОБЛ</td>\n",
       "      <td>22_1184635 НОВОКУЗНЕЦК Г</td>\n",
       "      <td>SB</td>\n",
       "      <td>D_SB05</td>\n",
       "      <td>2019-01-20</td>\n",
       "      <td>6</td>\n",
       "    </tr>\n",
       "    <tr>\n",
       "      <th>2729523</th>\n",
       "      <td>1404511</td>\n",
       "      <td>18JAN2019</td>\n",
       "      <td>4.225</td>\n",
       "      <td>76 ЯРОСЛАВСКАЯ ОБЛ</td>\n",
       "      <td>22_1090629 ПЕРЕСЛАВСКИЙ Р-Н</td>\n",
       "      <td>NV</td>\n",
       "      <td>D_NV20</td>\n",
       "      <td>2019-01-18</td>\n",
       "      <td>4</td>\n",
       "    </tr>\n",
       "    <tr>\n",
       "      <th>2729524</th>\n",
       "      <td>1404511</td>\n",
       "      <td>19JAN2019</td>\n",
       "      <td>0.665</td>\n",
       "      <td>76 ЯРОСЛАВСКАЯ ОБЛ</td>\n",
       "      <td>22_1090629 ПЕРЕСЛАВСКИЙ Р-Н</td>\n",
       "      <td>NV</td>\n",
       "      <td>D_NV20</td>\n",
       "      <td>2019-01-19</td>\n",
       "      <td>5</td>\n",
       "    </tr>\n",
       "  </tbody>\n",
       "</table>\n",
       "<p>37770 rows × 9 columns</p>\n",
       "</div>"
      ],
      "text/plain": [
       "         STORE_LOCATION_ID  period_dt  demand STORE_LOCATION_LVL_NM2  \\\n",
       "2352175             833839  19DEC2018   0.577     35 ВОЛОГОДСКАЯ ОБЛ   \n",
       "2352176             833839  21DEC2018   0.613     35 ВОЛОГОДСКАЯ ОБЛ   \n",
       "2352177             833839  22DEC2018   1.213     35 ВОЛОГОДСКАЯ ОБЛ   \n",
       "2352178             833839  23DEC2018   0.385     35 ВОЛОГОДСКАЯ ОБЛ   \n",
       "2352179             833839  24DEC2018   0.530     35 ВОЛОГОДСКАЯ ОБЛ   \n",
       "...                    ...        ...     ...                    ...   \n",
       "2729520            1404250  18JAN2019  18.328     42 КЕМЕРОВСКАЯ ОБЛ   \n",
       "2729521            1404250  19JAN2019   8.492     42 КЕМЕРОВСКАЯ ОБЛ   \n",
       "2729522            1404250  20JAN2019   5.006     42 КЕМЕРОВСКАЯ ОБЛ   \n",
       "2729523            1404511  18JAN2019   4.225     76 ЯРОСЛАВСКАЯ ОБЛ   \n",
       "2729524            1404511  19JAN2019   0.665     76 ЯРОСЛАВСКАЯ ОБЛ   \n",
       "\n",
       "              STORE_LOCATION_LVL_NM7 ST_LOC_DIVISION_NM ST_LOC_MNGMT_CLSTR  \\\n",
       "2352175         22_1064048 ВОЛОГДА Г                 NV             D_NV03   \n",
       "2352176         22_1064048 ВОЛОГДА Г                 NV             D_NV03   \n",
       "2352177         22_1064048 ВОЛОГДА Г                 NV             D_NV03   \n",
       "2352178         22_1064048 ВОЛОГДА Г                 NV             D_NV03   \n",
       "2352179         22_1064048 ВОЛОГДА Г                 NV             D_NV03   \n",
       "...                              ...                ...                ...   \n",
       "2729520     22_1184635 НОВОКУЗНЕЦК Г                 SB             D_SB05   \n",
       "2729521     22_1184635 НОВОКУЗНЕЦК Г                 SB             D_SB05   \n",
       "2729522     22_1184635 НОВОКУЗНЕЦК Г                 SB             D_SB05   \n",
       "2729523  22_1090629 ПЕРЕСЛАВСКИЙ Р-Н                 NV             D_NV20   \n",
       "2729524  22_1090629 ПЕРЕСЛАВСКИЙ Р-Н                 NV             D_NV20   \n",
       "\n",
       "              date_  day_of_week  \n",
       "2352175  2018-12-19            2  \n",
       "2352176  2018-12-21            4  \n",
       "2352177  2018-12-22            5  \n",
       "2352178  2018-12-23            6  \n",
       "2352179  2018-12-24            0  \n",
       "...             ...          ...  \n",
       "2729520  2019-01-18            4  \n",
       "2729521  2019-01-19            5  \n",
       "2729522  2019-01-20            6  \n",
       "2729523  2019-01-18            4  \n",
       "2729524  2019-01-19            5  \n",
       "\n",
       "[37770 rows x 9 columns]"
      ]
     },
     "execution_count": 27,
     "metadata": {},
     "output_type": "execute_result"
    }
   ],
   "source": [
    "train"
   ]
  },
  {
   "cell_type": "markdown",
   "id": "becoming-picking",
   "metadata": {
    "papermill": {
     "duration": 0.054988,
     "end_time": "2021-06-18T07:23:52.448638",
     "exception": false,
     "start_time": "2021-06-18T07:23:52.393650",
     "status": "completed"
    },
    "tags": []
   },
   "source": [
    "# Modeling"
   ]
  },
  {
   "cell_type": "code",
   "execution_count": 28,
   "id": "indian-bowling",
   "metadata": {
    "execution": {
     "iopub.execute_input": "2021-06-18T07:23:52.566539Z",
     "iopub.status.busy": "2021-06-18T07:23:52.564644Z",
     "iopub.status.idle": "2021-06-18T07:23:52.576382Z",
     "shell.execute_reply": "2021-06-18T07:23:52.575641Z",
     "shell.execute_reply.started": "2021-06-18T07:22:26.546329Z"
    },
    "papermill": {
     "duration": 0.073052,
     "end_time": "2021-06-18T07:23:52.576586",
     "exception": false,
     "start_time": "2021-06-18T07:23:52.503534",
     "status": "completed"
    },
    "tags": []
   },
   "outputs": [
    {
     "name": "stdout",
     "output_type": "stream",
     "text": [
      "['STORE_LOCATION_ID', 'day_of_week']\n",
      "['STORE_LOCATION_LVL_NM2', 'STORE_LOCATION_LVL_NM7', 'ST_LOC_DIVISION_NM', 'ST_LOC_MNGMT_CLSTR']\n",
      "['STORE_LOCATION_ID', 'STORE_LOCATION_LVL_NM2', 'STORE_LOCATION_LVL_NM7', 'ST_LOC_DIVISION_NM', 'ST_LOC_MNGMT_CLSTR', 'day_of_week']\n"
     ]
    }
   ],
   "source": [
    "del train['period_dt']\n",
    "del test['period_dt']\n",
    "\n",
    "del train['date_']\n",
    "del test['date_']\n",
    "\n",
    "target = train['demand']\n",
    "del train['demand']\n",
    "\n",
    "numeric = train.dtypes[train.dtypes != 'object'].index.tolist()\n",
    "print(numeric)\n",
    "\n",
    "categorical = train.dtypes[train.dtypes == 'object'].index.tolist()\n",
    "print(categorical)\n",
    "\n",
    "categorical = train.columns.tolist()\n",
    "print(categorical)"
   ]
  },
  {
   "cell_type": "code",
   "execution_count": 29,
   "id": "adaptive-patrick",
   "metadata": {
    "execution": {
     "iopub.execute_input": "2021-06-18T07:23:52.693957Z",
     "iopub.status.busy": "2021-06-18T07:23:52.693268Z",
     "iopub.status.idle": "2021-06-18T07:23:52.696657Z",
     "shell.execute_reply": "2021-06-18T07:23:52.696168Z",
     "shell.execute_reply.started": "2021-06-18T07:22:26.569920Z"
    },
    "papermill": {
     "duration": 0.063433,
     "end_time": "2021-06-18T07:23:52.696824",
     "exception": false,
     "start_time": "2021-06-18T07:23:52.633391",
     "status": "completed"
    },
    "tags": []
   },
   "outputs": [],
   "source": [
    "target_class = (target >= 1).astype(int)"
   ]
  },
  {
   "cell_type": "code",
   "execution_count": 30,
   "id": "touched-spending",
   "metadata": {
    "execution": {
     "iopub.execute_input": "2021-06-18T07:23:52.812543Z",
     "iopub.status.busy": "2021-06-18T07:23:52.811937Z",
     "iopub.status.idle": "2021-06-18T07:23:52.814338Z",
     "shell.execute_reply": "2021-06-18T07:23:52.814756Z",
     "shell.execute_reply.started": "2021-06-18T07:22:26.582151Z"
    },
    "papermill": {
     "duration": 0.062689,
     "end_time": "2021-06-18T07:23:52.814953",
     "exception": false,
     "start_time": "2021-06-18T07:23:52.752264",
     "status": "completed"
    },
    "tags": []
   },
   "outputs": [],
   "source": [
    "del test['index']"
   ]
  },
  {
   "cell_type": "code",
   "execution_count": 31,
   "id": "referenced-cradle",
   "metadata": {
    "execution": {
     "iopub.execute_input": "2021-06-18T07:23:52.931555Z",
     "iopub.status.busy": "2021-06-18T07:23:52.930891Z",
     "iopub.status.idle": "2021-06-18T07:23:53.451744Z",
     "shell.execute_reply": "2021-06-18T07:23:53.451141Z",
     "shell.execute_reply.started": "2021-06-18T07:22:26.597864Z"
    },
    "papermill": {
     "duration": 0.580993,
     "end_time": "2021-06-18T07:23:53.451910",
     "exception": false,
     "start_time": "2021-06-18T07:23:52.870917",
     "status": "completed"
    },
    "tags": []
   },
   "outputs": [
    {
     "name": "stderr",
     "output_type": "stream",
     "text": [
      "/opt/conda/lib/python3.7/site-packages/category_encoders/utils.py:21: FutureWarning: is_categorical is deprecated and will be removed in a future version.  Use is_categorical_dtype instead\n",
      "  elif pd.api.types.is_categorical(cols):\n",
      "/opt/conda/lib/python3.7/site-packages/category_encoders/utils.py:21: FutureWarning: is_categorical is deprecated and will be removed in a future version.  Use is_categorical_dtype instead\n",
      "  elif pd.api.types.is_categorical(cols):\n"
     ]
    }
   ],
   "source": [
    "encoder = TargetEncoder(cols=categorical)\n",
    "#numeric\n",
    "train_cat = encoder.fit_transform(train, target_class).copy()\n",
    "test_cat = encoder.transform(test).copy()\n",
    "\n",
    "train = encoder.fit_transform(train, target).copy()\n",
    "test = encoder.transform(test).copy()"
   ]
  },
  {
   "cell_type": "code",
   "execution_count": 32,
   "id": "polar-angel",
   "metadata": {
    "execution": {
     "iopub.execute_input": "2021-06-18T07:23:53.573610Z",
     "iopub.status.busy": "2021-06-18T07:23:53.572911Z",
     "iopub.status.idle": "2021-06-18T07:23:54.065040Z",
     "shell.execute_reply": "2021-06-18T07:23:54.064521Z",
     "shell.execute_reply.started": "2021-06-18T07:22:27.192226Z"
    },
    "papermill": {
     "duration": 0.555557,
     "end_time": "2021-06-18T07:23:54.065197",
     "exception": false,
     "start_time": "2021-06-18T07:23:53.509640",
     "status": "completed"
    },
    "tags": []
   },
   "outputs": [
    {
     "data": {
      "application/javascript": [
       "\n",
       "        if (window._pyforest_update_imports_cell) { window._pyforest_update_imports_cell('import pandas as pd\\nimport seaborn as sns\\nimport matplotlib.pyplot as plt'); }\n",
       "    "
      ],
      "text/plain": [
       "<IPython.core.display.Javascript object>"
      ]
     },
     "metadata": {},
     "output_type": "display_data"
    },
    {
     "data": {
      "text/html": [
       "<div>\n",
       "<style scoped>\n",
       "    .dataframe tbody tr th:only-of-type {\n",
       "        vertical-align: middle;\n",
       "    }\n",
       "\n",
       "    .dataframe tbody tr th {\n",
       "        vertical-align: top;\n",
       "    }\n",
       "\n",
       "    .dataframe thead th {\n",
       "        text-align: right;\n",
       "    }\n",
       "</style>\n",
       "<table border=\"1\" class=\"dataframe\">\n",
       "  <thead>\n",
       "    <tr style=\"text-align: right;\">\n",
       "      <th></th>\n",
       "      <th>index</th>\n",
       "      <th>demand</th>\n",
       "    </tr>\n",
       "  </thead>\n",
       "  <tbody>\n",
       "    <tr>\n",
       "      <th>0</th>\n",
       "      <td>25</td>\n",
       "      <td>0.000000</td>\n",
       "    </tr>\n",
       "    <tr>\n",
       "      <th>1</th>\n",
       "      <td>29</td>\n",
       "      <td>0.000000</td>\n",
       "    </tr>\n",
       "    <tr>\n",
       "      <th>2</th>\n",
       "      <td>37</td>\n",
       "      <td>0.000000</td>\n",
       "    </tr>\n",
       "    <tr>\n",
       "      <th>3</th>\n",
       "      <td>84</td>\n",
       "      <td>0.000000</td>\n",
       "    </tr>\n",
       "    <tr>\n",
       "      <th>4</th>\n",
       "      <td>95</td>\n",
       "      <td>0.000000</td>\n",
       "    </tr>\n",
       "    <tr>\n",
       "      <th>...</th>\n",
       "      <td>...</td>\n",
       "      <td>...</td>\n",
       "    </tr>\n",
       "    <tr>\n",
       "      <th>4924</th>\n",
       "      <td>61934</td>\n",
       "      <td>0.000000</td>\n",
       "    </tr>\n",
       "    <tr>\n",
       "      <th>4925</th>\n",
       "      <td>61967</td>\n",
       "      <td>0.000000</td>\n",
       "    </tr>\n",
       "    <tr>\n",
       "      <th>4926</th>\n",
       "      <td>61973</td>\n",
       "      <td>0.000000</td>\n",
       "    </tr>\n",
       "    <tr>\n",
       "      <th>4927</th>\n",
       "      <td>62017</td>\n",
       "      <td>0.000000</td>\n",
       "    </tr>\n",
       "    <tr>\n",
       "      <th>4928</th>\n",
       "      <td>62022</td>\n",
       "      <td>1.347128</td>\n",
       "    </tr>\n",
       "  </tbody>\n",
       "</table>\n",
       "<p>4929 rows × 2 columns</p>\n",
       "</div>"
      ],
      "text/plain": [
       "      index    demand\n",
       "0        25  0.000000\n",
       "1        29  0.000000\n",
       "2        37  0.000000\n",
       "3        84  0.000000\n",
       "4        95  0.000000\n",
       "...     ...       ...\n",
       "4924  61934  0.000000\n",
       "4925  61967  0.000000\n",
       "4926  61973  0.000000\n",
       "4927  62017  0.000000\n",
       "4928  62022  1.347128\n",
       "\n",
       "[4929 rows x 2 columns]"
      ]
     },
     "execution_count": 32,
     "metadata": {},
     "output_type": "execute_result"
    }
   ],
   "source": [
    "clf = LGBMClassifier().fit(train_cat, target_class)\n",
    "y_proba = clf.predict_proba(test_cat)\n",
    "\n",
    "\n",
    "model = LGBMRegressor().fit(train, target)\n",
    "y_pred = model.predict(test)\n",
    "\n",
    "\n",
    "y_pred[(y_proba[:,1] <= 0.64)] = 0\n",
    "\n",
    "submit = pd.read_csv('../input/adb-project-1/sample_ch.csv')\n",
    "\n",
    "submit['demand'] = y_pred * y_proba[:,1]\n",
    "submit"
   ]
  },
  {
   "cell_type": "code",
   "execution_count": 33,
   "id": "resistant-newsletter",
   "metadata": {
    "execution": {
     "iopub.execute_input": "2021-06-18T07:23:54.190735Z",
     "iopub.status.busy": "2021-06-18T07:23:54.190067Z",
     "iopub.status.idle": "2021-06-18T07:23:54.192667Z",
     "shell.execute_reply": "2021-06-18T07:23:54.193157Z",
     "shell.execute_reply.started": "2021-06-18T07:22:27.728752Z"
    },
    "papermill": {
     "duration": 0.070505,
     "end_time": "2021-06-18T07:23:54.193322",
     "exception": false,
     "start_time": "2021-06-18T07:23:54.122817",
     "status": "completed"
    },
    "tags": []
   },
   "outputs": [
    {
     "data": {
      "text/html": [
       "<div>\n",
       "<style scoped>\n",
       "    .dataframe tbody tr th:only-of-type {\n",
       "        vertical-align: middle;\n",
       "    }\n",
       "\n",
       "    .dataframe tbody tr th {\n",
       "        vertical-align: top;\n",
       "    }\n",
       "\n",
       "    .dataframe thead th {\n",
       "        text-align: right;\n",
       "    }\n",
       "</style>\n",
       "<table border=\"1\" class=\"dataframe\">\n",
       "  <thead>\n",
       "    <tr style=\"text-align: right;\">\n",
       "      <th></th>\n",
       "      <th>index</th>\n",
       "      <th>demand</th>\n",
       "    </tr>\n",
       "  </thead>\n",
       "  <tbody>\n",
       "    <tr>\n",
       "      <th>0</th>\n",
       "      <td>25</td>\n",
       "      <td>0.000000</td>\n",
       "    </tr>\n",
       "    <tr>\n",
       "      <th>1</th>\n",
       "      <td>29</td>\n",
       "      <td>0.000000</td>\n",
       "    </tr>\n",
       "    <tr>\n",
       "      <th>2</th>\n",
       "      <td>37</td>\n",
       "      <td>0.000000</td>\n",
       "    </tr>\n",
       "    <tr>\n",
       "      <th>3</th>\n",
       "      <td>84</td>\n",
       "      <td>0.000000</td>\n",
       "    </tr>\n",
       "    <tr>\n",
       "      <th>4</th>\n",
       "      <td>95</td>\n",
       "      <td>0.000000</td>\n",
       "    </tr>\n",
       "    <tr>\n",
       "      <th>...</th>\n",
       "      <td>...</td>\n",
       "      <td>...</td>\n",
       "    </tr>\n",
       "    <tr>\n",
       "      <th>4924</th>\n",
       "      <td>61934</td>\n",
       "      <td>0.000000</td>\n",
       "    </tr>\n",
       "    <tr>\n",
       "      <th>4925</th>\n",
       "      <td>61967</td>\n",
       "      <td>0.000000</td>\n",
       "    </tr>\n",
       "    <tr>\n",
       "      <th>4926</th>\n",
       "      <td>61973</td>\n",
       "      <td>0.000000</td>\n",
       "    </tr>\n",
       "    <tr>\n",
       "      <th>4927</th>\n",
       "      <td>62017</td>\n",
       "      <td>0.000000</td>\n",
       "    </tr>\n",
       "    <tr>\n",
       "      <th>4928</th>\n",
       "      <td>62022</td>\n",
       "      <td>1.347128</td>\n",
       "    </tr>\n",
       "  </tbody>\n",
       "</table>\n",
       "<p>4929 rows × 2 columns</p>\n",
       "</div>"
      ],
      "text/plain": [
       "      index    demand\n",
       "0        25  0.000000\n",
       "1        29  0.000000\n",
       "2        37  0.000000\n",
       "3        84  0.000000\n",
       "4        95  0.000000\n",
       "...     ...       ...\n",
       "4924  61934  0.000000\n",
       "4925  61967  0.000000\n",
       "4926  61973  0.000000\n",
       "4927  62017  0.000000\n",
       "4928  62022  1.347128\n",
       "\n",
       "[4929 rows x 2 columns]"
      ]
     },
     "execution_count": 33,
     "metadata": {},
     "output_type": "execute_result"
    }
   ],
   "source": [
    "submit"
   ]
  },
  {
   "cell_type": "code",
   "execution_count": 34,
   "id": "worst-disposal",
   "metadata": {
    "execution": {
     "iopub.execute_input": "2021-06-18T07:23:54.310425Z",
     "iopub.status.busy": "2021-06-18T07:23:54.309766Z",
     "iopub.status.idle": "2021-06-18T07:23:54.316171Z",
     "shell.execute_reply": "2021-06-18T07:23:54.316698Z",
     "shell.execute_reply.started": "2021-06-18T07:22:27.746974Z"
    },
    "papermill": {
     "duration": 0.066647,
     "end_time": "2021-06-18T07:23:54.316891",
     "exception": false,
     "start_time": "2021-06-18T07:23:54.250244",
     "status": "completed"
    },
    "tags": []
   },
   "outputs": [
    {
     "data": {
      "application/javascript": [
       "\n",
       "        if (window._pyforest_update_imports_cell) { window._pyforest_update_imports_cell('import pandas as pd\\nimport seaborn as sns\\nimport matplotlib.pyplot as plt\\nimport numpy as np'); }\n",
       "    "
      ],
      "text/plain": [
       "<IPython.core.display.Javascript object>"
      ]
     },
     "metadata": {},
     "output_type": "display_data"
    },
    {
     "data": {
      "text/plain": [
       "521"
      ]
     },
     "execution_count": 34,
     "metadata": {},
     "output_type": "execute_result"
    }
   ],
   "source": [
    "np.count_nonzero(y_pred > 0)"
   ]
  },
  {
   "cell_type": "code",
   "execution_count": 35,
   "id": "small-faculty",
   "metadata": {
    "execution": {
     "iopub.execute_input": "2021-06-18T07:23:54.438135Z",
     "iopub.status.busy": "2021-06-18T07:23:54.437392Z",
     "iopub.status.idle": "2021-06-18T07:23:54.457622Z",
     "shell.execute_reply": "2021-06-18T07:23:54.456546Z",
     "shell.execute_reply.started": "2021-06-18T07:22:27.765651Z"
    },
    "papermill": {
     "duration": 0.082148,
     "end_time": "2021-06-18T07:23:54.457762",
     "exception": false,
     "start_time": "2021-06-18T07:23:54.375614",
     "status": "completed"
    },
    "tags": []
   },
   "outputs": [],
   "source": [
    "submit.to_csv(\"LGBM_10.csv\", index = False)"
   ]
  }
 ],
 "metadata": {
  "kernelspec": {
   "display_name": "Python 3",
   "language": "python",
   "name": "python3"
  },
  "language_info": {
   "codemirror_mode": {
    "name": "ipython",
    "version": 3
   },
   "file_extension": ".py",
   "mimetype": "text/x-python",
   "name": "python",
   "nbconvert_exporter": "python",
   "pygments_lexer": "ipython3",
   "version": "3.7.10"
  },
  "papermill": {
   "default_parameters": {},
   "duration": 53.99503,
   "end_time": "2021-06-18T07:23:55.867213",
   "environment_variables": {},
   "exception": null,
   "input_path": "__notebook__.ipynb",
   "output_path": "__notebook__.ipynb",
   "parameters": {},
   "start_time": "2021-06-18T07:23:01.872183",
   "version": "2.3.3"
  }
 },
 "nbformat": 4,
 "nbformat_minor": 5
}
