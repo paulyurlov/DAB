{
 "cells": [
  {
   "cell_type": "markdown",
   "id": "damaged-sally",
   "metadata": {
    "papermill": {
     "duration": 0.040979,
     "end_time": "2021-06-18T08:17:33.557466",
     "exception": false,
     "start_time": "2021-06-18T08:17:33.516487",
     "status": "completed"
    },
    "tags": []
   },
   "source": [
    "# Libraries"
   ]
  },
  {
   "cell_type": "code",
   "execution_count": 1,
   "id": "automotive-cherry",
   "metadata": {
    "execution": {
     "iopub.execute_input": "2021-06-18T08:17:33.642076Z",
     "iopub.status.busy": "2021-06-18T08:17:33.640938Z",
     "iopub.status.idle": "2021-06-18T08:17:44.294795Z",
     "shell.execute_reply": "2021-06-18T08:17:44.293907Z",
     "shell.execute_reply.started": "2021-06-18T08:03:17.867597Z"
    },
    "papermill": {
     "duration": 10.697153,
     "end_time": "2021-06-18T08:17:44.294991",
     "exception": false,
     "start_time": "2021-06-18T08:17:33.597838",
     "status": "completed"
    },
    "tags": []
   },
   "outputs": [
    {
     "name": "stdout",
     "output_type": "stream",
     "text": [
      "Collecting pyforest\r\n",
      "  Downloading pyforest-1.1.0.tar.gz (15 kB)\r\n",
      "Building wheels for collected packages: pyforest\r\n",
      "  Building wheel for pyforest (setup.py) ... \u001b[?25l-\b \b\\\b \bdone\r\n",
      "\u001b[?25h  Created wheel for pyforest: filename=pyforest-1.1.0-py2.py3-none-any.whl size=14606 sha256=a65d089b008902d92f5ec5914ad79d36fad09c5232862688049de148a7b5ea0d\r\n",
      "  Stored in directory: /root/.cache/pip/wheels/61/1c/da/48e6c884142d485475d852d69d20a096aba5beceb338822893\r\n",
      "Successfully built pyforest\r\n",
      "Installing collected packages: pyforest\r\n",
      "Successfully installed pyforest-1.1.0\r\n"
     ]
    }
   ],
   "source": [
    "!pip3 install pyforest"
   ]
  },
  {
   "cell_type": "code",
   "execution_count": 2,
   "id": "stainless-sussex",
   "metadata": {
    "execution": {
     "iopub.execute_input": "2021-06-18T08:17:44.389352Z",
     "iopub.status.busy": "2021-06-18T08:17:44.388690Z",
     "iopub.status.idle": "2021-06-18T08:17:46.975504Z",
     "shell.execute_reply": "2021-06-18T08:17:46.974928Z",
     "shell.execute_reply.started": "2021-06-18T08:03:24.613323Z"
    },
    "papermill": {
     "duration": 2.637148,
     "end_time": "2021-06-18T08:17:46.975667",
     "exception": false,
     "start_time": "2021-06-18T08:17:44.338519",
     "status": "completed"
    },
    "tags": []
   },
   "outputs": [
    {
     "data": {
      "text/html": [
       "<style type='text/css'>\n",
       ".datatable table.frame { margin-bottom: 0; }\n",
       ".datatable table.frame thead { border-bottom: none; }\n",
       ".datatable table.frame tr.coltypes td {  color: #FFFFFF;  line-height: 6px;  padding: 0 0.5em;}\n",
       ".datatable .bool    { background: #DDDD99; }\n",
       ".datatable .object  { background: #565656; }\n",
       ".datatable .int     { background: #5D9E5D; }\n",
       ".datatable .float   { background: #4040CC; }\n",
       ".datatable .str     { background: #CC4040; }\n",
       ".datatable .row_index {  background: var(--jp-border-color3);  border-right: 1px solid var(--jp-border-color0);  color: var(--jp-ui-font-color3);  font-size: 9px;}\n",
       ".datatable .frame tr.coltypes .row_index {  background: var(--jp-border-color0);}\n",
       ".datatable th:nth-child(2) { padding-left: 12px; }\n",
       ".datatable .hellipsis {  color: var(--jp-cell-editor-border-color);}\n",
       ".datatable .vellipsis {  background: var(--jp-layout-color0);  color: var(--jp-cell-editor-border-color);}\n",
       ".datatable .na {  color: var(--jp-cell-editor-border-color);  font-size: 80%;}\n",
       ".datatable .footer { font-size: 9px; }\n",
       ".datatable .frame_dimensions {  background: var(--jp-border-color3);  border-top: 1px solid var(--jp-border-color0);  color: var(--jp-ui-font-color3);  display: inline-block;  opacity: 0.6;  padding: 1px 10px 1px 5px;}\n",
       "</style>\n"
      ],
      "text/plain": [
       "<IPython.core.display.HTML object>"
      ]
     },
     "metadata": {},
     "output_type": "display_data"
    },
    {
     "data": {
      "application/javascript": [
       "\n",
       "        if (window._pyforest_update_imports_cell) { window._pyforest_update_imports_cell('import matplotlib.pyplot as plt'); }\n",
       "    "
      ],
      "text/plain": [
       "<IPython.core.display.Javascript object>"
      ]
     },
     "metadata": {},
     "output_type": "display_data"
    }
   ],
   "source": [
    "import pyforest\n",
    "from datetime import datetime\n",
    "from datetime import date, timedelta\n",
    "from category_encoders import TargetEncoder\n",
    "from lightgbm import LGBMRegressor\n",
    "\n",
    "\n",
    "plt.style.use('ggplot')  # стиль для графиков\n",
    "%matplotlib inline"
   ]
  },
  {
   "cell_type": "markdown",
   "id": "devoted-washington",
   "metadata": {
    "papermill": {
     "duration": 0.043277,
     "end_time": "2021-06-18T08:17:47.062425",
     "exception": false,
     "start_time": "2021-06-18T08:17:47.019148",
     "status": "completed"
    },
    "tags": []
   },
   "source": [
    "# Load Data"
   ]
  },
  {
   "cell_type": "code",
   "execution_count": 3,
   "id": "small-notice",
   "metadata": {
    "execution": {
     "iopub.execute_input": "2021-06-18T08:17:47.161561Z",
     "iopub.status.busy": "2021-06-18T08:17:47.160911Z",
     "iopub.status.idle": "2021-06-18T08:17:47.687299Z",
     "shell.execute_reply": "2021-06-18T08:17:47.686706Z",
     "shell.execute_reply.started": "2021-06-18T08:03:24.630552Z"
    },
    "papermill": {
     "duration": 0.580775,
     "end_time": "2021-06-18T08:17:47.687467",
     "exception": false,
     "start_time": "2021-06-18T08:17:47.106692",
     "status": "completed"
    },
    "tags": []
   },
   "outputs": [
    {
     "data": {
      "application/javascript": [
       "\n",
       "        if (window._pyforest_update_imports_cell) { window._pyforest_update_imports_cell('import matplotlib.pyplot as plt\\nimport pandas as pd'); }\n",
       "    "
      ],
      "text/plain": [
       "<IPython.core.display.Javascript object>"
      ]
     },
     "metadata": {},
     "output_type": "display_data"
    },
    {
     "data": {
      "text/html": [
       "<div>\n",
       "<style scoped>\n",
       "    .dataframe tbody tr th:only-of-type {\n",
       "        vertical-align: middle;\n",
       "    }\n",
       "\n",
       "    .dataframe tbody tr th {\n",
       "        vertical-align: top;\n",
       "    }\n",
       "\n",
       "    .dataframe thead th {\n",
       "        text-align: right;\n",
       "    }\n",
       "</style>\n",
       "<table border=\"1\" class=\"dataframe\">\n",
       "  <thead>\n",
       "    <tr style=\"text-align: right;\">\n",
       "      <th></th>\n",
       "      <th>Unnamed: 0</th>\n",
       "      <th>index</th>\n",
       "      <th>product_rk</th>\n",
       "      <th>store_location_rk</th>\n",
       "      <th>date</th>\n",
       "      <th>demand</th>\n",
       "      <th>PRODUCT_RK</th>\n",
       "      <th>STORE_LOCATION_RK</th>\n",
       "      <th>PROMO1_FLAG</th>\n",
       "      <th>PROMO2_FLAG</th>\n",
       "      <th>PRICE_REGULAR</th>\n",
       "      <th>PRICE_AFTER_DISC</th>\n",
       "      <th>NUM_CONSULTANT</th>\n",
       "      <th>AUTORIZATION_FLAG</th>\n",
       "    </tr>\n",
       "  </thead>\n",
       "  <tbody>\n",
       "    <tr>\n",
       "      <th>0</th>\n",
       "      <td>43</td>\n",
       "      <td>43</td>\n",
       "      <td>19540</td>\n",
       "      <td>309</td>\n",
       "      <td>2016-12-26</td>\n",
       "      <td>1.000000</td>\n",
       "      <td>19540</td>\n",
       "      <td>NaN</td>\n",
       "      <td>NaN</td>\n",
       "      <td>NaN</td>\n",
       "      <td>NaN</td>\n",
       "      <td>NaN</td>\n",
       "      <td>NaN</td>\n",
       "      <td>NaN</td>\n",
       "    </tr>\n",
       "    <tr>\n",
       "      <th>1</th>\n",
       "      <td>44</td>\n",
       "      <td>44</td>\n",
       "      <td>19540</td>\n",
       "      <td>355</td>\n",
       "      <td>2016-12-19</td>\n",
       "      <td>1.000000</td>\n",
       "      <td>19540</td>\n",
       "      <td>NaN</td>\n",
       "      <td>NaN</td>\n",
       "      <td>NaN</td>\n",
       "      <td>NaN</td>\n",
       "      <td>NaN</td>\n",
       "      <td>NaN</td>\n",
       "      <td>NaN</td>\n",
       "    </tr>\n",
       "    <tr>\n",
       "      <th>2</th>\n",
       "      <td>45</td>\n",
       "      <td>45</td>\n",
       "      <td>19540</td>\n",
       "      <td>355</td>\n",
       "      <td>2017-01-02</td>\n",
       "      <td>0.027027</td>\n",
       "      <td>19540</td>\n",
       "      <td>355.0</td>\n",
       "      <td>1.0</td>\n",
       "      <td>0.0</td>\n",
       "      <td>2849.000000</td>\n",
       "      <td>1709.40</td>\n",
       "      <td>0.0</td>\n",
       "      <td>1.0</td>\n",
       "    </tr>\n",
       "    <tr>\n",
       "      <th>3</th>\n",
       "      <td>46</td>\n",
       "      <td>46</td>\n",
       "      <td>19540</td>\n",
       "      <td>355</td>\n",
       "      <td>2017-03-27</td>\n",
       "      <td>1.000000</td>\n",
       "      <td>19540</td>\n",
       "      <td>355.0</td>\n",
       "      <td>0.0</td>\n",
       "      <td>0.0</td>\n",
       "      <td>2856.142857</td>\n",
       "      <td>1782.02</td>\n",
       "      <td>0.0</td>\n",
       "      <td>1.0</td>\n",
       "    </tr>\n",
       "    <tr>\n",
       "      <th>4</th>\n",
       "      <td>47</td>\n",
       "      <td>47</td>\n",
       "      <td>19540</td>\n",
       "      <td>355</td>\n",
       "      <td>2018-01-01</td>\n",
       "      <td>0.002740</td>\n",
       "      <td>19540</td>\n",
       "      <td>355.0</td>\n",
       "      <td>1.0</td>\n",
       "      <td>0.0</td>\n",
       "      <td>2899.000000</td>\n",
       "      <td>2217.74</td>\n",
       "      <td>0.0</td>\n",
       "      <td>1.0</td>\n",
       "    </tr>\n",
       "    <tr>\n",
       "      <th>...</th>\n",
       "      <td>...</td>\n",
       "      <td>...</td>\n",
       "      <td>...</td>\n",
       "      <td>...</td>\n",
       "      <td>...</td>\n",
       "      <td>...</td>\n",
       "      <td>...</td>\n",
       "      <td>...</td>\n",
       "      <td>...</td>\n",
       "      <td>...</td>\n",
       "      <td>...</td>\n",
       "      <td>...</td>\n",
       "      <td>...</td>\n",
       "      <td>...</td>\n",
       "    </tr>\n",
       "    <tr>\n",
       "      <th>193901</th>\n",
       "      <td>209593</td>\n",
       "      <td>209593</td>\n",
       "      <td>98432</td>\n",
       "      <td>1316</td>\n",
       "      <td>2019-11-25</td>\n",
       "      <td>NaN</td>\n",
       "      <td>98432</td>\n",
       "      <td>1316.0</td>\n",
       "      <td>1.0</td>\n",
       "      <td>0.0</td>\n",
       "      <td>2049.000000</td>\n",
       "      <td>1024.50</td>\n",
       "      <td>0.0</td>\n",
       "      <td>1.0</td>\n",
       "    </tr>\n",
       "    <tr>\n",
       "      <th>193902</th>\n",
       "      <td>209594</td>\n",
       "      <td>209594</td>\n",
       "      <td>98445</td>\n",
       "      <td>1316</td>\n",
       "      <td>2019-11-25</td>\n",
       "      <td>NaN</td>\n",
       "      <td>98445</td>\n",
       "      <td>1316.0</td>\n",
       "      <td>1.0</td>\n",
       "      <td>0.0</td>\n",
       "      <td>3299.000000</td>\n",
       "      <td>989.70</td>\n",
       "      <td>0.0</td>\n",
       "      <td>1.0</td>\n",
       "    </tr>\n",
       "    <tr>\n",
       "      <th>193903</th>\n",
       "      <td>209595</td>\n",
       "      <td>209595</td>\n",
       "      <td>98470</td>\n",
       "      <td>1316</td>\n",
       "      <td>2019-11-25</td>\n",
       "      <td>NaN</td>\n",
       "      <td>98470</td>\n",
       "      <td>1316.0</td>\n",
       "      <td>1.0</td>\n",
       "      <td>0.0</td>\n",
       "      <td>3049.000000</td>\n",
       "      <td>914.70</td>\n",
       "      <td>0.0</td>\n",
       "      <td>1.0</td>\n",
       "    </tr>\n",
       "    <tr>\n",
       "      <th>193904</th>\n",
       "      <td>209596</td>\n",
       "      <td>209596</td>\n",
       "      <td>98475</td>\n",
       "      <td>1316</td>\n",
       "      <td>2019-11-25</td>\n",
       "      <td>NaN</td>\n",
       "      <td>98475</td>\n",
       "      <td>1316.0</td>\n",
       "      <td>1.0</td>\n",
       "      <td>0.0</td>\n",
       "      <td>3049.000000</td>\n",
       "      <td>914.70</td>\n",
       "      <td>0.0</td>\n",
       "      <td>1.0</td>\n",
       "    </tr>\n",
       "    <tr>\n",
       "      <th>193905</th>\n",
       "      <td>209597</td>\n",
       "      <td>209597</td>\n",
       "      <td>98526</td>\n",
       "      <td>1316</td>\n",
       "      <td>2019-11-25</td>\n",
       "      <td>NaN</td>\n",
       "      <td>98526</td>\n",
       "      <td>1316.0</td>\n",
       "      <td>1.0</td>\n",
       "      <td>0.0</td>\n",
       "      <td>2699.000000</td>\n",
       "      <td>809.70</td>\n",
       "      <td>0.0</td>\n",
       "      <td>1.0</td>\n",
       "    </tr>\n",
       "  </tbody>\n",
       "</table>\n",
       "<p>193906 rows × 14 columns</p>\n",
       "</div>"
      ],
      "text/plain": [
       "        Unnamed: 0   index  product_rk  store_location_rk        date  \\\n",
       "0               43      43       19540                309  2016-12-26   \n",
       "1               44      44       19540                355  2016-12-19   \n",
       "2               45      45       19540                355  2017-01-02   \n",
       "3               46      46       19540                355  2017-03-27   \n",
       "4               47      47       19540                355  2018-01-01   \n",
       "...            ...     ...         ...                ...         ...   \n",
       "193901      209593  209593       98432               1316  2019-11-25   \n",
       "193902      209594  209594       98445               1316  2019-11-25   \n",
       "193903      209595  209595       98470               1316  2019-11-25   \n",
       "193904      209596  209596       98475               1316  2019-11-25   \n",
       "193905      209597  209597       98526               1316  2019-11-25   \n",
       "\n",
       "          demand  PRODUCT_RK  STORE_LOCATION_RK  PROMO1_FLAG  PROMO2_FLAG  \\\n",
       "0       1.000000       19540                NaN          NaN          NaN   \n",
       "1       1.000000       19540                NaN          NaN          NaN   \n",
       "2       0.027027       19540              355.0          1.0          0.0   \n",
       "3       1.000000       19540              355.0          0.0          0.0   \n",
       "4       0.002740       19540              355.0          1.0          0.0   \n",
       "...          ...         ...                ...          ...          ...   \n",
       "193901       NaN       98432             1316.0          1.0          0.0   \n",
       "193902       NaN       98445             1316.0          1.0          0.0   \n",
       "193903       NaN       98470             1316.0          1.0          0.0   \n",
       "193904       NaN       98475             1316.0          1.0          0.0   \n",
       "193905       NaN       98526             1316.0          1.0          0.0   \n",
       "\n",
       "        PRICE_REGULAR  PRICE_AFTER_DISC  NUM_CONSULTANT  AUTORIZATION_FLAG  \n",
       "0                 NaN               NaN             NaN                NaN  \n",
       "1                 NaN               NaN             NaN                NaN  \n",
       "2         2849.000000           1709.40             0.0                1.0  \n",
       "3         2856.142857           1782.02             0.0                1.0  \n",
       "4         2899.000000           2217.74             0.0                1.0  \n",
       "...               ...               ...             ...                ...  \n",
       "193901    2049.000000           1024.50             0.0                1.0  \n",
       "193902    3299.000000            989.70             0.0                1.0  \n",
       "193903    3049.000000            914.70             0.0                1.0  \n",
       "193904    3049.000000            914.70             0.0                1.0  \n",
       "193905    2699.000000            809.70             0.0                1.0  \n",
       "\n",
       "[193906 rows x 14 columns]"
      ]
     },
     "execution_count": 3,
     "metadata": {},
     "output_type": "execute_result"
    }
   ],
   "source": [
    "train = pd.read_csv('../input/adb-task-2/train_npf2.csv')\n",
    "train"
   ]
  },
  {
   "cell_type": "code",
   "execution_count": 4,
   "id": "unexpected-arthritis",
   "metadata": {
    "execution": {
     "iopub.execute_input": "2021-06-18T08:17:47.792398Z",
     "iopub.status.busy": "2021-06-18T08:17:47.791692Z",
     "iopub.status.idle": "2021-06-18T08:17:47.810980Z",
     "shell.execute_reply": "2021-06-18T08:17:47.811462Z",
     "shell.execute_reply.started": "2021-06-18T08:03:25.031005Z"
    },
    "papermill": {
     "duration": 0.077619,
     "end_time": "2021-06-18T08:17:47.811642",
     "exception": false,
     "start_time": "2021-06-18T08:17:47.734023",
     "status": "completed"
    },
    "tags": []
   },
   "outputs": [
    {
     "data": {
      "application/javascript": [
       "\n",
       "        if (window._pyforest_update_imports_cell) { window._pyforest_update_imports_cell('import matplotlib.pyplot as plt\\nimport pandas as pd'); }\n",
       "    "
      ],
      "text/plain": [
       "<IPython.core.display.Javascript object>"
      ]
     },
     "metadata": {},
     "output_type": "display_data"
    },
    {
     "data": {
      "text/html": [
       "<div>\n",
       "<style scoped>\n",
       "    .dataframe tbody tr th:only-of-type {\n",
       "        vertical-align: middle;\n",
       "    }\n",
       "\n",
       "    .dataframe tbody tr th {\n",
       "        vertical-align: top;\n",
       "    }\n",
       "\n",
       "    .dataframe thead th {\n",
       "        text-align: right;\n",
       "    }\n",
       "</style>\n",
       "<table border=\"1\" class=\"dataframe\">\n",
       "  <thead>\n",
       "    <tr style=\"text-align: right;\">\n",
       "      <th></th>\n",
       "      <th>index</th>\n",
       "      <th>demand</th>\n",
       "    </tr>\n",
       "  </thead>\n",
       "  <tbody>\n",
       "    <tr>\n",
       "      <th>0</th>\n",
       "      <td>902</td>\n",
       "      <td>0.0</td>\n",
       "    </tr>\n",
       "    <tr>\n",
       "      <th>1</th>\n",
       "      <td>1163</td>\n",
       "      <td>0.0</td>\n",
       "    </tr>\n",
       "    <tr>\n",
       "      <th>2</th>\n",
       "      <td>1167</td>\n",
       "      <td>0.0</td>\n",
       "    </tr>\n",
       "    <tr>\n",
       "      <th>3</th>\n",
       "      <td>1172</td>\n",
       "      <td>0.0</td>\n",
       "    </tr>\n",
       "    <tr>\n",
       "      <th>4</th>\n",
       "      <td>1202</td>\n",
       "      <td>0.0</td>\n",
       "    </tr>\n",
       "    <tr>\n",
       "      <th>...</th>\n",
       "      <td>...</td>\n",
       "      <td>...</td>\n",
       "    </tr>\n",
       "    <tr>\n",
       "      <th>523</th>\n",
       "      <td>209593</td>\n",
       "      <td>0.0</td>\n",
       "    </tr>\n",
       "    <tr>\n",
       "      <th>524</th>\n",
       "      <td>209594</td>\n",
       "      <td>0.0</td>\n",
       "    </tr>\n",
       "    <tr>\n",
       "      <th>525</th>\n",
       "      <td>209595</td>\n",
       "      <td>0.0</td>\n",
       "    </tr>\n",
       "    <tr>\n",
       "      <th>526</th>\n",
       "      <td>209596</td>\n",
       "      <td>0.0</td>\n",
       "    </tr>\n",
       "    <tr>\n",
       "      <th>527</th>\n",
       "      <td>209597</td>\n",
       "      <td>0.0</td>\n",
       "    </tr>\n",
       "  </tbody>\n",
       "</table>\n",
       "<p>528 rows × 2 columns</p>\n",
       "</div>"
      ],
      "text/plain": [
       "      index  demand\n",
       "0       902     0.0\n",
       "1      1163     0.0\n",
       "2      1167     0.0\n",
       "3      1172     0.0\n",
       "4      1202     0.0\n",
       "..      ...     ...\n",
       "523  209593     0.0\n",
       "524  209594     0.0\n",
       "525  209595     0.0\n",
       "526  209596     0.0\n",
       "527  209597     0.0\n",
       "\n",
       "[528 rows x 2 columns]"
      ]
     },
     "execution_count": 4,
     "metadata": {},
     "output_type": "execute_result"
    }
   ],
   "source": [
    "sample_sub = pd.read_csv('../input/adb-task-2/sample_npf2.csv')\n",
    "sample_sub"
   ]
  },
  {
   "cell_type": "code",
   "execution_count": 5,
   "id": "simple-president",
   "metadata": {
    "execution": {
     "iopub.execute_input": "2021-06-18T08:17:47.907392Z",
     "iopub.status.busy": "2021-06-18T08:17:47.906680Z",
     "iopub.status.idle": "2021-06-18T08:17:47.944275Z",
     "shell.execute_reply": "2021-06-18T08:17:47.944743Z",
     "shell.execute_reply.started": "2021-06-18T08:03:25.054275Z"
    },
    "papermill": {
     "duration": 0.08713,
     "end_time": "2021-06-18T08:17:47.944935",
     "exception": false,
     "start_time": "2021-06-18T08:17:47.857805",
     "status": "completed"
    },
    "tags": []
   },
   "outputs": [
    {
     "data": {
      "text/html": [
       "<div>\n",
       "<style scoped>\n",
       "    .dataframe tbody tr th:only-of-type {\n",
       "        vertical-align: middle;\n",
       "    }\n",
       "\n",
       "    .dataframe tbody tr th {\n",
       "        vertical-align: top;\n",
       "    }\n",
       "\n",
       "    .dataframe thead th {\n",
       "        text-align: right;\n",
       "    }\n",
       "</style>\n",
       "<table border=\"1\" class=\"dataframe\">\n",
       "  <thead>\n",
       "    <tr style=\"text-align: right;\">\n",
       "      <th></th>\n",
       "      <th>Unnamed: 0</th>\n",
       "      <th>index</th>\n",
       "      <th>product_rk</th>\n",
       "      <th>store_location_rk</th>\n",
       "      <th>date</th>\n",
       "      <th>demand</th>\n",
       "      <th>PRODUCT_RK</th>\n",
       "      <th>STORE_LOCATION_RK</th>\n",
       "      <th>PROMO1_FLAG</th>\n",
       "      <th>PROMO2_FLAG</th>\n",
       "      <th>PRICE_REGULAR</th>\n",
       "      <th>PRICE_AFTER_DISC</th>\n",
       "      <th>NUM_CONSULTANT</th>\n",
       "      <th>AUTORIZATION_FLAG</th>\n",
       "    </tr>\n",
       "  </thead>\n",
       "  <tbody>\n",
       "    <tr>\n",
       "      <th>817</th>\n",
       "      <td>902</td>\n",
       "      <td>902</td>\n",
       "      <td>19544</td>\n",
       "      <td>1363</td>\n",
       "      <td>2019-11-04</td>\n",
       "      <td>NaN</td>\n",
       "      <td>19544</td>\n",
       "      <td>1363.0</td>\n",
       "      <td>1.0</td>\n",
       "      <td>0.0</td>\n",
       "      <td>2999.0</td>\n",
       "      <td>899.700000</td>\n",
       "      <td>0.0</td>\n",
       "      <td>1.0</td>\n",
       "    </tr>\n",
       "    <tr>\n",
       "      <th>1039</th>\n",
       "      <td>1163</td>\n",
       "      <td>1163</td>\n",
       "      <td>19545</td>\n",
       "      <td>1380</td>\n",
       "      <td>2019-11-04</td>\n",
       "      <td>NaN</td>\n",
       "      <td>19545</td>\n",
       "      <td>1380.0</td>\n",
       "      <td>1.0</td>\n",
       "      <td>0.0</td>\n",
       "      <td>2999.0</td>\n",
       "      <td>2142.142857</td>\n",
       "      <td>0.0</td>\n",
       "      <td>1.0</td>\n",
       "    </tr>\n",
       "    <tr>\n",
       "      <th>1043</th>\n",
       "      <td>1167</td>\n",
       "      <td>1167</td>\n",
       "      <td>19545</td>\n",
       "      <td>1380</td>\n",
       "      <td>2019-11-18</td>\n",
       "      <td>NaN</td>\n",
       "      <td>19545</td>\n",
       "      <td>1380.0</td>\n",
       "      <td>1.0</td>\n",
       "      <td>0.0</td>\n",
       "      <td>2999.0</td>\n",
       "      <td>1499.500000</td>\n",
       "      <td>0.0</td>\n",
       "      <td>1.0</td>\n",
       "    </tr>\n",
       "    <tr>\n",
       "      <th>1048</th>\n",
       "      <td>1172</td>\n",
       "      <td>1172</td>\n",
       "      <td>19545</td>\n",
       "      <td>1380</td>\n",
       "      <td>2019-11-25</td>\n",
       "      <td>NaN</td>\n",
       "      <td>19545</td>\n",
       "      <td>1380.0</td>\n",
       "      <td>1.0</td>\n",
       "      <td>0.0</td>\n",
       "      <td>2999.0</td>\n",
       "      <td>1499.500000</td>\n",
       "      <td>0.0</td>\n",
       "      <td>1.0</td>\n",
       "    </tr>\n",
       "    <tr>\n",
       "      <th>1065</th>\n",
       "      <td>1202</td>\n",
       "      <td>1202</td>\n",
       "      <td>135955</td>\n",
       "      <td>1326</td>\n",
       "      <td>2019-11-04</td>\n",
       "      <td>NaN</td>\n",
       "      <td>135955</td>\n",
       "      <td>1326.0</td>\n",
       "      <td>1.0</td>\n",
       "      <td>0.0</td>\n",
       "      <td>2999.0</td>\n",
       "      <td>1499.500000</td>\n",
       "      <td>4.0</td>\n",
       "      <td>1.0</td>\n",
       "    </tr>\n",
       "    <tr>\n",
       "      <th>...</th>\n",
       "      <td>...</td>\n",
       "      <td>...</td>\n",
       "      <td>...</td>\n",
       "      <td>...</td>\n",
       "      <td>...</td>\n",
       "      <td>...</td>\n",
       "      <td>...</td>\n",
       "      <td>...</td>\n",
       "      <td>...</td>\n",
       "      <td>...</td>\n",
       "      <td>...</td>\n",
       "      <td>...</td>\n",
       "      <td>...</td>\n",
       "      <td>...</td>\n",
       "    </tr>\n",
       "    <tr>\n",
       "      <th>193901</th>\n",
       "      <td>209593</td>\n",
       "      <td>209593</td>\n",
       "      <td>98432</td>\n",
       "      <td>1316</td>\n",
       "      <td>2019-11-25</td>\n",
       "      <td>NaN</td>\n",
       "      <td>98432</td>\n",
       "      <td>1316.0</td>\n",
       "      <td>1.0</td>\n",
       "      <td>0.0</td>\n",
       "      <td>2049.0</td>\n",
       "      <td>1024.500000</td>\n",
       "      <td>0.0</td>\n",
       "      <td>1.0</td>\n",
       "    </tr>\n",
       "    <tr>\n",
       "      <th>193902</th>\n",
       "      <td>209594</td>\n",
       "      <td>209594</td>\n",
       "      <td>98445</td>\n",
       "      <td>1316</td>\n",
       "      <td>2019-11-25</td>\n",
       "      <td>NaN</td>\n",
       "      <td>98445</td>\n",
       "      <td>1316.0</td>\n",
       "      <td>1.0</td>\n",
       "      <td>0.0</td>\n",
       "      <td>3299.0</td>\n",
       "      <td>989.700000</td>\n",
       "      <td>0.0</td>\n",
       "      <td>1.0</td>\n",
       "    </tr>\n",
       "    <tr>\n",
       "      <th>193903</th>\n",
       "      <td>209595</td>\n",
       "      <td>209595</td>\n",
       "      <td>98470</td>\n",
       "      <td>1316</td>\n",
       "      <td>2019-11-25</td>\n",
       "      <td>NaN</td>\n",
       "      <td>98470</td>\n",
       "      <td>1316.0</td>\n",
       "      <td>1.0</td>\n",
       "      <td>0.0</td>\n",
       "      <td>3049.0</td>\n",
       "      <td>914.700000</td>\n",
       "      <td>0.0</td>\n",
       "      <td>1.0</td>\n",
       "    </tr>\n",
       "    <tr>\n",
       "      <th>193904</th>\n",
       "      <td>209596</td>\n",
       "      <td>209596</td>\n",
       "      <td>98475</td>\n",
       "      <td>1316</td>\n",
       "      <td>2019-11-25</td>\n",
       "      <td>NaN</td>\n",
       "      <td>98475</td>\n",
       "      <td>1316.0</td>\n",
       "      <td>1.0</td>\n",
       "      <td>0.0</td>\n",
       "      <td>3049.0</td>\n",
       "      <td>914.700000</td>\n",
       "      <td>0.0</td>\n",
       "      <td>1.0</td>\n",
       "    </tr>\n",
       "    <tr>\n",
       "      <th>193905</th>\n",
       "      <td>209597</td>\n",
       "      <td>209597</td>\n",
       "      <td>98526</td>\n",
       "      <td>1316</td>\n",
       "      <td>2019-11-25</td>\n",
       "      <td>NaN</td>\n",
       "      <td>98526</td>\n",
       "      <td>1316.0</td>\n",
       "      <td>1.0</td>\n",
       "      <td>0.0</td>\n",
       "      <td>2699.0</td>\n",
       "      <td>809.700000</td>\n",
       "      <td>0.0</td>\n",
       "      <td>1.0</td>\n",
       "    </tr>\n",
       "  </tbody>\n",
       "</table>\n",
       "<p>528 rows × 14 columns</p>\n",
       "</div>"
      ],
      "text/plain": [
       "        Unnamed: 0   index  product_rk  store_location_rk        date  demand  \\\n",
       "817            902     902       19544               1363  2019-11-04     NaN   \n",
       "1039          1163    1163       19545               1380  2019-11-04     NaN   \n",
       "1043          1167    1167       19545               1380  2019-11-18     NaN   \n",
       "1048          1172    1172       19545               1380  2019-11-25     NaN   \n",
       "1065          1202    1202      135955               1326  2019-11-04     NaN   \n",
       "...            ...     ...         ...                ...         ...     ...   \n",
       "193901      209593  209593       98432               1316  2019-11-25     NaN   \n",
       "193902      209594  209594       98445               1316  2019-11-25     NaN   \n",
       "193903      209595  209595       98470               1316  2019-11-25     NaN   \n",
       "193904      209596  209596       98475               1316  2019-11-25     NaN   \n",
       "193905      209597  209597       98526               1316  2019-11-25     NaN   \n",
       "\n",
       "        PRODUCT_RK  STORE_LOCATION_RK  PROMO1_FLAG  PROMO2_FLAG  \\\n",
       "817          19544             1363.0          1.0          0.0   \n",
       "1039         19545             1380.0          1.0          0.0   \n",
       "1043         19545             1380.0          1.0          0.0   \n",
       "1048         19545             1380.0          1.0          0.0   \n",
       "1065        135955             1326.0          1.0          0.0   \n",
       "...            ...                ...          ...          ...   \n",
       "193901       98432             1316.0          1.0          0.0   \n",
       "193902       98445             1316.0          1.0          0.0   \n",
       "193903       98470             1316.0          1.0          0.0   \n",
       "193904       98475             1316.0          1.0          0.0   \n",
       "193905       98526             1316.0          1.0          0.0   \n",
       "\n",
       "        PRICE_REGULAR  PRICE_AFTER_DISC  NUM_CONSULTANT  AUTORIZATION_FLAG  \n",
       "817            2999.0        899.700000             0.0                1.0  \n",
       "1039           2999.0       2142.142857             0.0                1.0  \n",
       "1043           2999.0       1499.500000             0.0                1.0  \n",
       "1048           2999.0       1499.500000             0.0                1.0  \n",
       "1065           2999.0       1499.500000             4.0                1.0  \n",
       "...               ...               ...             ...                ...  \n",
       "193901         2049.0       1024.500000             0.0                1.0  \n",
       "193902         3299.0        989.700000             0.0                1.0  \n",
       "193903         3049.0        914.700000             0.0                1.0  \n",
       "193904         3049.0        914.700000             0.0                1.0  \n",
       "193905         2699.0        809.700000             0.0                1.0  \n",
       "\n",
       "[528 rows x 14 columns]"
      ]
     },
     "execution_count": 5,
     "metadata": {},
     "output_type": "execute_result"
    }
   ],
   "source": [
    "ind = sample_sub['index'].tolist()\n",
    "test = train[train['index'].isin(ind)].copy()\n",
    "test"
   ]
  },
  {
   "cell_type": "code",
   "execution_count": 6,
   "id": "delayed-bradford",
   "metadata": {
    "execution": {
     "iopub.execute_input": "2021-06-18T08:17:48.046846Z",
     "iopub.status.busy": "2021-06-18T08:17:48.046207Z",
     "iopub.status.idle": "2021-06-18T08:17:48.050764Z",
     "shell.execute_reply": "2021-06-18T08:17:48.051325Z",
     "shell.execute_reply.started": "2021-06-18T08:03:25.092903Z"
    },
    "papermill": {
     "duration": 0.05799,
     "end_time": "2021-06-18T08:17:48.051506",
     "exception": false,
     "start_time": "2021-06-18T08:17:47.993516",
     "status": "completed"
    },
    "tags": []
   },
   "outputs": [],
   "source": [
    "index_answer = test['index'].tolist()"
   ]
  },
  {
   "cell_type": "code",
   "execution_count": 7,
   "id": "available-memory",
   "metadata": {
    "execution": {
     "iopub.execute_input": "2021-06-18T08:17:48.151005Z",
     "iopub.status.busy": "2021-06-18T08:17:48.149987Z",
     "iopub.status.idle": "2021-06-18T08:17:48.205639Z",
     "shell.execute_reply": "2021-06-18T08:17:48.204966Z",
     "shell.execute_reply.started": "2021-06-18T08:03:25.099644Z"
    },
    "papermill": {
     "duration": 0.107685,
     "end_time": "2021-06-18T08:17:48.205782",
     "exception": false,
     "start_time": "2021-06-18T08:17:48.098097",
     "status": "completed"
    },
    "tags": []
   },
   "outputs": [
    {
     "data": {
      "application/javascript": [
       "\n",
       "        if (window._pyforest_update_imports_cell) { window._pyforest_update_imports_cell('import matplotlib.pyplot as plt\\nimport numpy as np\\nimport pandas as pd'); }\n",
       "    "
      ],
      "text/plain": [
       "<IPython.core.display.Javascript object>"
      ]
     },
     "metadata": {},
     "output_type": "display_data"
    },
    {
     "data": {
      "text/html": [
       "<div>\n",
       "<style scoped>\n",
       "    .dataframe tbody tr th:only-of-type {\n",
       "        vertical-align: middle;\n",
       "    }\n",
       "\n",
       "    .dataframe tbody tr th {\n",
       "        vertical-align: top;\n",
       "    }\n",
       "\n",
       "    .dataframe thead th {\n",
       "        text-align: right;\n",
       "    }\n",
       "</style>\n",
       "<table border=\"1\" class=\"dataframe\">\n",
       "  <thead>\n",
       "    <tr style=\"text-align: right;\">\n",
       "      <th></th>\n",
       "      <th>Unnamed: 0</th>\n",
       "      <th>index</th>\n",
       "      <th>product_rk</th>\n",
       "      <th>store_location_rk</th>\n",
       "      <th>date</th>\n",
       "      <th>demand</th>\n",
       "      <th>PRODUCT_RK</th>\n",
       "      <th>STORE_LOCATION_RK</th>\n",
       "      <th>PROMO1_FLAG</th>\n",
       "      <th>PROMO2_FLAG</th>\n",
       "      <th>PRICE_REGULAR</th>\n",
       "      <th>PRICE_AFTER_DISC</th>\n",
       "      <th>NUM_CONSULTANT</th>\n",
       "      <th>AUTORIZATION_FLAG</th>\n",
       "    </tr>\n",
       "  </thead>\n",
       "  <tbody>\n",
       "    <tr>\n",
       "      <th>0</th>\n",
       "      <td>43</td>\n",
       "      <td>43</td>\n",
       "      <td>19540</td>\n",
       "      <td>309</td>\n",
       "      <td>2016-12-26</td>\n",
       "      <td>1.000000</td>\n",
       "      <td>19540</td>\n",
       "      <td>NaN</td>\n",
       "      <td>NaN</td>\n",
       "      <td>NaN</td>\n",
       "      <td>NaN</td>\n",
       "      <td>NaN</td>\n",
       "      <td>NaN</td>\n",
       "      <td>NaN</td>\n",
       "    </tr>\n",
       "    <tr>\n",
       "      <th>1</th>\n",
       "      <td>44</td>\n",
       "      <td>44</td>\n",
       "      <td>19540</td>\n",
       "      <td>355</td>\n",
       "      <td>2016-12-19</td>\n",
       "      <td>1.000000</td>\n",
       "      <td>19540</td>\n",
       "      <td>NaN</td>\n",
       "      <td>NaN</td>\n",
       "      <td>NaN</td>\n",
       "      <td>NaN</td>\n",
       "      <td>NaN</td>\n",
       "      <td>NaN</td>\n",
       "      <td>NaN</td>\n",
       "    </tr>\n",
       "    <tr>\n",
       "      <th>2</th>\n",
       "      <td>45</td>\n",
       "      <td>45</td>\n",
       "      <td>19540</td>\n",
       "      <td>355</td>\n",
       "      <td>2017-01-02</td>\n",
       "      <td>0.027027</td>\n",
       "      <td>19540</td>\n",
       "      <td>355.0</td>\n",
       "      <td>1.0</td>\n",
       "      <td>0.0</td>\n",
       "      <td>2849.000000</td>\n",
       "      <td>1709.40</td>\n",
       "      <td>0.0</td>\n",
       "      <td>1.0</td>\n",
       "    </tr>\n",
       "    <tr>\n",
       "      <th>3</th>\n",
       "      <td>46</td>\n",
       "      <td>46</td>\n",
       "      <td>19540</td>\n",
       "      <td>355</td>\n",
       "      <td>2017-03-27</td>\n",
       "      <td>1.000000</td>\n",
       "      <td>19540</td>\n",
       "      <td>355.0</td>\n",
       "      <td>0.0</td>\n",
       "      <td>0.0</td>\n",
       "      <td>2856.142857</td>\n",
       "      <td>1782.02</td>\n",
       "      <td>0.0</td>\n",
       "      <td>1.0</td>\n",
       "    </tr>\n",
       "    <tr>\n",
       "      <th>4</th>\n",
       "      <td>47</td>\n",
       "      <td>47</td>\n",
       "      <td>19540</td>\n",
       "      <td>355</td>\n",
       "      <td>2018-01-01</td>\n",
       "      <td>0.002740</td>\n",
       "      <td>19540</td>\n",
       "      <td>355.0</td>\n",
       "      <td>1.0</td>\n",
       "      <td>0.0</td>\n",
       "      <td>2899.000000</td>\n",
       "      <td>2217.74</td>\n",
       "      <td>0.0</td>\n",
       "      <td>1.0</td>\n",
       "    </tr>\n",
       "    <tr>\n",
       "      <th>...</th>\n",
       "      <td>...</td>\n",
       "      <td>...</td>\n",
       "      <td>...</td>\n",
       "      <td>...</td>\n",
       "      <td>...</td>\n",
       "      <td>...</td>\n",
       "      <td>...</td>\n",
       "      <td>...</td>\n",
       "      <td>...</td>\n",
       "      <td>...</td>\n",
       "      <td>...</td>\n",
       "      <td>...</td>\n",
       "      <td>...</td>\n",
       "      <td>...</td>\n",
       "    </tr>\n",
       "    <tr>\n",
       "      <th>193884</th>\n",
       "      <td>209576</td>\n",
       "      <td>209576</td>\n",
       "      <td>137670</td>\n",
       "      <td>1347</td>\n",
       "      <td>2019-09-16</td>\n",
       "      <td>0.000000</td>\n",
       "      <td>137670</td>\n",
       "      <td>1347.0</td>\n",
       "      <td>0.0</td>\n",
       "      <td>0.0</td>\n",
       "      <td>NaN</td>\n",
       "      <td>NaN</td>\n",
       "      <td>0.0</td>\n",
       "      <td>1.0</td>\n",
       "    </tr>\n",
       "    <tr>\n",
       "      <th>193885</th>\n",
       "      <td>209577</td>\n",
       "      <td>209577</td>\n",
       "      <td>137670</td>\n",
       "      <td>1316</td>\n",
       "      <td>2019-09-23</td>\n",
       "      <td>0.000000</td>\n",
       "      <td>137670</td>\n",
       "      <td>1316.0</td>\n",
       "      <td>0.0</td>\n",
       "      <td>0.0</td>\n",
       "      <td>NaN</td>\n",
       "      <td>NaN</td>\n",
       "      <td>0.0</td>\n",
       "      <td>1.0</td>\n",
       "    </tr>\n",
       "    <tr>\n",
       "      <th>193886</th>\n",
       "      <td>209578</td>\n",
       "      <td>209578</td>\n",
       "      <td>137670</td>\n",
       "      <td>1326</td>\n",
       "      <td>2019-09-23</td>\n",
       "      <td>0.000000</td>\n",
       "      <td>137670</td>\n",
       "      <td>1326.0</td>\n",
       "      <td>0.0</td>\n",
       "      <td>0.0</td>\n",
       "      <td>NaN</td>\n",
       "      <td>NaN</td>\n",
       "      <td>0.0</td>\n",
       "      <td>1.0</td>\n",
       "    </tr>\n",
       "    <tr>\n",
       "      <th>193887</th>\n",
       "      <td>209579</td>\n",
       "      <td>209579</td>\n",
       "      <td>98447</td>\n",
       "      <td>1316</td>\n",
       "      <td>2019-09-23</td>\n",
       "      <td>1.000000</td>\n",
       "      <td>98447</td>\n",
       "      <td>1316.0</td>\n",
       "      <td>1.0</td>\n",
       "      <td>0.0</td>\n",
       "      <td>3299.000000</td>\n",
       "      <td>NaN</td>\n",
       "      <td>0.0</td>\n",
       "      <td>1.0</td>\n",
       "    </tr>\n",
       "    <tr>\n",
       "      <th>193888</th>\n",
       "      <td>209580</td>\n",
       "      <td>209580</td>\n",
       "      <td>98471</td>\n",
       "      <td>1316</td>\n",
       "      <td>2019-10-07</td>\n",
       "      <td>1.000000</td>\n",
       "      <td>98471</td>\n",
       "      <td>1316.0</td>\n",
       "      <td>0.0</td>\n",
       "      <td>0.0</td>\n",
       "      <td>3049.000000</td>\n",
       "      <td>2286.75</td>\n",
       "      <td>0.0</td>\n",
       "      <td>1.0</td>\n",
       "    </tr>\n",
       "  </tbody>\n",
       "</table>\n",
       "<p>193378 rows × 14 columns</p>\n",
       "</div>"
      ],
      "text/plain": [
       "        Unnamed: 0   index  product_rk  store_location_rk        date  \\\n",
       "0               43      43       19540                309  2016-12-26   \n",
       "1               44      44       19540                355  2016-12-19   \n",
       "2               45      45       19540                355  2017-01-02   \n",
       "3               46      46       19540                355  2017-03-27   \n",
       "4               47      47       19540                355  2018-01-01   \n",
       "...            ...     ...         ...                ...         ...   \n",
       "193884      209576  209576      137670               1347  2019-09-16   \n",
       "193885      209577  209577      137670               1316  2019-09-23   \n",
       "193886      209578  209578      137670               1326  2019-09-23   \n",
       "193887      209579  209579       98447               1316  2019-09-23   \n",
       "193888      209580  209580       98471               1316  2019-10-07   \n",
       "\n",
       "          demand  PRODUCT_RK  STORE_LOCATION_RK  PROMO1_FLAG  PROMO2_FLAG  \\\n",
       "0       1.000000       19540                NaN          NaN          NaN   \n",
       "1       1.000000       19540                NaN          NaN          NaN   \n",
       "2       0.027027       19540              355.0          1.0          0.0   \n",
       "3       1.000000       19540              355.0          0.0          0.0   \n",
       "4       0.002740       19540              355.0          1.0          0.0   \n",
       "...          ...         ...                ...          ...          ...   \n",
       "193884  0.000000      137670             1347.0          0.0          0.0   \n",
       "193885  0.000000      137670             1316.0          0.0          0.0   \n",
       "193886  0.000000      137670             1326.0          0.0          0.0   \n",
       "193887  1.000000       98447             1316.0          1.0          0.0   \n",
       "193888  1.000000       98471             1316.0          0.0          0.0   \n",
       "\n",
       "        PRICE_REGULAR  PRICE_AFTER_DISC  NUM_CONSULTANT  AUTORIZATION_FLAG  \n",
       "0                 NaN               NaN             NaN                NaN  \n",
       "1                 NaN               NaN             NaN                NaN  \n",
       "2         2849.000000           1709.40             0.0                1.0  \n",
       "3         2856.142857           1782.02             0.0                1.0  \n",
       "4         2899.000000           2217.74             0.0                1.0  \n",
       "...               ...               ...             ...                ...  \n",
       "193884            NaN               NaN             0.0                1.0  \n",
       "193885            NaN               NaN             0.0                1.0  \n",
       "193886            NaN               NaN             0.0                1.0  \n",
       "193887    3299.000000               NaN             0.0                1.0  \n",
       "193888    3049.000000           2286.75             0.0                1.0  \n",
       "\n",
       "[193378 rows x 14 columns]"
      ]
     },
     "execution_count": 7,
     "metadata": {},
     "output_type": "execute_result"
    }
   ],
   "source": [
    "ind = sample_sub['index'].tolist()\n",
    "train = train[np.logical_not(train['index'].isin(ind))].copy()\n",
    "train"
   ]
  },
  {
   "cell_type": "code",
   "execution_count": 8,
   "id": "ideal-register",
   "metadata": {
    "execution": {
     "iopub.execute_input": "2021-06-18T08:17:48.318109Z",
     "iopub.status.busy": "2021-06-18T08:17:48.308225Z",
     "iopub.status.idle": "2021-06-18T08:17:48.363505Z",
     "shell.execute_reply": "2021-06-18T08:17:48.363960Z",
     "shell.execute_reply.started": "2021-06-18T08:03:25.169191Z"
    },
    "papermill": {
     "duration": 0.110475,
     "end_time": "2021-06-18T08:17:48.364139",
     "exception": false,
     "start_time": "2021-06-18T08:17:48.253664",
     "status": "completed"
    },
    "tags": []
   },
   "outputs": [
    {
     "data": {
      "text/html": [
       "<div>\n",
       "<style scoped>\n",
       "    .dataframe tbody tr th:only-of-type {\n",
       "        vertical-align: middle;\n",
       "    }\n",
       "\n",
       "    .dataframe tbody tr th {\n",
       "        vertical-align: top;\n",
       "    }\n",
       "\n",
       "    .dataframe thead th {\n",
       "        text-align: right;\n",
       "    }\n",
       "</style>\n",
       "<table border=\"1\" class=\"dataframe\">\n",
       "  <thead>\n",
       "    <tr style=\"text-align: right;\">\n",
       "      <th></th>\n",
       "      <th>product_rk</th>\n",
       "      <th>store_location_rk</th>\n",
       "      <th>date</th>\n",
       "      <th>demand</th>\n",
       "      <th>PRODUCT_RK</th>\n",
       "      <th>STORE_LOCATION_RK</th>\n",
       "      <th>PROMO1_FLAG</th>\n",
       "      <th>PROMO2_FLAG</th>\n",
       "      <th>PRICE_REGULAR</th>\n",
       "      <th>PRICE_AFTER_DISC</th>\n",
       "      <th>NUM_CONSULTANT</th>\n",
       "      <th>AUTORIZATION_FLAG</th>\n",
       "    </tr>\n",
       "  </thead>\n",
       "  <tbody>\n",
       "    <tr>\n",
       "      <th>0</th>\n",
       "      <td>19540</td>\n",
       "      <td>309</td>\n",
       "      <td>2016-12-26</td>\n",
       "      <td>1.000000</td>\n",
       "      <td>19540</td>\n",
       "      <td>NaN</td>\n",
       "      <td>NaN</td>\n",
       "      <td>NaN</td>\n",
       "      <td>NaN</td>\n",
       "      <td>NaN</td>\n",
       "      <td>NaN</td>\n",
       "      <td>NaN</td>\n",
       "    </tr>\n",
       "    <tr>\n",
       "      <th>1</th>\n",
       "      <td>19540</td>\n",
       "      <td>355</td>\n",
       "      <td>2016-12-19</td>\n",
       "      <td>1.000000</td>\n",
       "      <td>19540</td>\n",
       "      <td>NaN</td>\n",
       "      <td>NaN</td>\n",
       "      <td>NaN</td>\n",
       "      <td>NaN</td>\n",
       "      <td>NaN</td>\n",
       "      <td>NaN</td>\n",
       "      <td>NaN</td>\n",
       "    </tr>\n",
       "    <tr>\n",
       "      <th>2</th>\n",
       "      <td>19540</td>\n",
       "      <td>355</td>\n",
       "      <td>2017-01-02</td>\n",
       "      <td>0.027027</td>\n",
       "      <td>19540</td>\n",
       "      <td>355.0</td>\n",
       "      <td>1.0</td>\n",
       "      <td>0.0</td>\n",
       "      <td>2849.000000</td>\n",
       "      <td>1709.40</td>\n",
       "      <td>0.0</td>\n",
       "      <td>1.0</td>\n",
       "    </tr>\n",
       "    <tr>\n",
       "      <th>3</th>\n",
       "      <td>19540</td>\n",
       "      <td>355</td>\n",
       "      <td>2017-03-27</td>\n",
       "      <td>1.000000</td>\n",
       "      <td>19540</td>\n",
       "      <td>355.0</td>\n",
       "      <td>0.0</td>\n",
       "      <td>0.0</td>\n",
       "      <td>2856.142857</td>\n",
       "      <td>1782.02</td>\n",
       "      <td>0.0</td>\n",
       "      <td>1.0</td>\n",
       "    </tr>\n",
       "    <tr>\n",
       "      <th>4</th>\n",
       "      <td>19540</td>\n",
       "      <td>355</td>\n",
       "      <td>2018-01-01</td>\n",
       "      <td>0.002740</td>\n",
       "      <td>19540</td>\n",
       "      <td>355.0</td>\n",
       "      <td>1.0</td>\n",
       "      <td>0.0</td>\n",
       "      <td>2899.000000</td>\n",
       "      <td>2217.74</td>\n",
       "      <td>0.0</td>\n",
       "      <td>1.0</td>\n",
       "    </tr>\n",
       "    <tr>\n",
       "      <th>...</th>\n",
       "      <td>...</td>\n",
       "      <td>...</td>\n",
       "      <td>...</td>\n",
       "      <td>...</td>\n",
       "      <td>...</td>\n",
       "      <td>...</td>\n",
       "      <td>...</td>\n",
       "      <td>...</td>\n",
       "      <td>...</td>\n",
       "      <td>...</td>\n",
       "      <td>...</td>\n",
       "      <td>...</td>\n",
       "    </tr>\n",
       "    <tr>\n",
       "      <th>193884</th>\n",
       "      <td>137670</td>\n",
       "      <td>1347</td>\n",
       "      <td>2019-09-16</td>\n",
       "      <td>0.000000</td>\n",
       "      <td>137670</td>\n",
       "      <td>1347.0</td>\n",
       "      <td>0.0</td>\n",
       "      <td>0.0</td>\n",
       "      <td>NaN</td>\n",
       "      <td>NaN</td>\n",
       "      <td>0.0</td>\n",
       "      <td>1.0</td>\n",
       "    </tr>\n",
       "    <tr>\n",
       "      <th>193885</th>\n",
       "      <td>137670</td>\n",
       "      <td>1316</td>\n",
       "      <td>2019-09-23</td>\n",
       "      <td>0.000000</td>\n",
       "      <td>137670</td>\n",
       "      <td>1316.0</td>\n",
       "      <td>0.0</td>\n",
       "      <td>0.0</td>\n",
       "      <td>NaN</td>\n",
       "      <td>NaN</td>\n",
       "      <td>0.0</td>\n",
       "      <td>1.0</td>\n",
       "    </tr>\n",
       "    <tr>\n",
       "      <th>193886</th>\n",
       "      <td>137670</td>\n",
       "      <td>1326</td>\n",
       "      <td>2019-09-23</td>\n",
       "      <td>0.000000</td>\n",
       "      <td>137670</td>\n",
       "      <td>1326.0</td>\n",
       "      <td>0.0</td>\n",
       "      <td>0.0</td>\n",
       "      <td>NaN</td>\n",
       "      <td>NaN</td>\n",
       "      <td>0.0</td>\n",
       "      <td>1.0</td>\n",
       "    </tr>\n",
       "    <tr>\n",
       "      <th>193887</th>\n",
       "      <td>98447</td>\n",
       "      <td>1316</td>\n",
       "      <td>2019-09-23</td>\n",
       "      <td>1.000000</td>\n",
       "      <td>98447</td>\n",
       "      <td>1316.0</td>\n",
       "      <td>1.0</td>\n",
       "      <td>0.0</td>\n",
       "      <td>3299.000000</td>\n",
       "      <td>NaN</td>\n",
       "      <td>0.0</td>\n",
       "      <td>1.0</td>\n",
       "    </tr>\n",
       "    <tr>\n",
       "      <th>193888</th>\n",
       "      <td>98471</td>\n",
       "      <td>1316</td>\n",
       "      <td>2019-10-07</td>\n",
       "      <td>1.000000</td>\n",
       "      <td>98471</td>\n",
       "      <td>1316.0</td>\n",
       "      <td>0.0</td>\n",
       "      <td>0.0</td>\n",
       "      <td>3049.000000</td>\n",
       "      <td>2286.75</td>\n",
       "      <td>0.0</td>\n",
       "      <td>1.0</td>\n",
       "    </tr>\n",
       "  </tbody>\n",
       "</table>\n",
       "<p>187273 rows × 12 columns</p>\n",
       "</div>"
      ],
      "text/plain": [
       "        product_rk  store_location_rk        date    demand  PRODUCT_RK  \\\n",
       "0            19540                309  2016-12-26  1.000000       19540   \n",
       "1            19540                355  2016-12-19  1.000000       19540   \n",
       "2            19540                355  2017-01-02  0.027027       19540   \n",
       "3            19540                355  2017-03-27  1.000000       19540   \n",
       "4            19540                355  2018-01-01  0.002740       19540   \n",
       "...            ...                ...         ...       ...         ...   \n",
       "193884      137670               1347  2019-09-16  0.000000      137670   \n",
       "193885      137670               1316  2019-09-23  0.000000      137670   \n",
       "193886      137670               1326  2019-09-23  0.000000      137670   \n",
       "193887       98447               1316  2019-09-23  1.000000       98447   \n",
       "193888       98471               1316  2019-10-07  1.000000       98471   \n",
       "\n",
       "        STORE_LOCATION_RK  PROMO1_FLAG  PROMO2_FLAG  PRICE_REGULAR  \\\n",
       "0                     NaN          NaN          NaN            NaN   \n",
       "1                     NaN          NaN          NaN            NaN   \n",
       "2                   355.0          1.0          0.0    2849.000000   \n",
       "3                   355.0          0.0          0.0    2856.142857   \n",
       "4                   355.0          1.0          0.0    2899.000000   \n",
       "...                   ...          ...          ...            ...   \n",
       "193884             1347.0          0.0          0.0            NaN   \n",
       "193885             1316.0          0.0          0.0            NaN   \n",
       "193886             1326.0          0.0          0.0            NaN   \n",
       "193887             1316.0          1.0          0.0    3299.000000   \n",
       "193888             1316.0          0.0          0.0    3049.000000   \n",
       "\n",
       "        PRICE_AFTER_DISC  NUM_CONSULTANT  AUTORIZATION_FLAG  \n",
       "0                    NaN             NaN                NaN  \n",
       "1                    NaN             NaN                NaN  \n",
       "2                1709.40             0.0                1.0  \n",
       "3                1782.02             0.0                1.0  \n",
       "4                2217.74             0.0                1.0  \n",
       "...                  ...             ...                ...  \n",
       "193884               NaN             0.0                1.0  \n",
       "193885               NaN             0.0                1.0  \n",
       "193886               NaN             0.0                1.0  \n",
       "193887               NaN             0.0                1.0  \n",
       "193888           2286.75             0.0                1.0  \n",
       "\n",
       "[187273 rows x 12 columns]"
      ]
     },
     "execution_count": 8,
     "metadata": {},
     "output_type": "execute_result"
    }
   ],
   "source": [
    "to_drop = ['Unnamed: 0', 'index']\n",
    "train.drop(columns=to_drop, inplace=True)\n",
    "test.drop(columns=to_drop, inplace=True)\n",
    "\n",
    "train = train[train['demand'].notna()].copy()\n",
    "train"
   ]
  },
  {
   "cell_type": "markdown",
   "id": "dynamic-myanmar",
   "metadata": {
    "papermill": {
     "duration": 0.047813,
     "end_time": "2021-06-18T08:17:48.461877",
     "exception": false,
     "start_time": "2021-06-18T08:17:48.414064",
     "status": "completed"
    },
    "tags": []
   },
   "source": [
    "# Data Analysis"
   ]
  },
  {
   "cell_type": "code",
   "execution_count": 9,
   "id": "returning-latter",
   "metadata": {
    "execution": {
     "iopub.execute_input": "2021-06-18T08:17:48.566124Z",
     "iopub.status.busy": "2021-06-18T08:17:48.565495Z",
     "iopub.status.idle": "2021-06-18T08:17:48.568997Z",
     "shell.execute_reply": "2021-06-18T08:17:48.568467Z",
     "shell.execute_reply.started": "2021-06-18T08:03:25.224607Z"
    },
    "papermill": {
     "duration": 0.058119,
     "end_time": "2021-06-18T08:17:48.569129",
     "exception": false,
     "start_time": "2021-06-18T08:17:48.511010",
     "status": "completed"
    },
    "tags": []
   },
   "outputs": [
    {
     "data": {
      "text/plain": [
       "product_rk             int64\n",
       "store_location_rk      int64\n",
       "date                  object\n",
       "demand               float64\n",
       "PRODUCT_RK             int64\n",
       "STORE_LOCATION_RK    float64\n",
       "PROMO1_FLAG          float64\n",
       "PROMO2_FLAG          float64\n",
       "PRICE_REGULAR        float64\n",
       "PRICE_AFTER_DISC     float64\n",
       "NUM_CONSULTANT       float64\n",
       "AUTORIZATION_FLAG    float64\n",
       "dtype: object"
      ]
     },
     "execution_count": 9,
     "metadata": {},
     "output_type": "execute_result"
    }
   ],
   "source": [
    "train.dtypes"
   ]
  },
  {
   "cell_type": "code",
   "execution_count": 10,
   "id": "growing-reservoir",
   "metadata": {
    "execution": {
     "iopub.execute_input": "2021-06-18T08:17:48.689699Z",
     "iopub.status.busy": "2021-06-18T08:17:48.688942Z",
     "iopub.status.idle": "2021-06-18T08:17:48.709167Z",
     "shell.execute_reply": "2021-06-18T08:17:48.709707Z",
     "shell.execute_reply.started": "2021-06-18T08:03:25.233120Z"
    },
    "papermill": {
     "duration": 0.09085,
     "end_time": "2021-06-18T08:17:48.709880",
     "exception": false,
     "start_time": "2021-06-18T08:17:48.619030",
     "status": "completed"
    },
    "tags": []
   },
   "outputs": [
    {
     "name": "stdout",
     "output_type": "stream",
     "text": [
      "<class 'pandas.core.frame.DataFrame'>\n",
      "Int64Index: 187273 entries, 0 to 193888\n",
      "Data columns (total 12 columns):\n",
      " #   Column             Non-Null Count   Dtype  \n",
      "---  ------             --------------   -----  \n",
      " 0   product_rk         187273 non-null  int64  \n",
      " 1   store_location_rk  187273 non-null  int64  \n",
      " 2   date               187273 non-null  object \n",
      " 3   demand             187273 non-null  float64\n",
      " 4   PRODUCT_RK         187273 non-null  int64  \n",
      " 5   STORE_LOCATION_RK  185608 non-null  float64\n",
      " 6   PROMO1_FLAG        185608 non-null  float64\n",
      " 7   PROMO2_FLAG        185608 non-null  float64\n",
      " 8   PRICE_REGULAR      183565 non-null  float64\n",
      " 9   PRICE_AFTER_DISC   181921 non-null  float64\n",
      " 10  NUM_CONSULTANT     185608 non-null  float64\n",
      " 11  AUTORIZATION_FLAG  185608 non-null  float64\n",
      "dtypes: float64(8), int64(3), object(1)\n",
      "memory usage: 18.6+ MB\n"
     ]
    }
   ],
   "source": [
    "train.info()"
   ]
  },
  {
   "cell_type": "code",
   "execution_count": 11,
   "id": "metropolitan-compensation",
   "metadata": {
    "execution": {
     "iopub.execute_input": "2021-06-18T08:17:48.810935Z",
     "iopub.status.busy": "2021-06-18T08:17:48.810321Z",
     "iopub.status.idle": "2021-06-18T08:17:48.935038Z",
     "shell.execute_reply": "2021-06-18T08:17:48.934405Z",
     "shell.execute_reply.started": "2021-06-18T08:03:25.280111Z"
    },
    "papermill": {
     "duration": 0.176248,
     "end_time": "2021-06-18T08:17:48.935177",
     "exception": false,
     "start_time": "2021-06-18T08:17:48.758929",
     "status": "completed"
    },
    "tags": []
   },
   "outputs": [
    {
     "data": {
      "text/html": [
       "<div>\n",
       "<style scoped>\n",
       "    .dataframe tbody tr th:only-of-type {\n",
       "        vertical-align: middle;\n",
       "    }\n",
       "\n",
       "    .dataframe tbody tr th {\n",
       "        vertical-align: top;\n",
       "    }\n",
       "\n",
       "    .dataframe thead th {\n",
       "        text-align: right;\n",
       "    }\n",
       "</style>\n",
       "<table border=\"1\" class=\"dataframe\">\n",
       "  <thead>\n",
       "    <tr style=\"text-align: right;\">\n",
       "      <th></th>\n",
       "      <th>count</th>\n",
       "      <th>mean</th>\n",
       "      <th>std</th>\n",
       "      <th>min</th>\n",
       "      <th>25%</th>\n",
       "      <th>50%</th>\n",
       "      <th>75%</th>\n",
       "      <th>max</th>\n",
       "    </tr>\n",
       "  </thead>\n",
       "  <tbody>\n",
       "    <tr>\n",
       "      <th>product_rk</th>\n",
       "      <td>187273.0</td>\n",
       "      <td>55970.435733</td>\n",
       "      <td>36101.373388</td>\n",
       "      <td>19540.0</td>\n",
       "      <td>20968.000000</td>\n",
       "      <td>22276.000000</td>\n",
       "      <td>93246.0</td>\n",
       "      <td>140615.0</td>\n",
       "    </tr>\n",
       "    <tr>\n",
       "      <th>store_location_rk</th>\n",
       "      <td>187273.0</td>\n",
       "      <td>914.932708</td>\n",
       "      <td>343.596796</td>\n",
       "      <td>309.0</td>\n",
       "      <td>557.000000</td>\n",
       "      <td>874.000000</td>\n",
       "      <td>1281.0</td>\n",
       "      <td>1380.0</td>\n",
       "    </tr>\n",
       "    <tr>\n",
       "      <th>demand</th>\n",
       "      <td>187273.0</td>\n",
       "      <td>0.584657</td>\n",
       "      <td>0.732653</td>\n",
       "      <td>0.0</td>\n",
       "      <td>0.076087</td>\n",
       "      <td>0.268571</td>\n",
       "      <td>1.0</td>\n",
       "      <td>29.0</td>\n",
       "    </tr>\n",
       "    <tr>\n",
       "      <th>PRODUCT_RK</th>\n",
       "      <td>187273.0</td>\n",
       "      <td>55970.435733</td>\n",
       "      <td>36101.373388</td>\n",
       "      <td>19540.0</td>\n",
       "      <td>20968.000000</td>\n",
       "      <td>22276.000000</td>\n",
       "      <td>93246.0</td>\n",
       "      <td>140615.0</td>\n",
       "    </tr>\n",
       "    <tr>\n",
       "      <th>STORE_LOCATION_RK</th>\n",
       "      <td>185608.0</td>\n",
       "      <td>916.494251</td>\n",
       "      <td>343.370843</td>\n",
       "      <td>317.0</td>\n",
       "      <td>557.000000</td>\n",
       "      <td>874.000000</td>\n",
       "      <td>1281.0</td>\n",
       "      <td>1380.0</td>\n",
       "    </tr>\n",
       "    <tr>\n",
       "      <th>PROMO1_FLAG</th>\n",
       "      <td>185608.0</td>\n",
       "      <td>0.587744</td>\n",
       "      <td>0.542161</td>\n",
       "      <td>0.0</td>\n",
       "      <td>0.000000</td>\n",
       "      <td>1.000000</td>\n",
       "      <td>1.0</td>\n",
       "      <td>2.0</td>\n",
       "    </tr>\n",
       "    <tr>\n",
       "      <th>PROMO2_FLAG</th>\n",
       "      <td>185608.0</td>\n",
       "      <td>0.003723</td>\n",
       "      <td>0.060902</td>\n",
       "      <td>0.0</td>\n",
       "      <td>0.000000</td>\n",
       "      <td>0.000000</td>\n",
       "      <td>0.0</td>\n",
       "      <td>1.0</td>\n",
       "    </tr>\n",
       "    <tr>\n",
       "      <th>PRICE_REGULAR</th>\n",
       "      <td>183565.0</td>\n",
       "      <td>2326.133735</td>\n",
       "      <td>818.336801</td>\n",
       "      <td>81.0</td>\n",
       "      <td>1605.571429</td>\n",
       "      <td>2349.000000</td>\n",
       "      <td>2999.0</td>\n",
       "      <td>5199.0</td>\n",
       "    </tr>\n",
       "    <tr>\n",
       "      <th>PRICE_AFTER_DISC</th>\n",
       "      <td>181921.0</td>\n",
       "      <td>1584.741663</td>\n",
       "      <td>629.496672</td>\n",
       "      <td>1.0</td>\n",
       "      <td>1161.750000</td>\n",
       "      <td>1499.000000</td>\n",
       "      <td>1919.4</td>\n",
       "      <td>4599.0</td>\n",
       "    </tr>\n",
       "    <tr>\n",
       "      <th>NUM_CONSULTANT</th>\n",
       "      <td>185608.0</td>\n",
       "      <td>0.538064</td>\n",
       "      <td>1.488004</td>\n",
       "      <td>0.0</td>\n",
       "      <td>0.000000</td>\n",
       "      <td>0.000000</td>\n",
       "      <td>0.0</td>\n",
       "      <td>7.0</td>\n",
       "    </tr>\n",
       "    <tr>\n",
       "      <th>AUTORIZATION_FLAG</th>\n",
       "      <td>185608.0</td>\n",
       "      <td>0.905117</td>\n",
       "      <td>0.293054</td>\n",
       "      <td>0.0</td>\n",
       "      <td>1.000000</td>\n",
       "      <td>1.000000</td>\n",
       "      <td>1.0</td>\n",
       "      <td>1.0</td>\n",
       "    </tr>\n",
       "  </tbody>\n",
       "</table>\n",
       "</div>"
      ],
      "text/plain": [
       "                      count          mean           std      min  \\\n",
       "product_rk         187273.0  55970.435733  36101.373388  19540.0   \n",
       "store_location_rk  187273.0    914.932708    343.596796    309.0   \n",
       "demand             187273.0      0.584657      0.732653      0.0   \n",
       "PRODUCT_RK         187273.0  55970.435733  36101.373388  19540.0   \n",
       "STORE_LOCATION_RK  185608.0    916.494251    343.370843    317.0   \n",
       "PROMO1_FLAG        185608.0      0.587744      0.542161      0.0   \n",
       "PROMO2_FLAG        185608.0      0.003723      0.060902      0.0   \n",
       "PRICE_REGULAR      183565.0   2326.133735    818.336801     81.0   \n",
       "PRICE_AFTER_DISC   181921.0   1584.741663    629.496672      1.0   \n",
       "NUM_CONSULTANT     185608.0      0.538064      1.488004      0.0   \n",
       "AUTORIZATION_FLAG  185608.0      0.905117      0.293054      0.0   \n",
       "\n",
       "                            25%           50%      75%       max  \n",
       "product_rk         20968.000000  22276.000000  93246.0  140615.0  \n",
       "store_location_rk    557.000000    874.000000   1281.0    1380.0  \n",
       "demand                 0.076087      0.268571      1.0      29.0  \n",
       "PRODUCT_RK         20968.000000  22276.000000  93246.0  140615.0  \n",
       "STORE_LOCATION_RK    557.000000    874.000000   1281.0    1380.0  \n",
       "PROMO1_FLAG            0.000000      1.000000      1.0       2.0  \n",
       "PROMO2_FLAG            0.000000      0.000000      0.0       1.0  \n",
       "PRICE_REGULAR       1605.571429   2349.000000   2999.0    5199.0  \n",
       "PRICE_AFTER_DISC    1161.750000   1499.000000   1919.4    4599.0  \n",
       "NUM_CONSULTANT         0.000000      0.000000      0.0       7.0  \n",
       "AUTORIZATION_FLAG      1.000000      1.000000      1.0       1.0  "
      ]
     },
     "execution_count": 11,
     "metadata": {},
     "output_type": "execute_result"
    }
   ],
   "source": [
    "train.describe().transpose()"
   ]
  },
  {
   "cell_type": "code",
   "execution_count": 12,
   "id": "organic-badge",
   "metadata": {
    "execution": {
     "iopub.execute_input": "2021-06-18T08:17:49.043614Z",
     "iopub.status.busy": "2021-06-18T08:17:49.041673Z",
     "iopub.status.idle": "2021-06-18T08:17:49.049455Z",
     "shell.execute_reply": "2021-06-18T08:17:49.049925Z",
     "shell.execute_reply.started": "2021-06-18T08:03:25.406409Z"
    },
    "papermill": {
     "duration": 0.064852,
     "end_time": "2021-06-18T08:17:49.050109",
     "exception": false,
     "start_time": "2021-06-18T08:17:48.985257",
     "status": "completed"
    },
    "tags": []
   },
   "outputs": [],
   "source": [
    "del train['PRODUCT_RK']\n",
    "del train['STORE_LOCATION_RK']\n",
    "del test['PRODUCT_RK']\n",
    "del test['STORE_LOCATION_RK']"
   ]
  },
  {
   "cell_type": "code",
   "execution_count": 13,
   "id": "attractive-sample",
   "metadata": {
    "execution": {
     "iopub.execute_input": "2021-06-18T08:17:49.164146Z",
     "iopub.status.busy": "2021-06-18T08:17:49.162253Z",
     "iopub.status.idle": "2021-06-18T08:17:49.198825Z",
     "shell.execute_reply": "2021-06-18T08:17:49.199386Z",
     "shell.execute_reply.started": "2021-06-18T08:03:25.416970Z"
    },
    "papermill": {
     "duration": 0.097123,
     "end_time": "2021-06-18T08:17:49.199580",
     "exception": false,
     "start_time": "2021-06-18T08:17:49.102457",
     "status": "completed"
    },
    "tags": []
   },
   "outputs": [
    {
     "data": {
      "text/html": [
       "<div>\n",
       "<style scoped>\n",
       "    .dataframe tbody tr th:only-of-type {\n",
       "        vertical-align: middle;\n",
       "    }\n",
       "\n",
       "    .dataframe tbody tr th {\n",
       "        vertical-align: top;\n",
       "    }\n",
       "\n",
       "    .dataframe thead th {\n",
       "        text-align: right;\n",
       "    }\n",
       "</style>\n",
       "<table border=\"1\" class=\"dataframe\">\n",
       "  <thead>\n",
       "    <tr style=\"text-align: right;\">\n",
       "      <th></th>\n",
       "      <th>count</th>\n",
       "      <th>mean</th>\n",
       "      <th>std</th>\n",
       "      <th>min</th>\n",
       "      <th>25%</th>\n",
       "      <th>50%</th>\n",
       "      <th>75%</th>\n",
       "      <th>max</th>\n",
       "    </tr>\n",
       "  </thead>\n",
       "  <tbody>\n",
       "    <tr>\n",
       "      <th>product_rk</th>\n",
       "      <td>528.0</td>\n",
       "      <td>116074.626894</td>\n",
       "      <td>30231.066493</td>\n",
       "      <td>19544.0</td>\n",
       "      <td>98495.000000</td>\n",
       "      <td>132543.0</td>\n",
       "      <td>137645.0</td>\n",
       "      <td>145765.000000</td>\n",
       "    </tr>\n",
       "    <tr>\n",
       "      <th>store_location_rk</th>\n",
       "      <td>528.0</td>\n",
       "      <td>1015.696970</td>\n",
       "      <td>358.363827</td>\n",
       "      <td>317.0</td>\n",
       "      <td>642.250000</td>\n",
       "      <td>1185.0</td>\n",
       "      <td>1328.0</td>\n",
       "      <td>1380.000000</td>\n",
       "    </tr>\n",
       "    <tr>\n",
       "      <th>demand</th>\n",
       "      <td>0.0</td>\n",
       "      <td>NaN</td>\n",
       "      <td>NaN</td>\n",
       "      <td>NaN</td>\n",
       "      <td>NaN</td>\n",
       "      <td>NaN</td>\n",
       "      <td>NaN</td>\n",
       "      <td>NaN</td>\n",
       "    </tr>\n",
       "    <tr>\n",
       "      <th>PROMO1_FLAG</th>\n",
       "      <td>528.0</td>\n",
       "      <td>1.000000</td>\n",
       "      <td>0.000000</td>\n",
       "      <td>1.0</td>\n",
       "      <td>1.000000</td>\n",
       "      <td>1.0</td>\n",
       "      <td>1.0</td>\n",
       "      <td>1.000000</td>\n",
       "    </tr>\n",
       "    <tr>\n",
       "      <th>PROMO2_FLAG</th>\n",
       "      <td>528.0</td>\n",
       "      <td>0.081439</td>\n",
       "      <td>0.273768</td>\n",
       "      <td>0.0</td>\n",
       "      <td>0.000000</td>\n",
       "      <td>0.0</td>\n",
       "      <td>0.0</td>\n",
       "      <td>1.000000</td>\n",
       "    </tr>\n",
       "    <tr>\n",
       "      <th>PRICE_REGULAR</th>\n",
       "      <td>454.0</td>\n",
       "      <td>2389.590308</td>\n",
       "      <td>955.950614</td>\n",
       "      <td>529.0</td>\n",
       "      <td>1749.000000</td>\n",
       "      <td>2349.0</td>\n",
       "      <td>3336.5</td>\n",
       "      <td>4049.000000</td>\n",
       "    </tr>\n",
       "    <tr>\n",
       "      <th>PRICE_AFTER_DISC</th>\n",
       "      <td>454.0</td>\n",
       "      <td>1202.285630</td>\n",
       "      <td>564.040316</td>\n",
       "      <td>299.7</td>\n",
       "      <td>766.828571</td>\n",
       "      <td>1174.5</td>\n",
       "      <td>1724.5</td>\n",
       "      <td>3370.428571</td>\n",
       "    </tr>\n",
       "    <tr>\n",
       "      <th>NUM_CONSULTANT</th>\n",
       "      <td>528.0</td>\n",
       "      <td>0.500000</td>\n",
       "      <td>1.435521</td>\n",
       "      <td>0.0</td>\n",
       "      <td>0.000000</td>\n",
       "      <td>0.0</td>\n",
       "      <td>0.0</td>\n",
       "      <td>6.000000</td>\n",
       "    </tr>\n",
       "    <tr>\n",
       "      <th>AUTORIZATION_FLAG</th>\n",
       "      <td>528.0</td>\n",
       "      <td>0.979167</td>\n",
       "      <td>0.142962</td>\n",
       "      <td>0.0</td>\n",
       "      <td>1.000000</td>\n",
       "      <td>1.0</td>\n",
       "      <td>1.0</td>\n",
       "      <td>1.000000</td>\n",
       "    </tr>\n",
       "  </tbody>\n",
       "</table>\n",
       "</div>"
      ],
      "text/plain": [
       "                   count           mean           std      min           25%  \\\n",
       "product_rk         528.0  116074.626894  30231.066493  19544.0  98495.000000   \n",
       "store_location_rk  528.0    1015.696970    358.363827    317.0    642.250000   \n",
       "demand               0.0            NaN           NaN      NaN           NaN   \n",
       "PROMO1_FLAG        528.0       1.000000      0.000000      1.0      1.000000   \n",
       "PROMO2_FLAG        528.0       0.081439      0.273768      0.0      0.000000   \n",
       "PRICE_REGULAR      454.0    2389.590308    955.950614    529.0   1749.000000   \n",
       "PRICE_AFTER_DISC   454.0    1202.285630    564.040316    299.7    766.828571   \n",
       "NUM_CONSULTANT     528.0       0.500000      1.435521      0.0      0.000000   \n",
       "AUTORIZATION_FLAG  528.0       0.979167      0.142962      0.0      1.000000   \n",
       "\n",
       "                        50%       75%            max  \n",
       "product_rk         132543.0  137645.0  145765.000000  \n",
       "store_location_rk    1185.0    1328.0    1380.000000  \n",
       "demand                  NaN       NaN            NaN  \n",
       "PROMO1_FLAG             1.0       1.0       1.000000  \n",
       "PROMO2_FLAG             0.0       0.0       1.000000  \n",
       "PRICE_REGULAR        2349.0    3336.5    4049.000000  \n",
       "PRICE_AFTER_DISC     1174.5    1724.5    3370.428571  \n",
       "NUM_CONSULTANT          0.0       0.0       6.000000  \n",
       "AUTORIZATION_FLAG       1.0       1.0       1.000000  "
      ]
     },
     "execution_count": 13,
     "metadata": {},
     "output_type": "execute_result"
    }
   ],
   "source": [
    "test.describe().transpose()"
   ]
  },
  {
   "cell_type": "code",
   "execution_count": 14,
   "id": "front-madison",
   "metadata": {
    "execution": {
     "iopub.execute_input": "2021-06-18T08:17:49.303851Z",
     "iopub.status.busy": "2021-06-18T08:17:49.303123Z",
     "iopub.status.idle": "2021-06-18T08:17:49.317436Z",
     "shell.execute_reply": "2021-06-18T08:17:49.318182Z",
     "shell.execute_reply.started": "2021-06-18T08:03:25.464680Z"
    },
    "papermill": {
     "duration": 0.068067,
     "end_time": "2021-06-18T08:17:49.318477",
     "exception": false,
     "start_time": "2021-06-18T08:17:49.250410",
     "status": "completed"
    },
    "tags": []
   },
   "outputs": [
    {
     "name": "stdout",
     "output_type": "stream",
     "text": [
      "<class 'pandas.core.frame.DataFrame'>\n",
      "Int64Index: 528 entries, 817 to 193905\n",
      "Data columns (total 10 columns):\n",
      " #   Column             Non-Null Count  Dtype  \n",
      "---  ------             --------------  -----  \n",
      " 0   product_rk         528 non-null    int64  \n",
      " 1   store_location_rk  528 non-null    int64  \n",
      " 2   date               528 non-null    object \n",
      " 3   demand             0 non-null      float64\n",
      " 4   PROMO1_FLAG        528 non-null    float64\n",
      " 5   PROMO2_FLAG        528 non-null    float64\n",
      " 6   PRICE_REGULAR      454 non-null    float64\n",
      " 7   PRICE_AFTER_DISC   454 non-null    float64\n",
      " 8   NUM_CONSULTANT     528 non-null    float64\n",
      " 9   AUTORIZATION_FLAG  528 non-null    float64\n",
      "dtypes: float64(7), int64(2), object(1)\n",
      "memory usage: 45.4+ KB\n"
     ]
    }
   ],
   "source": [
    "test.info()"
   ]
  },
  {
   "cell_type": "code",
   "execution_count": 15,
   "id": "pointed-desktop",
   "metadata": {
    "execution": {
     "iopub.execute_input": "2021-06-18T08:17:49.428666Z",
     "iopub.status.busy": "2021-06-18T08:17:49.427941Z",
     "iopub.status.idle": "2021-06-18T08:17:49.431098Z",
     "shell.execute_reply": "2021-06-18T08:17:49.430561Z",
     "shell.execute_reply.started": "2021-06-18T08:03:25.481845Z"
    },
    "papermill": {
     "duration": 0.061311,
     "end_time": "2021-06-18T08:17:49.431255",
     "exception": false,
     "start_time": "2021-06-18T08:17:49.369944",
     "status": "completed"
    },
    "tags": []
   },
   "outputs": [],
   "source": [
    "del test['demand']"
   ]
  },
  {
   "cell_type": "code",
   "execution_count": 16,
   "id": "dense-scottish",
   "metadata": {
    "execution": {
     "iopub.execute_input": "2021-06-18T08:17:49.536275Z",
     "iopub.status.busy": "2021-06-18T08:17:49.535643Z",
     "iopub.status.idle": "2021-06-18T08:17:51.116214Z",
     "shell.execute_reply": "2021-06-18T08:17:51.115642Z",
     "shell.execute_reply.started": "2021-06-18T08:03:25.490200Z"
    },
    "papermill": {
     "duration": 1.634368,
     "end_time": "2021-06-18T08:17:51.116384",
     "exception": false,
     "start_time": "2021-06-18T08:17:49.482016",
     "status": "completed"
    },
    "tags": []
   },
   "outputs": [
    {
     "name": "stderr",
     "output_type": "stream",
     "text": [
      "/opt/conda/lib/python3.7/site-packages/pandas/plotting/_matplotlib/tools.py:400: MatplotlibDeprecationWarning: \n",
      "The is_first_col function was deprecated in Matplotlib 3.4 and will be removed two minor releases later. Use ax.get_subplotspec().is_first_col() instead.\n",
      "  if ax.is_first_col():\n"
     ]
    },
    {
     "data": {
      "image/png": "[encoded data removed]",
      "text/plain": [
       "<Figure size 1440x1440 with 9 Axes>"
      ]
     },
     "metadata": {
      "needs_background": "light"
     },
     "output_type": "display_data"
    }
   ],
   "source": [
    "_ = train.hist(figsize=(20,20))"
   ]
  },
  {
   "cell_type": "code",
   "execution_count": 17,
   "id": "certain-astrology",
   "metadata": {
    "execution": {
     "iopub.execute_input": "2021-06-18T08:17:51.228632Z",
     "iopub.status.busy": "2021-06-18T08:17:51.227918Z",
     "iopub.status.idle": "2021-06-18T08:17:51.296597Z",
     "shell.execute_reply": "2021-06-18T08:17:51.296006Z",
     "shell.execute_reply.started": "2021-06-18T08:03:27.056574Z"
    },
    "papermill": {
     "duration": 0.126348,
     "end_time": "2021-06-18T08:17:51.296740",
     "exception": false,
     "start_time": "2021-06-18T08:17:51.170392",
     "status": "completed"
    },
    "tags": []
   },
   "outputs": [
    {
     "data": {
      "text/plain": [
       "product_rk             894\n",
       "store_location_rk       41\n",
       "date                   147\n",
       "demand               17306\n",
       "PROMO1_FLAG              3\n",
       "PROMO2_FLAG              2\n",
       "PRICE_REGULAR         1991\n",
       "PRICE_AFTER_DISC     11693\n",
       "NUM_CONSULTANT           8\n",
       "AUTORIZATION_FLAG        2\n",
       "dtype: int64"
      ]
     },
     "execution_count": 17,
     "metadata": {},
     "output_type": "execute_result"
    }
   ],
   "source": [
    "train.nunique()"
   ]
  },
  {
   "cell_type": "code",
   "execution_count": 18,
   "id": "copyrighted-drawing",
   "metadata": {
    "execution": {
     "iopub.execute_input": "2021-06-18T08:17:51.407666Z",
     "iopub.status.busy": "2021-06-18T08:17:51.406839Z",
     "iopub.status.idle": "2021-06-18T08:17:51.435124Z",
     "shell.execute_reply": "2021-06-18T08:17:51.434621Z",
     "shell.execute_reply.started": "2021-06-18T08:03:27.132912Z"
    },
    "papermill": {
     "duration": 0.084904,
     "end_time": "2021-06-18T08:17:51.435280",
     "exception": false,
     "start_time": "2021-06-18T08:17:51.350376",
     "status": "completed"
    },
    "tags": []
   },
   "outputs": [
    {
     "data": {
      "text/plain": [
       "product_rk              0\n",
       "store_location_rk       0\n",
       "date                    0\n",
       "demand                  0\n",
       "PROMO1_FLAG          1665\n",
       "PROMO2_FLAG          1665\n",
       "PRICE_REGULAR        3708\n",
       "PRICE_AFTER_DISC     5352\n",
       "NUM_CONSULTANT       1665\n",
       "AUTORIZATION_FLAG    1665\n",
       "dtype: int64"
      ]
     },
     "execution_count": 18,
     "metadata": {},
     "output_type": "execute_result"
    }
   ],
   "source": [
    "train.isna().sum()"
   ]
  },
  {
   "cell_type": "code",
   "execution_count": 19,
   "id": "seven-inspector",
   "metadata": {
    "execution": {
     "iopub.execute_input": "2021-06-18T08:17:51.551850Z",
     "iopub.status.busy": "2021-06-18T08:17:51.551121Z",
     "iopub.status.idle": "2021-06-18T08:17:51.589209Z",
     "shell.execute_reply": "2021-06-18T08:17:51.589768Z",
     "shell.execute_reply.started": "2021-06-18T08:03:27.167308Z"
    },
    "papermill": {
     "duration": 0.100855,
     "end_time": "2021-06-18T08:17:51.589945",
     "exception": false,
     "start_time": "2021-06-18T08:17:51.489090",
     "status": "completed"
    },
    "tags": []
   },
   "outputs": [
    {
     "data": {
      "application/javascript": [
       "\n",
       "        if (window._pyforest_update_imports_cell) { window._pyforest_update_imports_cell('import matplotlib.pyplot as plt\\nimport numpy as np\\nimport pandas as pd'); }\n",
       "    "
      ],
      "text/plain": [
       "<IPython.core.display.Javascript object>"
      ]
     },
     "metadata": {},
     "output_type": "display_data"
    },
    {
     "data": {
      "application/javascript": [
       "\n",
       "        if (window._pyforest_update_imports_cell) { window._pyforest_update_imports_cell('import matplotlib.pyplot as plt\\nimport numpy as np\\nimport pandas as pd'); }\n",
       "    "
      ],
      "text/plain": [
       "<IPython.core.display.Javascript object>"
      ]
     },
     "metadata": {},
     "output_type": "display_data"
    },
    {
     "data": {
      "application/javascript": [
       "\n",
       "        if (window._pyforest_update_imports_cell) { window._pyforest_update_imports_cell('import matplotlib.pyplot as plt\\nimport numpy as np\\nimport pandas as pd'); }\n",
       "    "
      ],
      "text/plain": [
       "<IPython.core.display.Javascript object>"
      ]
     },
     "metadata": {},
     "output_type": "display_data"
    },
    {
     "data": {
      "application/javascript": [
       "\n",
       "        if (window._pyforest_update_imports_cell) { window._pyforest_update_imports_cell('import matplotlib.pyplot as plt\\nimport numpy as np\\nimport pandas as pd'); }\n",
       "    "
      ],
      "text/plain": [
       "<IPython.core.display.Javascript object>"
      ]
     },
     "metadata": {},
     "output_type": "display_data"
    }
   ],
   "source": [
    "fill_zero = ['PROMO1_FLAG', 'PROMO2_FLAG', 'NUM_CONSULTANT', 'AUTORIZATION_FLAG']\n",
    "fill_median = []\n",
    "fill_mean = ['PRICE_REGULAR', 'PRICE_AFTER_DISC']\n",
    "\n",
    "def fill_nans(df, zrs, mds, mns):\n",
    "    for el in mds:\n",
    "        df[el].fillna(np.median(df[el]), inplace=True)\n",
    "    for el in mns:\n",
    "        df[el].fillna(np.mean(df[el]), inplace=True)\n",
    "    for el in zrs:\n",
    "        df[el].fillna(0, inplace=True)\n",
    "    df.fillna(-1, inplace=True)\n",
    "    \n",
    "\n",
    "fill_nans(train, fill_zero, fill_median, fill_mean)\n",
    "for el in fill_mean:\n",
    "    test[el].fillna(np.mean(test[el]), inplace=True)"
   ]
  },
  {
   "cell_type": "code",
   "execution_count": 20,
   "id": "ordered-eagle",
   "metadata": {
    "execution": {
     "iopub.execute_input": "2021-06-18T08:17:51.721972Z",
     "iopub.status.busy": "2021-06-18T08:17:51.721341Z",
     "iopub.status.idle": "2021-06-18T08:17:51.732479Z",
     "shell.execute_reply": "2021-06-18T08:17:51.731815Z",
     "shell.execute_reply.started": "2021-06-18T08:03:27.220186Z"
    },
    "papermill": {
     "duration": 0.087305,
     "end_time": "2021-06-18T08:17:51.732625",
     "exception": false,
     "start_time": "2021-06-18T08:17:51.645320",
     "status": "completed"
    },
    "tags": []
   },
   "outputs": [
    {
     "data": {
      "text/plain": [
       "product_rk           0\n",
       "store_location_rk    0\n",
       "date                 0\n",
       "demand               0\n",
       "PROMO1_FLAG          0\n",
       "PROMO2_FLAG          0\n",
       "PRICE_REGULAR        0\n",
       "PRICE_AFTER_DISC     0\n",
       "NUM_CONSULTANT       0\n",
       "AUTORIZATION_FLAG    0\n",
       "dtype: int64"
      ]
     },
     "execution_count": 20,
     "metadata": {},
     "output_type": "execute_result"
    }
   ],
   "source": [
    "train.isna().sum()"
   ]
  },
  {
   "cell_type": "code",
   "execution_count": 21,
   "id": "pending-ground",
   "metadata": {
    "execution": {
     "iopub.execute_input": "2021-06-18T08:17:51.852261Z",
     "iopub.status.busy": "2021-06-18T08:17:51.851595Z",
     "iopub.status.idle": "2021-06-18T08:17:51.855755Z",
     "shell.execute_reply": "2021-06-18T08:17:51.855136Z",
     "shell.execute_reply.started": "2021-06-18T08:03:27.253524Z"
    },
    "papermill": {
     "duration": 0.067077,
     "end_time": "2021-06-18T08:17:51.855893",
     "exception": false,
     "start_time": "2021-06-18T08:17:51.788816",
     "status": "completed"
    },
    "tags": []
   },
   "outputs": [
    {
     "data": {
      "text/plain": [
       "product_rk             int64\n",
       "store_location_rk      int64\n",
       "date                  object\n",
       "demand               float64\n",
       "PROMO1_FLAG          float64\n",
       "PROMO2_FLAG          float64\n",
       "PRICE_REGULAR        float64\n",
       "PRICE_AFTER_DISC     float64\n",
       "NUM_CONSULTANT       float64\n",
       "AUTORIZATION_FLAG    float64\n",
       "dtype: object"
      ]
     },
     "execution_count": 21,
     "metadata": {},
     "output_type": "execute_result"
    }
   ],
   "source": [
    "train.dtypes"
   ]
  },
  {
   "cell_type": "code",
   "execution_count": 22,
   "id": "transsexual-bridal",
   "metadata": {
    "execution": {
     "iopub.execute_input": "2021-06-18T08:17:51.978993Z",
     "iopub.status.busy": "2021-06-18T08:17:51.978277Z",
     "iopub.status.idle": "2021-06-18T08:18:16.108398Z",
     "shell.execute_reply": "2021-06-18T08:18:16.107813Z",
     "shell.execute_reply.started": "2021-06-18T08:03:27.265343Z"
    },
    "papermill": {
     "duration": 24.196498,
     "end_time": "2021-06-18T08:18:16.108547",
     "exception": false,
     "start_time": "2021-06-18T08:17:51.912049",
     "status": "completed"
    },
    "tags": []
   },
   "outputs": [
    {
     "data": {
      "application/javascript": [
       "\n",
       "        if (window._pyforest_update_imports_cell) { window._pyforest_update_imports_cell('import matplotlib.pyplot as plt\\nimport numpy as np\\nimport pandas as pd'); }\n",
       "    "
      ],
      "text/plain": [
       "<IPython.core.display.Javascript object>"
      ]
     },
     "metadata": {},
     "output_type": "display_data"
    },
    {
     "data": {
      "application/javascript": [
       "\n",
       "        if (window._pyforest_update_imports_cell) { window._pyforest_update_imports_cell('import matplotlib.pyplot as plt\\nimport numpy as np\\nimport pandas as pd'); }\n",
       "    "
      ],
      "text/plain": [
       "<IPython.core.display.Javascript object>"
      ]
     },
     "metadata": {},
     "output_type": "display_data"
    }
   ],
   "source": [
    "def transform_date(df):\n",
    "    df['date_'] = df['date'].apply(pd.to_datetime)\n",
    "    df['day_of_year'] = df['date_'].apply(lambda x : x.dayofyear)\n",
    "    df['month'] = df['date_'].apply(lambda x : x.month)\n",
    "    df['day_of_week'] = df['date_'].apply(lambda x : x.weekday())\n",
    "    df['week_of_year'] = df['date_'].apply(lambda x : x.weekofyear)\n",
    "    df['year'] = df['date_'].apply(lambda x : x.year)\n",
    "\n",
    "transform_date(train)\n",
    "transform_date(test)"
   ]
  },
  {
   "cell_type": "code",
   "execution_count": 23,
   "id": "logical-eligibility",
   "metadata": {
    "execution": {
     "iopub.execute_input": "2021-06-18T08:18:16.234719Z",
     "iopub.status.busy": "2021-06-18T08:18:16.229432Z",
     "iopub.status.idle": "2021-06-18T08:18:17.508758Z",
     "shell.execute_reply": "2021-06-18T08:18:17.508109Z",
     "shell.execute_reply.started": "2021-06-18T08:03:51.845151Z"
    },
    "papermill": {
     "duration": 1.341908,
     "end_time": "2021-06-18T08:18:17.508907",
     "exception": false,
     "start_time": "2021-06-18T08:18:16.166999",
     "status": "completed"
    },
    "tags": []
   },
   "outputs": [],
   "source": [
    "train['date_'] = train['date_'].apply(lambda x: x.date())\n",
    "test['date_'] = test['date_'].apply(lambda x: x.date())"
   ]
  },
  {
   "cell_type": "code",
   "execution_count": 24,
   "id": "respected-trainer",
   "metadata": {
    "execution": {
     "iopub.execute_input": "2021-06-18T08:18:17.632298Z",
     "iopub.status.busy": "2021-06-18T08:18:17.631275Z",
     "iopub.status.idle": "2021-06-18T08:18:17.635842Z",
     "shell.execute_reply": "2021-06-18T08:18:17.635198Z",
     "shell.execute_reply.started": "2021-06-18T08:03:53.024890Z"
    },
    "papermill": {
     "duration": 0.069162,
     "end_time": "2021-06-18T08:18:17.635983",
     "exception": false,
     "start_time": "2021-06-18T08:18:17.566821",
     "status": "completed"
    },
    "tags": []
   },
   "outputs": [
    {
     "data": {
      "text/plain": [
       "product_rk             int64\n",
       "store_location_rk      int64\n",
       "date                  object\n",
       "demand               float64\n",
       "PROMO1_FLAG          float64\n",
       "PROMO2_FLAG          float64\n",
       "PRICE_REGULAR        float64\n",
       "PRICE_AFTER_DISC     float64\n",
       "NUM_CONSULTANT       float64\n",
       "AUTORIZATION_FLAG    float64\n",
       "date_                 object\n",
       "day_of_year            int64\n",
       "month                  int64\n",
       "day_of_week            int64\n",
       "week_of_year           int64\n",
       "year                   int64\n",
       "dtype: object"
      ]
     },
     "execution_count": 24,
     "metadata": {},
     "output_type": "execute_result"
    }
   ],
   "source": [
    "train.dtypes"
   ]
  },
  {
   "cell_type": "code",
   "execution_count": 25,
   "id": "particular-fashion",
   "metadata": {
    "execution": {
     "iopub.execute_input": "2021-06-18T08:18:17.758970Z",
     "iopub.status.busy": "2021-06-18T08:18:17.758314Z",
     "iopub.status.idle": "2021-06-18T08:18:25.205223Z",
     "shell.execute_reply": "2021-06-18T08:18:25.205789Z",
     "shell.execute_reply.started": "2021-06-18T08:03:53.039979Z"
    },
    "papermill": {
     "duration": 7.510441,
     "end_time": "2021-06-18T08:18:25.205969",
     "exception": false,
     "start_time": "2021-06-18T08:18:17.695528",
     "status": "completed"
    },
    "tags": []
   },
   "outputs": [
    {
     "data": {
      "application/javascript": [
       "\n",
       "        if (window._pyforest_update_imports_cell) { window._pyforest_update_imports_cell('import seaborn as sns\\nimport matplotlib.pyplot as plt\\nimport numpy as np\\nimport pandas as pd'); }\n",
       "    "
      ],
      "text/plain": [
       "<IPython.core.display.Javascript object>"
      ]
     },
     "metadata": {},
     "output_type": "display_data"
    },
    {
     "data": {
      "application/javascript": [
       "\n",
       "        if (window._pyforest_update_imports_cell) { window._pyforest_update_imports_cell('import seaborn as sns\\nimport matplotlib.pyplot as plt\\nimport numpy as np\\nimport pandas as pd'); }\n",
       "    "
      ],
      "text/plain": [
       "<IPython.core.display.Javascript object>"
      ]
     },
     "metadata": {},
     "output_type": "display_data"
    },
    {
     "data": {
      "image/png": "[encoded data removed]",
      "text/plain": [
       "<Figure size 1440x720 with 1 Axes>"
      ]
     },
     "metadata": {
      "needs_background": "light"
     },
     "output_type": "display_data"
    }
   ],
   "source": [
    "#sns.set(rc={'figure.figsize':(30,10)})\n",
    "g = sns.relplot(data=train, x='date_', y='demand', kind='line',)\n",
    "g.fig.set_size_inches(20,10)\n",
    "_ = plt.title('График спроса по времени')"
   ]
  },
  {
   "cell_type": "code",
   "execution_count": 26,
   "id": "documented-injury",
   "metadata": {
    "execution": {
     "iopub.execute_input": "2021-06-18T08:18:25.336103Z",
     "iopub.status.busy": "2021-06-18T08:18:25.335089Z",
     "iopub.status.idle": "2021-06-18T08:18:25.527634Z",
     "shell.execute_reply": "2021-06-18T08:18:25.526917Z",
     "shell.execute_reply.started": "2021-06-18T08:04:00.397391Z"
    },
    "papermill": {
     "duration": 0.258569,
     "end_time": "2021-06-18T08:18:25.527779",
     "exception": false,
     "start_time": "2021-06-18T08:18:25.269210",
     "status": "completed"
    },
    "tags": []
   },
   "outputs": [
    {
     "data": {
      "application/javascript": [
       "\n",
       "        if (window._pyforest_update_imports_cell) { window._pyforest_update_imports_cell('import seaborn as sns\\nimport matplotlib.pyplot as plt\\nimport numpy as np\\nimport pandas as pd'); }\n",
       "    "
      ],
      "text/plain": [
       "<IPython.core.display.Javascript object>"
      ]
     },
     "metadata": {},
     "output_type": "display_data"
    },
    {
     "data": {
      "text/plain": [
       "(array([145.,   0.,   0., 126.,   0.,   0., 127.,   0.,   0., 130.]),\n",
       " array([18204. , 18206.1, 18208.2, 18210.3, 18212.4, 18214.5, 18216.6,\n",
       "        18218.7, 18220.8, 18222.9, 18225. ]),\n",
       " <BarContainer object of 10 artists>)"
      ]
     },
     "execution_count": 26,
     "metadata": {},
     "output_type": "execute_result"
    },
    {
     "data": {
      "image/png": "[encoded data removed]",
      "text/plain": [
       "<Figure size 432x288 with 1 Axes>"
      ]
     },
     "metadata": {
      "needs_background": "light"
     },
     "output_type": "display_data"
    }
   ],
   "source": [
    "plt.hist(test.date_)"
   ]
  },
  {
   "cell_type": "code",
   "execution_count": 27,
   "id": "tender-provincial",
   "metadata": {
    "execution": {
     "iopub.execute_input": "2021-06-18T08:18:25.662564Z",
     "iopub.status.busy": "2021-06-18T08:18:25.661781Z",
     "iopub.status.idle": "2021-06-18T08:18:25.666110Z",
     "shell.execute_reply": "2021-06-18T08:18:25.665424Z",
     "shell.execute_reply.started": "2021-06-18T08:04:00.601410Z"
    },
    "papermill": {
     "duration": 0.074565,
     "end_time": "2021-06-18T08:18:25.666282",
     "exception": false,
     "start_time": "2021-06-18T08:18:25.591717",
     "status": "completed"
    },
    "tags": []
   },
   "outputs": [
    {
     "data": {
      "text/plain": [
       "[datetime.date(2019, 11, 4),\n",
       " datetime.date(2019, 11, 11),\n",
       " datetime.date(2019, 11, 18),\n",
       " datetime.date(2019, 11, 25)]"
      ]
     },
     "execution_count": 27,
     "metadata": {},
     "output_type": "execute_result"
    }
   ],
   "source": [
    "sorted(test.date_.unique().tolist())"
   ]
  },
  {
   "cell_type": "code",
   "execution_count": 28,
   "id": "oriented-announcement",
   "metadata": {
    "execution": {
     "iopub.execute_input": "2021-06-18T08:18:25.803989Z",
     "iopub.status.busy": "2021-06-18T08:18:25.802863Z",
     "iopub.status.idle": "2021-06-18T08:18:26.174892Z",
     "shell.execute_reply": "2021-06-18T08:18:26.174256Z",
     "shell.execute_reply.started": "2021-06-18T08:04:00.608640Z"
    },
    "papermill": {
     "duration": 0.443439,
     "end_time": "2021-06-18T08:18:26.175031",
     "exception": false,
     "start_time": "2021-06-18T08:18:25.731592",
     "status": "completed"
    },
    "tags": []
   },
   "outputs": [],
   "source": [
    "train['demand_for_week'] = 0\n",
    "for el in train['year'].unique().tolist():\n",
    "    sup = train[train['year'] == el][['week_of_year', 'demand']].groupby(by='week_of_year').sum()\n",
    "    sup = dict(zip(sup.index.tolist(), sup.demand)) \n",
    "    for key, val in sup.items():\n",
    "        train.loc[(train['year'] == el) & (train['week_of_year'] == key), 'demand_for_week'] = val"
   ]
  },
  {
   "cell_type": "code",
   "execution_count": 29,
   "id": "urban-enhancement",
   "metadata": {
    "execution": {
     "iopub.execute_input": "2021-06-18T08:18:26.310259Z",
     "iopub.status.busy": "2021-06-18T08:18:26.309425Z",
     "iopub.status.idle": "2021-06-18T08:18:33.440159Z",
     "shell.execute_reply": "2021-06-18T08:18:33.439501Z",
     "shell.execute_reply.started": "2021-06-18T08:04:01.014188Z"
    },
    "papermill": {
     "duration": 7.200788,
     "end_time": "2021-06-18T08:18:33.440320",
     "exception": false,
     "start_time": "2021-06-18T08:18:26.239532",
     "status": "completed"
    },
    "tags": []
   },
   "outputs": [
    {
     "data": {
      "application/javascript": [
       "\n",
       "        if (window._pyforest_update_imports_cell) { window._pyforest_update_imports_cell('import seaborn as sns\\nimport matplotlib.pyplot as plt\\nimport numpy as np\\nimport pandas as pd'); }\n",
       "    "
      ],
      "text/plain": [
       "<IPython.core.display.Javascript object>"
      ]
     },
     "metadata": {},
     "output_type": "display_data"
    },
    {
     "data": {
      "application/javascript": [
       "\n",
       "        if (window._pyforest_update_imports_cell) { window._pyforest_update_imports_cell('import seaborn as sns\\nimport matplotlib.pyplot as plt\\nimport numpy as np\\nimport pandas as pd'); }\n",
       "    "
      ],
      "text/plain": [
       "<IPython.core.display.Javascript object>"
      ]
     },
     "metadata": {},
     "output_type": "display_data"
    },
    {
     "data": {
      "text/plain": [
       "Text(0.5, 1.0, 'График суммарного спроса за неделю')"
      ]
     },
     "execution_count": 29,
     "metadata": {},
     "output_type": "execute_result"
    },
    {
     "data": {
      "image/png": "[encoded data removed]",
      "text/plain": [
       "<Figure size 1440x720 with 1 Axes>"
      ]
     },
     "metadata": {
      "needs_background": "light"
     },
     "output_type": "display_data"
    }
   ],
   "source": [
    "g = sns.relplot(data=train, x='date_', y='demand_for_week', kind='line',)\n",
    "g.fig.set_size_inches(20,10)\n",
    "plt.title('График суммарного спроса за неделю')"
   ]
  },
  {
   "cell_type": "code",
   "execution_count": 30,
   "id": "occupational-klein",
   "metadata": {
    "execution": {
     "iopub.execute_input": "2021-06-18T08:18:33.590547Z",
     "iopub.status.busy": "2021-06-18T08:18:33.582694Z",
     "iopub.status.idle": "2021-06-18T08:18:33.707085Z",
     "shell.execute_reply": "2021-06-18T08:18:33.706519Z",
     "shell.execute_reply.started": "2021-06-18T08:04:08.326395Z"
    },
    "papermill": {
     "duration": 0.198368,
     "end_time": "2021-06-18T08:18:33.707258",
     "exception": false,
     "start_time": "2021-06-18T08:18:33.508890",
     "status": "completed"
    },
    "tags": []
   },
   "outputs": [],
   "source": [
    "train['peaks'] = train['demand_for_week'].apply(lambda x: 1 if x > 1400 else 0)"
   ]
  },
  {
   "cell_type": "code",
   "execution_count": 31,
   "id": "casual-walnut",
   "metadata": {
    "execution": {
     "iopub.execute_input": "2021-06-18T08:18:33.860401Z",
     "iopub.status.busy": "2021-06-18T08:18:33.858347Z",
     "iopub.status.idle": "2021-06-18T08:18:33.880663Z",
     "shell.execute_reply": "2021-06-18T08:18:33.879942Z",
     "shell.execute_reply.started": "2021-06-18T08:04:08.456906Z"
    },
    "papermill": {
     "duration": 0.104476,
     "end_time": "2021-06-18T08:18:33.880811",
     "exception": false,
     "start_time": "2021-06-18T08:18:33.776335",
     "status": "completed"
    },
    "tags": []
   },
   "outputs": [
    {
     "data": {
      "text/plain": [
       "[datetime.date(2016, 12, 26),\n",
       " datetime.date(2017, 11, 6),\n",
       " datetime.date(2017, 11, 13),\n",
       " datetime.date(2017, 11, 27),\n",
       " datetime.date(2017, 12, 25),\n",
       " datetime.date(2018, 1, 1),\n",
       " datetime.date(2018, 3, 5),\n",
       " datetime.date(2018, 11, 5),\n",
       " datetime.date(2018, 11, 26),\n",
       " datetime.date(2018, 12, 17),\n",
       " datetime.date(2018, 12, 24),\n",
       " datetime.date(2018, 12, 31),\n",
       " datetime.date(2019, 3, 4)]"
      ]
     },
     "execution_count": 31,
     "metadata": {},
     "output_type": "execute_result"
    }
   ],
   "source": [
    "tmp = train[train['peaks'] == 1].copy()\n",
    "peak_dates = set(tmp['date_'].tolist()) \n",
    "sorted(peak_dates)"
   ]
  },
  {
   "cell_type": "code",
   "execution_count": 32,
   "id": "executed-chosen",
   "metadata": {
    "execution": {
     "iopub.execute_input": "2021-06-18T08:18:34.024846Z",
     "iopub.status.busy": "2021-06-18T08:18:34.023855Z",
     "iopub.status.idle": "2021-06-18T08:18:34.027276Z",
     "shell.execute_reply": "2021-06-18T08:18:34.026619Z",
     "shell.execute_reply.started": "2021-06-18T08:04:08.486628Z"
    },
    "papermill": {
     "duration": 0.077851,
     "end_time": "2021-06-18T08:18:34.027431",
     "exception": false,
     "start_time": "2021-06-18T08:18:33.949580",
     "status": "completed"
    },
    "tags": []
   },
   "outputs": [],
   "source": [
    "test['peaks'] = 1"
   ]
  },
  {
   "cell_type": "code",
   "execution_count": 33,
   "id": "returning-carol",
   "metadata": {
    "execution": {
     "iopub.execute_input": "2021-06-18T08:18:34.175705Z",
     "iopub.status.busy": "2021-06-18T08:18:34.174627Z",
     "iopub.status.idle": "2021-06-18T08:18:34.190547Z",
     "shell.execute_reply": "2021-06-18T08:18:34.190028Z",
     "shell.execute_reply.started": "2021-06-18T08:04:08.494386Z"
    },
    "papermill": {
     "duration": 0.093973,
     "end_time": "2021-06-18T08:18:34.190693",
     "exception": false,
     "start_time": "2021-06-18T08:18:34.096720",
     "status": "completed"
    },
    "tags": []
   },
   "outputs": [
    {
     "data": {
      "text/html": [
       "<div>\n",
       "<style scoped>\n",
       "    .dataframe tbody tr th:only-of-type {\n",
       "        vertical-align: middle;\n",
       "    }\n",
       "\n",
       "    .dataframe tbody tr th {\n",
       "        vertical-align: top;\n",
       "    }\n",
       "\n",
       "    .dataframe thead th {\n",
       "        text-align: right;\n",
       "    }\n",
       "</style>\n",
       "<table border=\"1\" class=\"dataframe\">\n",
       "  <thead>\n",
       "    <tr style=\"text-align: right;\">\n",
       "      <th></th>\n",
       "      <th>demand</th>\n",
       "    </tr>\n",
       "    <tr>\n",
       "      <th>store_location_rk</th>\n",
       "      <th></th>\n",
       "    </tr>\n",
       "  </thead>\n",
       "  <tbody>\n",
       "    <tr>\n",
       "      <th>644</th>\n",
       "      <td>0.382868</td>\n",
       "    </tr>\n",
       "    <tr>\n",
       "      <th>1202</th>\n",
       "      <td>0.383237</td>\n",
       "    </tr>\n",
       "    <tr>\n",
       "      <th>517</th>\n",
       "      <td>0.389279</td>\n",
       "    </tr>\n",
       "    <tr>\n",
       "      <th>862</th>\n",
       "      <td>0.404768</td>\n",
       "    </tr>\n",
       "    <tr>\n",
       "      <th>874</th>\n",
       "      <td>0.414673</td>\n",
       "    </tr>\n",
       "    <tr>\n",
       "      <th>1185</th>\n",
       "      <td>0.419681</td>\n",
       "    </tr>\n",
       "    <tr>\n",
       "      <th>1191</th>\n",
       "      <td>0.420124</td>\n",
       "    </tr>\n",
       "    <tr>\n",
       "      <th>533</th>\n",
       "      <td>0.426203</td>\n",
       "    </tr>\n",
       "    <tr>\n",
       "      <th>866</th>\n",
       "      <td>0.432126</td>\n",
       "    </tr>\n",
       "    <tr>\n",
       "      <th>1203</th>\n",
       "      <td>0.435483</td>\n",
       "    </tr>\n",
       "    <tr>\n",
       "      <th>1143</th>\n",
       "      <td>0.448016</td>\n",
       "    </tr>\n",
       "    <tr>\n",
       "      <th>535</th>\n",
       "      <td>0.450847</td>\n",
       "    </tr>\n",
       "    <tr>\n",
       "      <th>562</th>\n",
       "      <td>0.452408</td>\n",
       "    </tr>\n",
       "    <tr>\n",
       "      <th>557</th>\n",
       "      <td>0.459194</td>\n",
       "    </tr>\n",
       "    <tr>\n",
       "      <th>1079</th>\n",
       "      <td>0.459626</td>\n",
       "    </tr>\n",
       "    <tr>\n",
       "      <th>1080</th>\n",
       "      <td>0.461869</td>\n",
       "    </tr>\n",
       "    <tr>\n",
       "      <th>504</th>\n",
       "      <td>0.488113</td>\n",
       "    </tr>\n",
       "    <tr>\n",
       "      <th>1162</th>\n",
       "      <td>0.489707</td>\n",
       "    </tr>\n",
       "    <tr>\n",
       "      <th>380</th>\n",
       "      <td>0.493155</td>\n",
       "    </tr>\n",
       "    <tr>\n",
       "      <th>425</th>\n",
       "      <td>0.493170</td>\n",
       "    </tr>\n",
       "    <tr>\n",
       "      <th>540</th>\n",
       "      <td>0.494283</td>\n",
       "    </tr>\n",
       "    <tr>\n",
       "      <th>453</th>\n",
       "      <td>0.504143</td>\n",
       "    </tr>\n",
       "    <tr>\n",
       "      <th>525</th>\n",
       "      <td>0.508489</td>\n",
       "    </tr>\n",
       "    <tr>\n",
       "      <th>355</th>\n",
       "      <td>0.510713</td>\n",
       "    </tr>\n",
       "    <tr>\n",
       "      <th>1173</th>\n",
       "      <td>0.510969</td>\n",
       "    </tr>\n",
       "    <tr>\n",
       "      <th>555</th>\n",
       "      <td>0.532121</td>\n",
       "    </tr>\n",
       "    <tr>\n",
       "      <th>637</th>\n",
       "      <td>0.537601</td>\n",
       "    </tr>\n",
       "    <tr>\n",
       "      <th>657</th>\n",
       "      <td>0.586269</td>\n",
       "    </tr>\n",
       "    <tr>\n",
       "      <th>764</th>\n",
       "      <td>0.589168</td>\n",
       "    </tr>\n",
       "    <tr>\n",
       "      <th>1034</th>\n",
       "      <td>0.591101</td>\n",
       "    </tr>\n",
       "    <tr>\n",
       "      <th>798</th>\n",
       "      <td>0.593871</td>\n",
       "    </tr>\n",
       "    <tr>\n",
       "      <th>317</th>\n",
       "      <td>0.609039</td>\n",
       "    </tr>\n",
       "    <tr>\n",
       "      <th>1363</th>\n",
       "      <td>0.669712</td>\n",
       "    </tr>\n",
       "    <tr>\n",
       "      <th>1347</th>\n",
       "      <td>0.712699</td>\n",
       "    </tr>\n",
       "    <tr>\n",
       "      <th>1328</th>\n",
       "      <td>0.744439</td>\n",
       "    </tr>\n",
       "    <tr>\n",
       "      <th>1281</th>\n",
       "      <td>0.745229</td>\n",
       "    </tr>\n",
       "    <tr>\n",
       "      <th>1326</th>\n",
       "      <td>0.767863</td>\n",
       "    </tr>\n",
       "    <tr>\n",
       "      <th>1005</th>\n",
       "      <td>0.791716</td>\n",
       "    </tr>\n",
       "    <tr>\n",
       "      <th>1316</th>\n",
       "      <td>0.810476</td>\n",
       "    </tr>\n",
       "    <tr>\n",
       "      <th>1380</th>\n",
       "      <td>0.865261</td>\n",
       "    </tr>\n",
       "    <tr>\n",
       "      <th>309</th>\n",
       "      <td>1.306104</td>\n",
       "    </tr>\n",
       "  </tbody>\n",
       "</table>\n",
       "</div>"
      ],
      "text/plain": [
       "                     demand\n",
       "store_location_rk          \n",
       "644                0.382868\n",
       "1202               0.383237\n",
       "517                0.389279\n",
       "862                0.404768\n",
       "874                0.414673\n",
       "1185               0.419681\n",
       "1191               0.420124\n",
       "533                0.426203\n",
       "866                0.432126\n",
       "1203               0.435483\n",
       "1143               0.448016\n",
       "535                0.450847\n",
       "562                0.452408\n",
       "557                0.459194\n",
       "1079               0.459626\n",
       "1080               0.461869\n",
       "504                0.488113\n",
       "1162               0.489707\n",
       "380                0.493155\n",
       "425                0.493170\n",
       "540                0.494283\n",
       "453                0.504143\n",
       "525                0.508489\n",
       "355                0.510713\n",
       "1173               0.510969\n",
       "555                0.532121\n",
       "637                0.537601\n",
       "657                0.586269\n",
       "764                0.589168\n",
       "1034               0.591101\n",
       "798                0.593871\n",
       "317                0.609039\n",
       "1363               0.669712\n",
       "1347               0.712699\n",
       "1328               0.744439\n",
       "1281               0.745229\n",
       "1326               0.767863\n",
       "1005               0.791716\n",
       "1316               0.810476\n",
       "1380               0.865261\n",
       "309                1.306104"
      ]
     },
     "execution_count": 33,
     "metadata": {},
     "output_type": "execute_result"
    }
   ],
   "source": [
    "reg_mean = train[['store_location_rk', 'demand']].groupby(by='store_location_rk').mean().sort_values(by='demand')\n",
    "reg_mean"
   ]
  },
  {
   "cell_type": "code",
   "execution_count": 34,
   "id": "strong-plane",
   "metadata": {
    "execution": {
     "iopub.execute_input": "2021-06-18T08:18:34.346905Z",
     "iopub.status.busy": "2021-06-18T08:18:34.344913Z",
     "iopub.status.idle": "2021-06-18T08:18:34.499610Z",
     "shell.execute_reply": "2021-06-18T08:18:34.499021Z",
     "shell.execute_reply.started": "2021-06-18T08:04:08.527619Z"
    },
    "papermill": {
     "duration": 0.239348,
     "end_time": "2021-06-18T08:18:34.499758",
     "exception": false,
     "start_time": "2021-06-18T08:18:34.260410",
     "status": "completed"
    },
    "tags": []
   },
   "outputs": [],
   "source": [
    "def get_type_reg(x):\n",
    "    if x >= 0.70:\n",
    "        return 5\n",
    "    elif x >= 0.50:\n",
    "        return 3\n",
    "#     elif x >= 2000:\n",
    "#         return 1\n",
    "    return 1\n",
    "        \n",
    "reg_mean['type'] = reg_mean['demand'].apply(get_type_reg)\n",
    "\n",
    "regs = dict(zip(reg_mean.index.tolist(), reg_mean['type'].tolist()))\n",
    "train['reg_type'] = train['store_location_rk'].apply(lambda x: regs[x] if x in regs else 0)\n",
    "test['reg_type'] = test['store_location_rk'].apply(lambda x: regs[x] if x in regs else 0)"
   ]
  },
  {
   "cell_type": "code",
   "execution_count": 35,
   "id": "chinese-opera",
   "metadata": {
    "execution": {
     "iopub.execute_input": "2021-06-18T08:18:34.644246Z",
     "iopub.status.busy": "2021-06-18T08:18:34.643566Z",
     "iopub.status.idle": "2021-06-18T08:18:36.184009Z",
     "shell.execute_reply": "2021-06-18T08:18:36.183355Z",
     "shell.execute_reply.started": "2021-06-18T08:04:08.680917Z"
    },
    "papermill": {
     "duration": 1.615068,
     "end_time": "2021-06-18T08:18:36.184153",
     "exception": false,
     "start_time": "2021-06-18T08:18:34.569085",
     "status": "completed"
    },
    "tags": []
   },
   "outputs": [
    {
     "data": {
      "text/html": [
       "<div>\n",
       "<style scoped>\n",
       "    .dataframe tbody tr th:only-of-type {\n",
       "        vertical-align: middle;\n",
       "    }\n",
       "\n",
       "    .dataframe tbody tr th {\n",
       "        vertical-align: top;\n",
       "    }\n",
       "\n",
       "    .dataframe thead th {\n",
       "        text-align: right;\n",
       "    }\n",
       "</style>\n",
       "<table border=\"1\" class=\"dataframe\">\n",
       "  <thead>\n",
       "    <tr style=\"text-align: right;\">\n",
       "      <th></th>\n",
       "      <th></th>\n",
       "      <th>date_</th>\n",
       "    </tr>\n",
       "    <tr>\n",
       "      <th>product_rk</th>\n",
       "      <th>store_location_rk</th>\n",
       "      <th></th>\n",
       "    </tr>\n",
       "  </thead>\n",
       "  <tbody>\n",
       "    <tr>\n",
       "      <th>91374</th>\n",
       "      <th>557</th>\n",
       "      <td>2016-12-19</td>\n",
       "    </tr>\n",
       "    <tr>\n",
       "      <th rowspan=\"4\" valign=\"top\">20940</th>\n",
       "      <th>1143</th>\n",
       "      <td>2016-12-19</td>\n",
       "    </tr>\n",
       "    <tr>\n",
       "      <th>1005</th>\n",
       "      <td>2016-12-19</td>\n",
       "    </tr>\n",
       "    <tr>\n",
       "      <th>862</th>\n",
       "      <td>2016-12-19</td>\n",
       "    </tr>\n",
       "    <tr>\n",
       "      <th>798</th>\n",
       "      <td>2016-12-19</td>\n",
       "    </tr>\n",
       "    <tr>\n",
       "      <th>...</th>\n",
       "      <th>...</th>\n",
       "      <td>...</td>\n",
       "    </tr>\n",
       "    <tr>\n",
       "      <th>98858</th>\n",
       "      <th>657</th>\n",
       "      <td>2019-10-28</td>\n",
       "    </tr>\n",
       "    <tr>\n",
       "      <th>88576</th>\n",
       "      <th>525</th>\n",
       "      <td>2019-10-28</td>\n",
       "    </tr>\n",
       "    <tr>\n",
       "      <th>88236</th>\n",
       "      <th>355</th>\n",
       "      <td>2019-10-28</td>\n",
       "    </tr>\n",
       "    <tr>\n",
       "      <th>93020</th>\n",
       "      <th>557</th>\n",
       "      <td>2019-10-28</td>\n",
       "    </tr>\n",
       "    <tr>\n",
       "      <th>132543</th>\n",
       "      <th>1281</th>\n",
       "      <td>2019-10-28</td>\n",
       "    </tr>\n",
       "  </tbody>\n",
       "</table>\n",
       "<p>14797 rows × 1 columns</p>\n",
       "</div>"
      ],
      "text/plain": [
       "                                   date_\n",
       "product_rk store_location_rk            \n",
       "91374      557                2016-12-19\n",
       "20940      1143               2016-12-19\n",
       "           1005               2016-12-19\n",
       "           862                2016-12-19\n",
       "           798                2016-12-19\n",
       "...                                  ...\n",
       "98858      657                2019-10-28\n",
       "88576      525                2019-10-28\n",
       "88236      355                2019-10-28\n",
       "93020      557                2019-10-28\n",
       "132543     1281               2019-10-28\n",
       "\n",
       "[14797 rows x 1 columns]"
      ]
     },
     "execution_count": 35,
     "metadata": {},
     "output_type": "execute_result"
    }
   ],
   "source": [
    "sup = train[['product_rk', 'store_location_rk', 'date_']].groupby(by=['product_rk', 'store_location_rk']).min()\n",
    "sup = sup.sort_values('date_')\n",
    "sup"
   ]
  },
  {
   "cell_type": "code",
   "execution_count": 36,
   "id": "static-reservoir",
   "metadata": {
    "execution": {
     "iopub.execute_input": "2021-06-18T08:18:36.331898Z",
     "iopub.status.busy": "2021-06-18T08:18:36.331195Z",
     "iopub.status.idle": "2021-06-18T08:18:40.282822Z",
     "shell.execute_reply": "2021-06-18T08:18:40.282297Z",
     "shell.execute_reply.started": "2021-06-18T08:04:10.470680Z"
    },
    "papermill": {
     "duration": 4.028953,
     "end_time": "2021-06-18T08:18:40.282959",
     "exception": false,
     "start_time": "2021-06-18T08:18:36.254006",
     "status": "completed"
    },
    "tags": []
   },
   "outputs": [
    {
     "data": {
      "application/javascript": [
       "\n",
       "        if (window._pyforest_update_imports_cell) { window._pyforest_update_imports_cell('import seaborn as sns\\nimport matplotlib.pyplot as plt\\nimport numpy as np\\nimport pandas as pd'); }\n",
       "    "
      ],
      "text/plain": [
       "<IPython.core.display.Javascript object>"
      ]
     },
     "metadata": {},
     "output_type": "display_data"
    },
    {
     "data": {
      "application/javascript": [
       "\n",
       "        if (window._pyforest_update_imports_cell) { window._pyforest_update_imports_cell('import seaborn as sns\\nimport matplotlib.pyplot as plt\\nimport numpy as np\\nimport pandas as pd'); }\n",
       "    "
      ],
      "text/plain": [
       "<IPython.core.display.Javascript object>"
      ]
     },
     "metadata": {},
     "output_type": "display_data"
    },
    {
     "name": "stderr",
     "output_type": "stream",
     "text": [
      "/opt/conda/lib/python3.7/site-packages/seaborn/_decorators.py:43: FutureWarning: Pass the following variable as a keyword arg: x. From version 0.12, the only valid positional argument will be `data`, and passing other arguments without an explicit keyword will result in an error or misinterpretation.\n",
      "  FutureWarning\n"
     ]
    },
    {
     "data": {
      "application/javascript": [
       "\n",
       "        if (window._pyforest_update_imports_cell) { window._pyforest_update_imports_cell('import seaborn as sns\\nimport matplotlib.pyplot as plt\\nimport numpy as np\\nimport pandas as pd'); }\n",
       "    "
      ],
      "text/plain": [
       "<IPython.core.display.Javascript object>"
      ]
     },
     "metadata": {},
     "output_type": "display_data"
    },
    {
     "data": {
      "image/png": "[encoded data removed]",
      "text/plain": [
       "<Figure size 2160x1440 with 1 Axes>"
      ]
     },
     "metadata": {
      "needs_background": "light"
     },
     "output_type": "display_data"
    }
   ],
   "source": [
    "sup = train[['product_rk', 'store_location_rk', 'date_']].groupby(by=['product_rk', 'store_location_rk']).min()\n",
    "sup = sup.sort_values('date_')\n",
    "plt.figure(figsize=(30,20))\n",
    "ax = sns.countplot(sup['date_'])\n",
    "_ = ax.set_xticklabels(ax.get_xticklabels(),rotation=90)\n",
    "_ = plt.title('Минимальная дата для каждой пары')"
   ]
  },
  {
   "cell_type": "code",
   "execution_count": 37,
   "id": "flexible-joshua",
   "metadata": {
    "execution": {
     "iopub.execute_input": "2021-06-18T08:18:40.439791Z",
     "iopub.status.busy": "2021-06-18T08:18:40.438738Z",
     "iopub.status.idle": "2021-06-18T08:18:40.443751Z",
     "shell.execute_reply": "2021-06-18T08:18:40.444192Z",
     "shell.execute_reply.started": "2021-06-18T08:04:14.951712Z"
    },
    "papermill": {
     "duration": 0.087321,
     "end_time": "2021-06-18T08:18:40.444409",
     "exception": false,
     "start_time": "2021-06-18T08:18:40.357088",
     "status": "completed"
    },
    "tags": []
   },
   "outputs": [],
   "source": [
    "sup = sup[sup['date_'] >= date(2017, 1, 9)].copy()"
   ]
  },
  {
   "cell_type": "code",
   "execution_count": 38,
   "id": "decimal-qualification",
   "metadata": {
    "execution": {
     "iopub.execute_input": "2021-06-18T08:18:40.643189Z",
     "iopub.status.busy": "2021-06-18T08:18:40.602732Z",
     "iopub.status.idle": "2021-06-18T08:18:49.392847Z",
     "shell.execute_reply": "2021-06-18T08:18:49.393338Z",
     "shell.execute_reply.started": "2021-06-18T08:04:14.963932Z"
    },
    "papermill": {
     "duration": 8.873769,
     "end_time": "2021-06-18T08:18:49.393526",
     "exception": false,
     "start_time": "2021-06-18T08:18:40.519757",
     "status": "completed"
    },
    "tags": []
   },
   "outputs": [],
   "source": [
    "time_dict = dict(zip(sup.index.tolist(), zip(sup.date_.tolist(), (sup.date_ + timedelta(days=24)).tolist())))\n",
    "def func(x, sup):\n",
    "    if (x.product_rk, x.store_location_rk) in sup:\n",
    "        el = sup[(x.product_rk, x.store_location_rk)]\n",
    "        if el[0] <= x.date_ <= el[1]:\n",
    "            return 1\n",
    "        else:\n",
    "            return 0\n",
    "    return 0\n",
    "\n",
    "train['take'] = 0\n",
    "train['take'] = train.apply(func, args=[time_dict], axis=1)"
   ]
  },
  {
   "cell_type": "code",
   "execution_count": 39,
   "id": "fitted-marketplace",
   "metadata": {
    "execution": {
     "iopub.execute_input": "2021-06-18T08:18:49.546556Z",
     "iopub.status.busy": "2021-06-18T08:18:49.545580Z",
     "iopub.status.idle": "2021-06-18T08:18:49.555042Z",
     "shell.execute_reply": "2021-06-18T08:18:49.554479Z",
     "shell.execute_reply.started": "2021-06-18T08:04:23.790024Z"
    },
    "papermill": {
     "duration": 0.087766,
     "end_time": "2021-06-18T08:18:49.555193",
     "exception": false,
     "start_time": "2021-06-18T08:18:49.467427",
     "status": "completed"
    },
    "tags": []
   },
   "outputs": [],
   "source": [
    "train = train[train['take'] == 1].copy()\n"
   ]
  },
  {
   "cell_type": "code",
   "execution_count": 40,
   "id": "driving-recording",
   "metadata": {
    "execution": {
     "iopub.execute_input": "2021-06-18T08:18:49.716607Z",
     "iopub.status.busy": "2021-06-18T08:18:49.715558Z",
     "iopub.status.idle": "2021-06-18T08:18:53.356046Z",
     "shell.execute_reply": "2021-06-18T08:18:53.355031Z",
     "shell.execute_reply.started": "2021-06-18T08:04:23.803358Z"
    },
    "papermill": {
     "duration": 3.725514,
     "end_time": "2021-06-18T08:18:53.356202",
     "exception": false,
     "start_time": "2021-06-18T08:18:49.630688",
     "status": "completed"
    },
    "tags": []
   },
   "outputs": [
    {
     "data": {
      "application/javascript": [
       "\n",
       "        if (window._pyforest_update_imports_cell) { window._pyforest_update_imports_cell('import seaborn as sns\\nimport matplotlib.pyplot as plt\\nimport numpy as np\\nimport pandas as pd'); }\n",
       "    "
      ],
      "text/plain": [
       "<IPython.core.display.Javascript object>"
      ]
     },
     "metadata": {},
     "output_type": "display_data"
    },
    {
     "data": {
      "application/javascript": [
       "\n",
       "        if (window._pyforest_update_imports_cell) { window._pyforest_update_imports_cell('import seaborn as sns\\nimport matplotlib.pyplot as plt\\nimport numpy as np\\nimport pandas as pd'); }\n",
       "    "
      ],
      "text/plain": [
       "<IPython.core.display.Javascript object>"
      ]
     },
     "metadata": {},
     "output_type": "display_data"
    },
    {
     "name": "stderr",
     "output_type": "stream",
     "text": [
      "/opt/conda/lib/python3.7/site-packages/seaborn/_decorators.py:43: FutureWarning: Pass the following variable as a keyword arg: x. From version 0.12, the only valid positional argument will be `data`, and passing other arguments without an explicit keyword will result in an error or misinterpretation.\n",
      "  FutureWarning\n"
     ]
    },
    {
     "data": {
      "image/png": "[encoded data removed]",
      "text/plain": [
       "<Figure size 2160x1440 with 1 Axes>"
      ]
     },
     "metadata": {
      "needs_background": "light"
     },
     "output_type": "display_data"
    }
   ],
   "source": [
    "sup = train[['product_rk', 'store_location_rk', 'date_']].groupby(by=['product_rk', 'store_location_rk']).min()\n",
    "sup = sup.sort_values('date_')\n",
    "plt.figure(figsize=(30,20))\n",
    "ax = sns.countplot(sup['date_'])\n",
    "_ = ax.set_xticklabels(ax.get_xticklabels(),rotation=90)"
   ]
  },
  {
   "cell_type": "code",
   "execution_count": 41,
   "id": "fantastic-sauce",
   "metadata": {
    "execution": {
     "iopub.execute_input": "2021-06-18T08:18:53.516735Z",
     "iopub.status.busy": "2021-06-18T08:18:53.516012Z",
     "iopub.status.idle": "2021-06-18T08:18:58.360283Z",
     "shell.execute_reply": "2021-06-18T08:18:58.360793Z",
     "shell.execute_reply.started": "2021-06-18T08:04:27.315524Z"
    },
    "papermill": {
     "duration": 4.927726,
     "end_time": "2021-06-18T08:18:58.360979",
     "exception": false,
     "start_time": "2021-06-18T08:18:53.433253",
     "status": "completed"
    },
    "tags": []
   },
   "outputs": [
    {
     "data": {
      "application/javascript": [
       "\n",
       "        if (window._pyforest_update_imports_cell) { window._pyforest_update_imports_cell('import seaborn as sns\\nimport matplotlib.pyplot as plt\\nimport numpy as np\\nimport pandas as pd'); }\n",
       "    "
      ],
      "text/plain": [
       "<IPython.core.display.Javascript object>"
      ]
     },
     "metadata": {},
     "output_type": "display_data"
    },
    {
     "data": {
      "application/javascript": [
       "\n",
       "        if (window._pyforest_update_imports_cell) { window._pyforest_update_imports_cell('import seaborn as sns\\nimport matplotlib.pyplot as plt\\nimport numpy as np\\nimport pandas as pd'); }\n",
       "    "
      ],
      "text/plain": [
       "<IPython.core.display.Javascript object>"
      ]
     },
     "metadata": {},
     "output_type": "display_data"
    },
    {
     "data": {
      "image/png": "[encoded data removed]",
      "text/plain": [
       "<Figure size 1440x720 with 1 Axes>"
      ]
     },
     "metadata": {
      "needs_background": "light"
     },
     "output_type": "display_data"
    }
   ],
   "source": [
    "g = sns.relplot(data=train, x='date_', y='demand', kind='line',)\n",
    "g.fig.set_size_inches(20,10)\n",
    "_ = plt.title('График спроса по времени')"
   ]
  },
  {
   "cell_type": "markdown",
   "id": "differential-affair",
   "metadata": {
    "papermill": {
     "duration": 0.084239,
     "end_time": "2021-06-18T08:18:58.528533",
     "exception": false,
     "start_time": "2021-06-18T08:18:58.444294",
     "status": "completed"
    },
    "tags": []
   },
   "source": [
    "# Modeling"
   ]
  },
  {
   "cell_type": "code",
   "execution_count": 42,
   "id": "scheduled-telling",
   "metadata": {
    "execution": {
     "iopub.execute_input": "2021-06-18T08:18:58.701773Z",
     "iopub.status.busy": "2021-06-18T08:18:58.701053Z",
     "iopub.status.idle": "2021-06-18T08:18:58.704493Z",
     "shell.execute_reply": "2021-06-18T08:18:58.703917Z",
     "shell.execute_reply.started": "2021-06-18T08:04:32.183318Z"
    },
    "papermill": {
     "duration": 0.093029,
     "end_time": "2021-06-18T08:18:58.704641",
     "exception": false,
     "start_time": "2021-06-18T08:18:58.611612",
     "status": "completed"
    },
    "tags": []
   },
   "outputs": [],
   "source": [
    "cats = ['product_rk', 'store_location_rk']\n",
    "\n",
    "to_del = ['demand_for_week', 'date', 'date_']\n",
    "train.drop(columns=to_del, inplace=True)"
   ]
  },
  {
   "cell_type": "code",
   "execution_count": 43,
   "id": "first-album",
   "metadata": {
    "execution": {
     "iopub.execute_input": "2021-06-18T08:18:58.878066Z",
     "iopub.status.busy": "2021-06-18T08:18:58.877302Z",
     "iopub.status.idle": "2021-06-18T08:18:58.882211Z",
     "shell.execute_reply": "2021-06-18T08:18:58.882755Z",
     "shell.execute_reply.started": "2021-06-18T08:04:32.191320Z"
    },
    "papermill": {
     "duration": 0.095343,
     "end_time": "2021-06-18T08:18:58.882947",
     "exception": false,
     "start_time": "2021-06-18T08:18:58.787604",
     "status": "completed"
    },
    "tags": []
   },
   "outputs": [],
   "source": [
    "del test['date']\n",
    "del test['date_']\n",
    "del train['take']\n",
    "\n",
    "target = train['demand']\n",
    "del train['demand']"
   ]
  },
  {
   "cell_type": "code",
   "execution_count": 44,
   "id": "visible-formation",
   "metadata": {
    "execution": {
     "iopub.execute_input": "2021-06-18T08:18:59.058644Z",
     "iopub.status.busy": "2021-06-18T08:18:59.057638Z",
     "iopub.status.idle": "2021-06-18T08:18:59.062321Z",
     "shell.execute_reply": "2021-06-18T08:18:59.061657Z",
     "shell.execute_reply.started": "2021-06-18T08:04:32.213965Z"
    },
    "papermill": {
     "duration": 0.094288,
     "end_time": "2021-06-18T08:18:59.062462",
     "exception": false,
     "start_time": "2021-06-18T08:18:58.968174",
     "status": "completed"
    },
    "tags": []
   },
   "outputs": [
    {
     "data": {
      "text/plain": [
       "Index(['product_rk', 'store_location_rk', 'PROMO1_FLAG', 'PROMO2_FLAG',\n",
       "       'PRICE_REGULAR', 'PRICE_AFTER_DISC', 'NUM_CONSULTANT',\n",
       "       'AUTORIZATION_FLAG', 'day_of_year', 'month', 'day_of_week',\n",
       "       'week_of_year', 'year', 'peaks', 'reg_type'],\n",
       "      dtype='object')"
      ]
     },
     "execution_count": 44,
     "metadata": {},
     "output_type": "execute_result"
    }
   ],
   "source": [
    "train.columns"
   ]
  },
  {
   "cell_type": "code",
   "execution_count": 45,
   "id": "plastic-locator",
   "metadata": {
    "execution": {
     "iopub.execute_input": "2021-06-18T08:18:59.238358Z",
     "iopub.status.busy": "2021-06-18T08:18:59.237589Z",
     "iopub.status.idle": "2021-06-18T08:18:59.312520Z",
     "shell.execute_reply": "2021-06-18T08:18:59.311546Z",
     "shell.execute_reply.started": "2021-06-18T08:04:32.230528Z"
    },
    "papermill": {
     "duration": 0.1648,
     "end_time": "2021-06-18T08:18:59.312718",
     "exception": false,
     "start_time": "2021-06-18T08:18:59.147918",
     "status": "completed"
    },
    "tags": []
   },
   "outputs": [
    {
     "name": "stderr",
     "output_type": "stream",
     "text": [
      "/opt/conda/lib/python3.7/site-packages/category_encoders/utils.py:21: FutureWarning: is_categorical is deprecated and will be removed in a future version.  Use is_categorical_dtype instead\n",
      "  elif pd.api.types.is_categorical(cols):\n"
     ]
    }
   ],
   "source": [
    "encoder = TargetEncoder(cols=cats)\n",
    "#numeric\n",
    "train = encoder.fit_transform(train, target).copy()\n",
    "test = encoder.transform(test).copy()"
   ]
  },
  {
   "cell_type": "code",
   "execution_count": 46,
   "id": "designed-zambia",
   "metadata": {
    "execution": {
     "iopub.execute_input": "2021-06-18T08:18:59.491760Z",
     "iopub.status.busy": "2021-06-18T08:18:59.490890Z",
     "iopub.status.idle": "2021-06-18T08:18:59.712068Z",
     "shell.execute_reply": "2021-06-18T08:18:59.712694Z",
     "shell.execute_reply.started": "2021-06-18T08:04:32.319045Z"
    },
    "papermill": {
     "duration": 0.313594,
     "end_time": "2021-06-18T08:18:59.712903",
     "exception": false,
     "start_time": "2021-06-18T08:18:59.399309",
     "status": "completed"
    },
    "tags": []
   },
   "outputs": [],
   "source": [
    "regressor =LGBMRegressor().fit(train, target)\n",
    "y_pred = regressor.predict(test)"
   ]
  },
  {
   "cell_type": "code",
   "execution_count": 47,
   "id": "italic-joining",
   "metadata": {
    "execution": {
     "iopub.execute_input": "2021-06-18T08:18:59.893430Z",
     "iopub.status.busy": "2021-06-18T08:18:59.892743Z",
     "iopub.status.idle": "2021-06-18T08:18:59.894968Z",
     "shell.execute_reply": "2021-06-18T08:18:59.895464Z",
     "shell.execute_reply.started": "2021-06-18T08:04:32.498953Z"
    },
    "papermill": {
     "duration": 0.090901,
     "end_time": "2021-06-18T08:18:59.895655",
     "exception": false,
     "start_time": "2021-06-18T08:18:59.804754",
     "status": "completed"
    },
    "tags": []
   },
   "outputs": [],
   "source": [
    "answer = dict(zip(index_answer, y_pred.tolist()))\n",
    "sample_sub['demand'] = sample_sub['index'].apply(lambda x: answer[x])"
   ]
  },
  {
   "cell_type": "code",
   "execution_count": 48,
   "id": "considerable-spank",
   "metadata": {
    "execution": {
     "iopub.execute_input": "2021-06-18T08:19:00.066588Z",
     "iopub.status.busy": "2021-06-18T08:19:00.065661Z",
     "iopub.status.idle": "2021-06-18T08:19:00.080014Z",
     "shell.execute_reply": "2021-06-18T08:19:00.079450Z",
     "shell.execute_reply.started": "2021-06-18T08:04:32.507763Z"
    },
    "papermill": {
     "duration": 0.102044,
     "end_time": "2021-06-18T08:19:00.080157",
     "exception": false,
     "start_time": "2021-06-18T08:18:59.978113",
     "status": "completed"
    },
    "tags": []
   },
   "outputs": [
    {
     "data": {
      "text/html": [
       "<div>\n",
       "<style scoped>\n",
       "    .dataframe tbody tr th:only-of-type {\n",
       "        vertical-align: middle;\n",
       "    }\n",
       "\n",
       "    .dataframe tbody tr th {\n",
       "        vertical-align: top;\n",
       "    }\n",
       "\n",
       "    .dataframe thead th {\n",
       "        text-align: right;\n",
       "    }\n",
       "</style>\n",
       "<table border=\"1\" class=\"dataframe\">\n",
       "  <thead>\n",
       "    <tr style=\"text-align: right;\">\n",
       "      <th></th>\n",
       "      <th>index</th>\n",
       "      <th>demand</th>\n",
       "    </tr>\n",
       "  </thead>\n",
       "  <tbody>\n",
       "    <tr>\n",
       "      <th>0</th>\n",
       "      <td>902</td>\n",
       "      <td>1.129661</td>\n",
       "    </tr>\n",
       "    <tr>\n",
       "      <th>1</th>\n",
       "      <td>1163</td>\n",
       "      <td>1.103364</td>\n",
       "    </tr>\n",
       "    <tr>\n",
       "      <th>2</th>\n",
       "      <td>1167</td>\n",
       "      <td>1.017077</td>\n",
       "    </tr>\n",
       "    <tr>\n",
       "      <th>3</th>\n",
       "      <td>1172</td>\n",
       "      <td>1.256426</td>\n",
       "    </tr>\n",
       "    <tr>\n",
       "      <th>4</th>\n",
       "      <td>1202</td>\n",
       "      <td>0.983806</td>\n",
       "    </tr>\n",
       "    <tr>\n",
       "      <th>...</th>\n",
       "      <td>...</td>\n",
       "      <td>...</td>\n",
       "    </tr>\n",
       "    <tr>\n",
       "      <th>523</th>\n",
       "      <td>209593</td>\n",
       "      <td>1.128121</td>\n",
       "    </tr>\n",
       "    <tr>\n",
       "      <th>524</th>\n",
       "      <td>209594</td>\n",
       "      <td>1.186195</td>\n",
       "    </tr>\n",
       "    <tr>\n",
       "      <th>525</th>\n",
       "      <td>209595</td>\n",
       "      <td>1.183447</td>\n",
       "    </tr>\n",
       "    <tr>\n",
       "      <th>526</th>\n",
       "      <td>209596</td>\n",
       "      <td>1.183447</td>\n",
       "    </tr>\n",
       "    <tr>\n",
       "      <th>527</th>\n",
       "      <td>209597</td>\n",
       "      <td>1.058445</td>\n",
       "    </tr>\n",
       "  </tbody>\n",
       "</table>\n",
       "<p>528 rows × 2 columns</p>\n",
       "</div>"
      ],
      "text/plain": [
       "      index    demand\n",
       "0       902  1.129661\n",
       "1      1163  1.103364\n",
       "2      1167  1.017077\n",
       "3      1172  1.256426\n",
       "4      1202  0.983806\n",
       "..      ...       ...\n",
       "523  209593  1.128121\n",
       "524  209594  1.186195\n",
       "525  209595  1.183447\n",
       "526  209596  1.183447\n",
       "527  209597  1.058445\n",
       "\n",
       "[528 rows x 2 columns]"
      ]
     },
     "execution_count": 48,
     "metadata": {},
     "output_type": "execute_result"
    }
   ],
   "source": [
    "sample_sub"
   ]
  },
  {
   "cell_type": "code",
   "execution_count": 49,
   "id": "miniature-detail",
   "metadata": {
    "execution": {
     "iopub.execute_input": "2021-06-18T08:19:00.251010Z",
     "iopub.status.busy": "2021-06-18T08:19:00.250383Z",
     "iopub.status.idle": "2021-06-18T08:19:00.259922Z",
     "shell.execute_reply": "2021-06-18T08:19:00.258571Z",
     "shell.execute_reply.started": "2021-06-18T08:04:32.529508Z"
    },
    "papermill": {
     "duration": 0.096779,
     "end_time": "2021-06-18T08:19:00.260091",
     "exception": false,
     "start_time": "2021-06-18T08:19:00.163312",
     "status": "completed"
    },
    "tags": []
   },
   "outputs": [],
   "source": [
    "sample_sub.to_csv(\"task_2.csv\", index = False)"
   ]
  }
 ],
 "metadata": {
  "kernelspec": {
   "display_name": "Python 3",
   "language": "python",
   "name": "python3"
  },
  "language_info": {
   "codemirror_mode": {
    "name": "ipython",
    "version": 3
   },
   "file_extension": ".py",
   "mimetype": "text/x-python",
   "name": "python",
   "nbconvert_exporter": "python",
   "pygments_lexer": "ipython3",
   "version": "3.7.10"
  },
  "papermill": {
   "default_parameters": {},
   "duration": 95.770634,
   "end_time": "2021-06-18T08:19:01.253167",
   "environment_variables": {},
   "exception": null,
   "input_path": "__notebook__.ipynb",
   "output_path": "__notebook__.ipynb",
   "parameters": {},
   "start_time": "2021-06-18T08:17:25.482533",
   "version": "2.3.3"
  }
 },
 "nbformat": 4,
 "nbformat_minor": 5
}
